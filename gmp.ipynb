{
 "cells": [
  {
   "cell_type": "code",
   "execution_count": 11,
   "id": "0ddb5eff",
   "metadata": {},
   "outputs": [
    {
     "name": "stdout",
     "output_type": "stream",
     "text": [
      "   Id   ProductId          UserId                      ProfileName  \\\n",
      "0   1  B001E4KFG0  A3SGXH7AUHU8GW                       delmartian   \n",
      "1   2  B00813GRG4  A1D87F6ZCVE5NK                           dll pa   \n",
      "2   3  B000LQOCH0   ABXLMWJIXXAIN  Natalia Corres \"Natalia Corres\"   \n",
      "3   4  B000UA0QIQ  A395BORC6FGVXV                             Karl   \n",
      "4   5  B006K2ZZ7K  A1UQRSCLF8GW1T    Michael D. Bigham \"M. Wassir\"   \n",
      "\n",
      "   HelpfulnessNumerator  HelpfulnessDenominator  Score        Time  \\\n",
      "0                     1                       1      5  1303862400   \n",
      "1                     0                       0      1  1346976000   \n",
      "2                     1                       1      4  1219017600   \n",
      "3                     3                       3      2  1307923200   \n",
      "4                     0                       0      5  1350777600   \n",
      "\n",
      "                 Summary                                               Text  \n",
      "0  Good Quality Dog Food  I have bought several of the Vitality canned d...  \n",
      "1      Not as Advertised  Product arrived labeled as Jumbo Salted Peanut...  \n",
      "2  \"Delight\" says it all  This is a confection that has been around a fe...  \n",
      "3         Cough Medicine  If you are looking for the secret ingredient i...  \n",
      "4            Great taffy  Great taffy at a great price.  There was a wid...  \n"
     ]
    }
   ],
   "source": [
    "import pandas as pd\n",
    "\n",
    "# Replace 'your_dataset.csv' with the path to your CSV file\n",
    "pm = pd.read_csv(r\"C:\\Users\\Gopi krishna\\Downloads\\archive (33)\\Reviews.csv\")\n",
    "\n",
    "# Display the first few rows of the dataset\n",
    "print(df.head())\n"
   ]
  },
  {
   "cell_type": "code",
   "execution_count": 12,
   "id": "0cbdfaa5",
   "metadata": {},
   "outputs": [
    {
     "data": {
      "text/plain": [
       "Id                         0\n",
       "ProductId                  0\n",
       "UserId                     0\n",
       "ProfileName               26\n",
       "HelpfulnessNumerator       0\n",
       "HelpfulnessDenominator     0\n",
       "Score                      0\n",
       "Time                       0\n",
       "Summary                   27\n",
       "Text                       0\n",
       "dtype: int64"
      ]
     },
     "execution_count": 12,
     "metadata": {},
     "output_type": "execute_result"
    }
   ],
   "source": [
    "pm.isnull().sum()"
   ]
  },
  {
   "cell_type": "code",
   "execution_count": 13,
   "id": "09ed4ddc",
   "metadata": {},
   "outputs": [
    {
     "data": {
      "text/plain": [
       "<bound method DataFrame.info of             Id   ProductId          UserId                      ProfileName  \\\n",
       "0            1  B001E4KFG0  A3SGXH7AUHU8GW                       delmartian   \n",
       "1            2  B00813GRG4  A1D87F6ZCVE5NK                           dll pa   \n",
       "2            3  B000LQOCH0   ABXLMWJIXXAIN  Natalia Corres \"Natalia Corres\"   \n",
       "3            4  B000UA0QIQ  A395BORC6FGVXV                             Karl   \n",
       "4            5  B006K2ZZ7K  A1UQRSCLF8GW1T    Michael D. Bigham \"M. Wassir\"   \n",
       "...        ...         ...             ...                              ...   \n",
       "568449  568450  B001EO7N10  A28KG5XORO54AY                 Lettie D. Carter   \n",
       "568450  568451  B003S1WTCU  A3I8AFVPEE8KI5                        R. Sawyer   \n",
       "568451  568452  B004I613EE  A121AA1GQV751Z                    pksd \"pk_007\"   \n",
       "568452  568453  B004I613EE   A3IBEVCTXKNOH          Kathy A. Welch \"katwel\"   \n",
       "568453  568454  B001LR2CU2  A3LGQPJCZVL9UC                         srfell17   \n",
       "\n",
       "        HelpfulnessNumerator  HelpfulnessDenominator  Score        Time  \\\n",
       "0                          1                       1      5  1303862400   \n",
       "1                          0                       0      1  1346976000   \n",
       "2                          1                       1      4  1219017600   \n",
       "3                          3                       3      2  1307923200   \n",
       "4                          0                       0      5  1350777600   \n",
       "...                      ...                     ...    ...         ...   \n",
       "568449                     0                       0      5  1299628800   \n",
       "568450                     0                       0      2  1331251200   \n",
       "568451                     2                       2      5  1329782400   \n",
       "568452                     1                       1      5  1331596800   \n",
       "568453                     0                       0      5  1338422400   \n",
       "\n",
       "                                   Summary  \\\n",
       "0                    Good Quality Dog Food   \n",
       "1                        Not as Advertised   \n",
       "2                    \"Delight\" says it all   \n",
       "3                           Cough Medicine   \n",
       "4                              Great taffy   \n",
       "...                                    ...   \n",
       "568449                 Will not do without   \n",
       "568450                        disappointed   \n",
       "568451            Perfect for our maltipoo   \n",
       "568452  Favorite Training and reward treat   \n",
       "568453                         Great Honey   \n",
       "\n",
       "                                                     Text  \n",
       "0       I have bought several of the Vitality canned d...  \n",
       "1       Product arrived labeled as Jumbo Salted Peanut...  \n",
       "2       This is a confection that has been around a fe...  \n",
       "3       If you are looking for the secret ingredient i...  \n",
       "4       Great taffy at a great price.  There was a wid...  \n",
       "...                                                   ...  \n",
       "568449  Great for sesame chicken..this is a good if no...  \n",
       "568450  I'm disappointed with the flavor. The chocolat...  \n",
       "568451  These stars are small, so you can give 10-15 o...  \n",
       "568452  These are the BEST treats for training and rew...  \n",
       "568453  I am very satisfied ,product is as advertised,...  \n",
       "\n",
       "[568454 rows x 10 columns]>"
      ]
     },
     "execution_count": 13,
     "metadata": {},
     "output_type": "execute_result"
    }
   ],
   "source": [
    "pm.info"
   ]
  },
  {
   "cell_type": "code",
   "execution_count": 2,
   "id": "cc158bc4",
   "metadata": {},
   "outputs": [
    {
     "name": "stdout",
     "output_type": "stream",
     "text": [
      "   id   age  gender         country diagnosis_date cancer_stage  \\\n",
      "0   1  64.0  Female         Germany     2016-04-07    Stage III   \n",
      "1   2  50.0    Male  Czech Republic     2023-04-22    Stage III   \n",
      "2   3  65.0    Male         Romania     2023-04-07     Stage IV   \n",
      "3   4  51.0  Female          Latvia     2016-02-07    Stage III   \n",
      "4   5  37.0    Male          Greece     2023-12-01      Stage I   \n",
      "\n",
      "  beginning_of_treatment_date family_history  smoking_status   bmi  \\\n",
      "0                  2016-04-21             No    Never Smoked  31.1   \n",
      "1                  2023-05-02            Yes  Passive Smoker  25.9   \n",
      "2                  2023-04-12             No    Never Smoked  18.9   \n",
      "3                  2016-02-13            Yes   Former Smoker  34.6   \n",
      "4                  2023-12-03            Yes    Never Smoked  40.2   \n",
      "\n",
      "   cholesterol_level  hypertension  asthma  cirrhosis  other_cancer  \\\n",
      "0                257             1       1          0             0   \n",
      "1                208             1       0          0             0   \n",
      "2                193             0       0          0             0   \n",
      "3                249             1       1          1             0   \n",
      "4                262             0       0          0             0   \n",
      "\n",
      "  treatment_type end_treatment_date  survived  \n",
      "0       Combined         2017-11-15         0  \n",
      "1      Radiation         2024-04-25         0  \n",
      "2        Surgery         2025-03-11         0  \n",
      "3        Surgery         2017-04-14         1  \n",
      "4   Chemotherapy         2024-09-20         0  \n"
     ]
    }
   ],
   "source": [
    "import pandas as pd\n",
    "\n",
    "df = pd.read_csv(r'C:\\Users\\Gopi krishna\\Downloads\\archive (31)\\lung_cancer_mortality_data_large_v2.csv')\n",
    "\n",
    "print(df.head())\n"
   ]
  },
  {
   "cell_type": "code",
   "execution_count": 4,
   "id": "8231679f",
   "metadata": {},
   "outputs": [
    {
     "name": "stdout",
     "output_type": "stream",
     "text": [
      "   step      type    amount     nameOrig  oldbalanceOrg  newbalanceOrig  \\\n",
      "0     1   PAYMENT   9839.64  C1231006815       170136.0       160296.36   \n",
      "1     1   PAYMENT   1864.28  C1666544295        21249.0        19384.72   \n",
      "2     1  TRANSFER    181.00  C1305486145          181.0            0.00   \n",
      "3     1  CASH_OUT    181.00   C840083671          181.0            0.00   \n",
      "4     1   PAYMENT  11668.14  C2048537720        41554.0        29885.86   \n",
      "\n",
      "      nameDest  oldbalanceDest  newbalanceDest  isFraud  isFlaggedFraud  \n",
      "0  M1979787155             0.0             0.0        0               0  \n",
      "1  M2044282225             0.0             0.0        0               0  \n",
      "2   C553264065             0.0             0.0        1               0  \n",
      "3    C38997010         21182.0             0.0        1               0  \n",
      "4  M1230701703             0.0             0.0        0               0  \n"
     ]
    }
   ],
   "source": [
    "import pandas as pd\n",
    "\n",
    "# Replace 'your_dataset.csv' with the path to your CSV file\n",
    "ps = pd.read_csv(r\"C:\\Users\\Gopi krishna\\Downloads\\archive (32)\\PS_20174392719_1491204439457_log.csv\")\n",
    "\n",
    "# Display the first few rows of the dataset\n",
    "print(df.head())\n"
   ]
  },
  {
   "cell_type": "code",
   "execution_count": 6,
   "id": "79b1466b",
   "metadata": {},
   "outputs": [
    {
     "data": {
      "text/plain": [
       "step              0\n",
       "type              0\n",
       "amount            0\n",
       "nameOrig          0\n",
       "oldbalanceOrg     0\n",
       "newbalanceOrig    0\n",
       "nameDest          0\n",
       "oldbalanceDest    0\n",
       "newbalanceDest    0\n",
       "isFraud           0\n",
       "isFlaggedFraud    0\n",
       "dtype: int64"
      ]
     },
     "execution_count": 6,
     "metadata": {},
     "output_type": "execute_result"
    }
   ],
   "source": [
    "ps.isnull().sum()"
   ]
  },
  {
   "cell_type": "code",
   "execution_count": 7,
   "id": "9942e242",
   "metadata": {},
   "outputs": [
    {
     "data": {
      "text/plain": [
       "step              0\n",
       "type              0\n",
       "amount            0\n",
       "nameOrig          0\n",
       "oldbalanceOrg     0\n",
       "newbalanceOrig    0\n",
       "nameDest          0\n",
       "oldbalanceDest    0\n",
       "newbalanceDest    0\n",
       "isFraud           0\n",
       "isFlaggedFraud    0\n",
       "dtype: int64"
      ]
     },
     "execution_count": 7,
     "metadata": {},
     "output_type": "execute_result"
    }
   ],
   "source": [
    "df.isnull().sum()"
   ]
  },
  {
   "cell_type": "code",
   "execution_count": 8,
   "id": "205ff226",
   "metadata": {},
   "outputs": [
    {
     "data": {
      "text/plain": [
       "<bound method DataFrame.info of          step      type      amount     nameOrig  oldbalanceOrg  \\\n",
       "0           1   PAYMENT     9839.64  C1231006815      170136.00   \n",
       "1           1   PAYMENT     1864.28  C1666544295       21249.00   \n",
       "2           1  TRANSFER      181.00  C1305486145         181.00   \n",
       "3           1  CASH_OUT      181.00   C840083671         181.00   \n",
       "4           1   PAYMENT    11668.14  C2048537720       41554.00   \n",
       "...       ...       ...         ...          ...            ...   \n",
       "6362615   743  CASH_OUT   339682.13   C786484425      339682.13   \n",
       "6362616   743  TRANSFER  6311409.28  C1529008245     6311409.28   \n",
       "6362617   743  CASH_OUT  6311409.28  C1162922333     6311409.28   \n",
       "6362618   743  TRANSFER   850002.52  C1685995037      850002.52   \n",
       "6362619   743  CASH_OUT   850002.52  C1280323807      850002.52   \n",
       "\n",
       "         newbalanceOrig     nameDest  oldbalanceDest  newbalanceDest  isFraud  \\\n",
       "0             160296.36  M1979787155            0.00            0.00        0   \n",
       "1              19384.72  M2044282225            0.00            0.00        0   \n",
       "2                  0.00   C553264065            0.00            0.00        1   \n",
       "3                  0.00    C38997010        21182.00            0.00        1   \n",
       "4              29885.86  M1230701703            0.00            0.00        0   \n",
       "...                 ...          ...             ...             ...      ...   \n",
       "6362615            0.00   C776919290            0.00       339682.13        1   \n",
       "6362616            0.00  C1881841831            0.00            0.00        1   \n",
       "6362617            0.00  C1365125890        68488.84      6379898.11        1   \n",
       "6362618            0.00  C2080388513            0.00            0.00        1   \n",
       "6362619            0.00   C873221189      6510099.11      7360101.63        1   \n",
       "\n",
       "         isFlaggedFraud  \n",
       "0                     0  \n",
       "1                     0  \n",
       "2                     0  \n",
       "3                     0  \n",
       "4                     0  \n",
       "...                 ...  \n",
       "6362615               0  \n",
       "6362616               0  \n",
       "6362617               0  \n",
       "6362618               0  \n",
       "6362619               0  \n",
       "\n",
       "[6362620 rows x 11 columns]>"
      ]
     },
     "execution_count": 8,
     "metadata": {},
     "output_type": "execute_result"
    }
   ],
   "source": [
    "df.info"
   ]
  },
  {
   "cell_type": "code",
   "execution_count": 9,
   "id": "db3cfc55",
   "metadata": {},
   "outputs": [
    {
     "data": {
      "text/plain": [
       "<bound method DataFrame.info of          step      type      amount     nameOrig  oldbalanceOrg  \\\n",
       "0           1   PAYMENT     9839.64  C1231006815      170136.00   \n",
       "1           1   PAYMENT     1864.28  C1666544295       21249.00   \n",
       "2           1  TRANSFER      181.00  C1305486145         181.00   \n",
       "3           1  CASH_OUT      181.00   C840083671         181.00   \n",
       "4           1   PAYMENT    11668.14  C2048537720       41554.00   \n",
       "...       ...       ...         ...          ...            ...   \n",
       "6362615   743  CASH_OUT   339682.13   C786484425      339682.13   \n",
       "6362616   743  TRANSFER  6311409.28  C1529008245     6311409.28   \n",
       "6362617   743  CASH_OUT  6311409.28  C1162922333     6311409.28   \n",
       "6362618   743  TRANSFER   850002.52  C1685995037      850002.52   \n",
       "6362619   743  CASH_OUT   850002.52  C1280323807      850002.52   \n",
       "\n",
       "         newbalanceOrig     nameDest  oldbalanceDest  newbalanceDest  isFraud  \\\n",
       "0             160296.36  M1979787155            0.00            0.00        0   \n",
       "1              19384.72  M2044282225            0.00            0.00        0   \n",
       "2                  0.00   C553264065            0.00            0.00        1   \n",
       "3                  0.00    C38997010        21182.00            0.00        1   \n",
       "4              29885.86  M1230701703            0.00            0.00        0   \n",
       "...                 ...          ...             ...             ...      ...   \n",
       "6362615            0.00   C776919290            0.00       339682.13        1   \n",
       "6362616            0.00  C1881841831            0.00            0.00        1   \n",
       "6362617            0.00  C1365125890        68488.84      6379898.11        1   \n",
       "6362618            0.00  C2080388513            0.00            0.00        1   \n",
       "6362619            0.00   C873221189      6510099.11      7360101.63        1   \n",
       "\n",
       "         isFlaggedFraud  \n",
       "0                     0  \n",
       "1                     0  \n",
       "2                     0  \n",
       "3                     0  \n",
       "4                     0  \n",
       "...                 ...  \n",
       "6362615               0  \n",
       "6362616               0  \n",
       "6362617               0  \n",
       "6362618               0  \n",
       "6362619               0  \n",
       "\n",
       "[6362620 rows x 11 columns]>"
      ]
     },
     "execution_count": 9,
     "metadata": {},
     "output_type": "execute_result"
    }
   ],
   "source": [
    "ps.info"
   ]
  },
  {
   "cell_type": "code",
   "execution_count": 19,
   "id": "871f73be",
   "metadata": {},
   "outputs": [
    {
     "ename": "ModuleNotFoundError",
     "evalue": "No module named 'lifelines'",
     "output_type": "error",
     "traceback": [
      "\u001b[1;31m---------------------------------------------------------------------------\u001b[0m",
      "\u001b[1;31mModuleNotFoundError\u001b[0m                       Traceback (most recent call last)",
      "Cell \u001b[1;32mIn[19], line 5\u001b[0m\n\u001b[0;32m      3\u001b[0m \u001b[38;5;28;01mimport\u001b[39;00m \u001b[38;5;21;01mmatplotlib\u001b[39;00m\u001b[38;5;21;01m.\u001b[39;00m\u001b[38;5;21;01mpyplot\u001b[39;00m \u001b[38;5;28;01mas\u001b[39;00m \u001b[38;5;21;01mplt\u001b[39;00m\n\u001b[0;32m      4\u001b[0m \u001b[38;5;28;01mimport\u001b[39;00m \u001b[38;5;21;01mseaborn\u001b[39;00m \u001b[38;5;28;01mas\u001b[39;00m \u001b[38;5;21;01msns\u001b[39;00m\n\u001b[1;32m----> 5\u001b[0m \u001b[38;5;28;01mfrom\u001b[39;00m \u001b[38;5;21;01mlifelines\u001b[39;00m \u001b[38;5;28;01mimport\u001b[39;00m KaplanMeierFitter, CoxPHFitter\n\u001b[0;32m      6\u001b[0m \u001b[38;5;28;01mfrom\u001b[39;00m \u001b[38;5;21;01msklearn\u001b[39;00m\u001b[38;5;21;01m.\u001b[39;00m\u001b[38;5;21;01mpreprocessing\u001b[39;00m \u001b[38;5;28;01mimport\u001b[39;00m LabelEncoder\n\u001b[0;32m      7\u001b[0m \u001b[38;5;28;01mfrom\u001b[39;00m \u001b[38;5;21;01msklearn\u001b[39;00m\u001b[38;5;21;01m.\u001b[39;00m\u001b[38;5;21;01mmodel_selection\u001b[39;00m \u001b[38;5;28;01mimport\u001b[39;00m train_test_split\n",
      "\u001b[1;31mModuleNotFoundError\u001b[0m: No module named 'lifelines'"
     ]
    }
   ],
   "source": [
    "import pandas as pd\n",
    "import numpy as np\n",
    "import matplotlib.pyplot as plt\n",
    "import seaborn as sns\n",
    "from lifelines import KaplanMeierFitter, CoxPHFitter\n",
    "from sklearn.preprocessing import LabelEncoder\n",
    "from sklearn.model_selection import train_test_split\n",
    "from sklearn.linear_model import LogisticRegression\n",
    "from sklearn.metrics import classification_report, confusion_matrix\n"
   ]
  },
  {
   "cell_type": "code",
   "execution_count": 20,
   "id": "2670478b",
   "metadata": {},
   "outputs": [
    {
     "name": "stdout",
     "output_type": "stream",
     "text": [
      "   id   age  gender         country diagnosis_date cancer_stage  \\\n",
      "0   1  64.0  Female         Germany     2016-04-07    Stage III   \n",
      "1   2  50.0    Male  Czech Republic     2023-04-22    Stage III   \n",
      "2   3  65.0    Male         Romania     2023-04-07     Stage IV   \n",
      "3   4  51.0  Female          Latvia     2016-02-07    Stage III   \n",
      "4   5  37.0    Male          Greece     2023-12-01      Stage I   \n",
      "\n",
      "  beginning_of_treatment_date family_history  smoking_status   bmi  \\\n",
      "0                  2016-04-21             No    Never Smoked  31.1   \n",
      "1                  2023-05-02            Yes  Passive Smoker  25.9   \n",
      "2                  2023-04-12             No    Never Smoked  18.9   \n",
      "3                  2016-02-13            Yes   Former Smoker  34.6   \n",
      "4                  2023-12-03            Yes    Never Smoked  40.2   \n",
      "\n",
      "   cholesterol_level  hypertension  asthma  cirrhosis  other_cancer  \\\n",
      "0                257             1       1          0             0   \n",
      "1                208             1       0          0             0   \n",
      "2                193             0       0          0             0   \n",
      "3                249             1       1          1             0   \n",
      "4                262             0       0          0             0   \n",
      "\n",
      "  treatment_type end_treatment_date  survived  \n",
      "0       Combined         2017-11-15         0  \n",
      "1      Radiation         2024-04-25         0  \n",
      "2        Surgery         2025-03-11         0  \n",
      "3        Surgery         2017-04-14         1  \n",
      "4   Chemotherapy         2024-09-20         0  \n"
     ]
    }
   ],
   "source": [
    "\n",
    "df = pd.read_csv(r'C:\\Users\\Gopi krishna\\Downloads\\archive (31)\\lung_cancer_mortality_data_large_v2.csv')\n",
    "\n",
    "print(df.head())\n"
   ]
  },
  {
   "cell_type": "code",
   "execution_count": 21,
   "id": "56fd6bed",
   "metadata": {},
   "outputs": [
    {
     "ename": "NameError",
     "evalue": "name 'lung_cancer_df' is not defined",
     "output_type": "error",
     "traceback": [
      "\u001b[1;31m---------------------------------------------------------------------------\u001b[0m",
      "\u001b[1;31mNameError\u001b[0m                                 Traceback (most recent call last)",
      "Cell \u001b[1;32mIn[21], line 4\u001b[0m\n\u001b[0;32m      2\u001b[0m date_cols \u001b[38;5;241m=\u001b[39m [\u001b[38;5;124m'\u001b[39m\u001b[38;5;124mdiagnosis_date\u001b[39m\u001b[38;5;124m'\u001b[39m, \u001b[38;5;124m'\u001b[39m\u001b[38;5;124mbeginning_of_treatment_date\u001b[39m\u001b[38;5;124m'\u001b[39m, \u001b[38;5;124m'\u001b[39m\u001b[38;5;124mend_treatment_date\u001b[39m\u001b[38;5;124m'\u001b[39m]\n\u001b[0;32m      3\u001b[0m \u001b[38;5;28;01mfor\u001b[39;00m col \u001b[38;5;129;01min\u001b[39;00m date_cols:\n\u001b[1;32m----> 4\u001b[0m     lung_cancer_df[col] \u001b[38;5;241m=\u001b[39m pd\u001b[38;5;241m.\u001b[39mto_datetime(lung_cancer_df[col])\n\u001b[0;32m      6\u001b[0m \u001b[38;5;66;03m# Ensure categorical variables are properly encoded\u001b[39;00m\n\u001b[0;32m      7\u001b[0m categorical_cols \u001b[38;5;241m=\u001b[39m [\u001b[38;5;124m'\u001b[39m\u001b[38;5;124mgender\u001b[39m\u001b[38;5;124m'\u001b[39m, \u001b[38;5;124m'\u001b[39m\u001b[38;5;124mcountry\u001b[39m\u001b[38;5;124m'\u001b[39m, \u001b[38;5;124m'\u001b[39m\u001b[38;5;124mcancer_stage\u001b[39m\u001b[38;5;124m'\u001b[39m, \u001b[38;5;124m'\u001b[39m\u001b[38;5;124mfamily_history\u001b[39m\u001b[38;5;124m'\u001b[39m, \u001b[38;5;124m'\u001b[39m\u001b[38;5;124msmoking_status\u001b[39m\u001b[38;5;124m'\u001b[39m, \u001b[38;5;124m'\u001b[39m\u001b[38;5;124mtreatment_type\u001b[39m\u001b[38;5;124m'\u001b[39m]\n",
      "\u001b[1;31mNameError\u001b[0m: name 'lung_cancer_df' is not defined"
     ]
    }
   ],
   "source": [
    "# Convert date columns to datetime\n",
    "date_cols = ['diagnosis_date', 'beginning_of_treatment_date', 'end_treatment_date']\n",
    "for col in date_cols:\n",
    "    lung_cancer_df[col] = pd.to_datetime(lung_cancer_df[col])\n",
    "\n",
    "# Ensure categorical variables are properly encoded\n",
    "categorical_cols = ['gender', 'country', 'cancer_stage', 'family_history', 'smoking_status', 'treatment_type']\n",
    "lung_cancer_df[categorical_cols] = lung_cancer_df[categorical_cols].apply(lambda x: x.astype('category'))\n",
    "\n",
    "# Check for missing values\n",
    "print(lung_cancer_df.isnull().sum())\n"
   ]
  },
  {
   "cell_type": "code",
   "execution_count": 22,
   "id": "0fb07cb3",
   "metadata": {},
   "outputs": [
    {
     "ename": "NameError",
     "evalue": "name 'lung_cancer_df' is not defined",
     "output_type": "error",
     "traceback": [
      "\u001b[1;31m---------------------------------------------------------------------------\u001b[0m",
      "\u001b[1;31mNameError\u001b[0m                                 Traceback (most recent call last)",
      "Cell \u001b[1;32mIn[22], line 3\u001b[0m\n\u001b[0;32m      1\u001b[0m \u001b[38;5;66;03m# Age distribution\u001b[39;00m\n\u001b[0;32m      2\u001b[0m plt\u001b[38;5;241m.\u001b[39mfigure(figsize\u001b[38;5;241m=\u001b[39m(\u001b[38;5;241m10\u001b[39m,\u001b[38;5;241m6\u001b[39m))\n\u001b[1;32m----> 3\u001b[0m sns\u001b[38;5;241m.\u001b[39mhistplot(lung_cancer_df[\u001b[38;5;124m'\u001b[39m\u001b[38;5;124mage\u001b[39m\u001b[38;5;124m'\u001b[39m], bins\u001b[38;5;241m=\u001b[39m\u001b[38;5;241m20\u001b[39m, kde\u001b[38;5;241m=\u001b[39m\u001b[38;5;28;01mTrue\u001b[39;00m)\n\u001b[0;32m      4\u001b[0m plt\u001b[38;5;241m.\u001b[39mtitle(\u001b[38;5;124m'\u001b[39m\u001b[38;5;124mAge Distribution\u001b[39m\u001b[38;5;124m'\u001b[39m)\n\u001b[0;32m      5\u001b[0m plt\u001b[38;5;241m.\u001b[39mxlabel(\u001b[38;5;124m'\u001b[39m\u001b[38;5;124mAge\u001b[39m\u001b[38;5;124m'\u001b[39m)\n",
      "\u001b[1;31mNameError\u001b[0m: name 'lung_cancer_df' is not defined"
     ]
    },
    {
     "data": {
      "text/plain": [
       "<Figure size 1000x600 with 0 Axes>"
      ]
     },
     "metadata": {},
     "output_type": "display_data"
    }
   ],
   "source": [
    "# Age distribution\n",
    "plt.figure(figsize=(10,6))\n",
    "sns.histplot(lung_cancer_df['age'], bins=20, kde=True)\n",
    "plt.title('Age Distribution')\n",
    "plt.xlabel('Age')\n",
    "plt.ylabel('Frequency')\n",
    "plt.show()\n",
    "\n",
    "# Gender distribution\n",
    "plt.figure(figsize=(6,4))\n",
    "lung_cancer_df['gender'].value_counts().plot(kind='bar', color='skyblue')\n",
    "plt.title('Gender Distribution')\n",
    "plt.xlabel('Gender')\n",
    "plt.ylabel('Count')\n",
    "plt.show()\n",
    "\n",
    "# Cancer stage distribution\n",
    "plt.figure(figsize=(8,6))\n",
    "lung_cancer_df['cancer_stage'].value_counts().plot(kind='bar', color='salmon')\n",
    "plt.title('Cancer Stage at Diagnosis')\n",
    "plt.xlabel('Cancer Stage')\n",
    "plt.ylabel('Count')\n",
    "plt.show()\n",
    "\n",
    "# Smoking status distribution\n",
    "plt.figure(figsize=(8,6))\n",
    "lung_cancer_df['smoking_status'].value_counts().plot(kind='bar', color='green')\n",
    "plt.title('Smoking Status Distribution')\n",
    "plt.xlabel('Smoking Status')\n",
    "plt.ylabel('Count')\n",
    "plt.show()\n"
   ]
  },
  {
   "cell_type": "code",
   "execution_count": 23,
   "id": "56a7be46",
   "metadata": {},
   "outputs": [
    {
     "name": "stderr",
     "output_type": "stream",
     "text": [
      "Unable to create process using 'C:\\Users\\Gopi krishna\\anaconda3\\python.exe \"C:\\Users\\Gopi krishna\\anaconda3\\Scripts\\pip-script.py\" install lifelines'\n"
     ]
    }
   ],
   "source": [
    "!pip install lifelines\n"
   ]
  },
  {
   "cell_type": "code",
   "execution_count": 24,
   "id": "97f4ade1",
   "metadata": {},
   "outputs": [
    {
     "name": "stdout",
     "output_type": "stream",
     "text": [
      "Collecting lifelines\n",
      "  Obtaining dependency information for lifelines from https://files.pythonhosted.org/packages/14/f7/379e185a75ac8166ac70756d0ba68d9a2b02b555c7fde4983246752396bd/lifelines-0.30.0-py3-none-any.whl.metadata\n",
      "  Downloading lifelines-0.30.0-py3-none-any.whl.metadata (3.2 kB)\n",
      "Requirement already satisfied: numpy>=1.14.0 in c:\\users\\gopi krishna\\anaconda3\\lib\\site-packages (from lifelines) (1.24.3)\n",
      "Requirement already satisfied: scipy>=1.7.0 in c:\\users\\gopi krishna\\anaconda3\\lib\\site-packages (from lifelines) (1.11.1)\n",
      "Collecting pandas>=2.1 (from lifelines)\n",
      "  Obtaining dependency information for pandas>=2.1 from https://files.pythonhosted.org/packages/ed/8c/87ddf1fcb55d11f9f847e3c69bb1c6f8e46e2f40ab1a2d2abadb2401b007/pandas-2.2.3-cp311-cp311-win_amd64.whl.metadata\n",
      "  Downloading pandas-2.2.3-cp311-cp311-win_amd64.whl.metadata (19 kB)\n",
      "Requirement already satisfied: matplotlib>=3.0 in c:\\users\\gopi krishna\\anaconda3\\lib\\site-packages (from lifelines) (3.7.2)\n",
      "Collecting autograd>=1.5 (from lifelines)\n",
      "  Obtaining dependency information for autograd>=1.5 from https://files.pythonhosted.org/packages/6d/90/d13cf396989052cadd8511c1878b0913bbce28eeef5feb95710a92e03076/autograd-1.7.0-py3-none-any.whl.metadata\n",
      "  Downloading autograd-1.7.0-py3-none-any.whl.metadata (7.5 kB)\n",
      "Collecting autograd-gamma>=0.3 (from lifelines)\n",
      "  Downloading autograd-gamma-0.5.0.tar.gz (4.0 kB)\n",
      "  Preparing metadata (setup.py): started\n",
      "  Preparing metadata (setup.py): finished with status 'done'\n",
      "Collecting formulaic>=0.2.2 (from lifelines)\n",
      "  Obtaining dependency information for formulaic>=0.2.2 from https://files.pythonhosted.org/packages/f7/a3/eeb29e0dbfd6ef0bafd0b3107649e0b8a02b382265f5e9572c7bda22eeff/formulaic-1.0.2-py3-none-any.whl.metadata\n",
      "  Downloading formulaic-1.0.2-py3-none-any.whl.metadata (6.8 kB)\n",
      "Collecting interface-meta>=1.2.0 (from formulaic>=0.2.2->lifelines)\n",
      "  Obtaining dependency information for interface-meta>=1.2.0 from https://files.pythonhosted.org/packages/02/3f/a6ec28c88e2d8e54d32598a1e0b5208a4baa72a8e7f6e241beab5731eb9d/interface_meta-1.3.0-py3-none-any.whl.metadata\n",
      "  Downloading interface_meta-1.3.0-py3-none-any.whl.metadata (6.7 kB)\n",
      "Requirement already satisfied: typing-extensions>=4.2.0 in c:\\users\\gopi krishna\\anaconda3\\lib\\site-packages (from formulaic>=0.2.2->lifelines) (4.7.1)\n",
      "Requirement already satisfied: wrapt>=1.0 in c:\\users\\gopi krishna\\anaconda3\\lib\\site-packages (from formulaic>=0.2.2->lifelines) (1.14.1)\n",
      "Requirement already satisfied: contourpy>=1.0.1 in c:\\users\\gopi krishna\\anaconda3\\lib\\site-packages (from matplotlib>=3.0->lifelines) (1.0.5)\n",
      "Requirement already satisfied: cycler>=0.10 in c:\\users\\gopi krishna\\anaconda3\\lib\\site-packages (from matplotlib>=3.0->lifelines) (0.11.0)\n",
      "Requirement already satisfied: fonttools>=4.22.0 in c:\\users\\gopi krishna\\anaconda3\\lib\\site-packages (from matplotlib>=3.0->lifelines) (4.25.0)\n",
      "Requirement already satisfied: kiwisolver>=1.0.1 in c:\\users\\gopi krishna\\anaconda3\\lib\\site-packages (from matplotlib>=3.0->lifelines) (1.4.4)\n",
      "Requirement already satisfied: packaging>=20.0 in c:\\users\\gopi krishna\\anaconda3\\lib\\site-packages (from matplotlib>=3.0->lifelines) (23.1)\n",
      "Requirement already satisfied: pillow>=6.2.0 in c:\\users\\gopi krishna\\anaconda3\\lib\\site-packages (from matplotlib>=3.0->lifelines) (9.4.0)\n",
      "Requirement already satisfied: pyparsing<3.1,>=2.3.1 in c:\\users\\gopi krishna\\anaconda3\\lib\\site-packages (from matplotlib>=3.0->lifelines) (3.0.9)\n",
      "Requirement already satisfied: python-dateutil>=2.7 in c:\\users\\gopi krishna\\anaconda3\\lib\\site-packages (from matplotlib>=3.0->lifelines) (2.8.2)\n",
      "Requirement already satisfied: pytz>=2020.1 in c:\\users\\gopi krishna\\anaconda3\\lib\\site-packages (from pandas>=2.1->lifelines) (2023.3.post1)\n",
      "Requirement already satisfied: tzdata>=2022.7 in c:\\users\\gopi krishna\\anaconda3\\lib\\site-packages (from pandas>=2.1->lifelines) (2023.3)\n",
      "Requirement already satisfied: six>=1.5 in c:\\users\\gopi krishna\\anaconda3\\lib\\site-packages (from python-dateutil>=2.7->matplotlib>=3.0->lifelines) (1.16.0)\n",
      "Downloading lifelines-0.30.0-py3-none-any.whl (349 kB)\n",
      "   ---------------------------------------- 0.0/349.3 kB ? eta -:--:--\n",
      "   ---------------------- ----------------- 194.6/349.3 kB 5.9 MB/s eta 0:00:01\n",
      "   ---------------------------------------- 349.3/349.3 kB 5.4 MB/s eta 0:00:00\n",
      "Downloading autograd-1.7.0-py3-none-any.whl (52 kB)\n",
      "   ---------------------------------------- 0.0/52.5 kB ? eta -:--:--\n",
      "   ---------------------------------------- 52.5/52.5 kB 2.8 MB/s eta 0:00:00\n",
      "Downloading formulaic-1.0.2-py3-none-any.whl (94 kB)\n",
      "   ---------------------------------------- 0.0/94.5 kB ? eta -:--:--\n",
      "   ---------------------------------------- 94.5/94.5 kB ? eta 0:00:00\n",
      "Downloading pandas-2.2.3-cp311-cp311-win_amd64.whl (11.6 MB)\n",
      "   ---------------------------------------- 0.0/11.6 MB ? eta -:--:--\n",
      "   ----- ---------------------------------- 1.7/11.6 MB 36.2 MB/s eta 0:00:01\n",
      "   -------------- ------------------------- 4.3/11.6 MB 45.4 MB/s eta 0:00:01\n",
      "   ----------------- ---------------------- 5.1/11.6 MB 46.4 MB/s eta 0:00:01\n",
      "   ----------------------- ---------------- 6.7/11.6 MB 35.8 MB/s eta 0:00:01\n",
      "   ---------------------------------- ----- 10.0/11.6 MB 42.4 MB/s eta 0:00:01\n",
      "   ---------------------------------------  11.6/11.6 MB 46.7 MB/s eta 0:00:01\n",
      "   ---------------------------------------  11.6/11.6 MB 46.7 MB/s eta 0:00:01\n",
      "   ---------------------------------------- 11.6/11.6 MB 34.4 MB/s eta 0:00:00\n",
      "Downloading interface_meta-1.3.0-py3-none-any.whl (14 kB)\n",
      "Building wheels for collected packages: autograd-gamma\n",
      "  Building wheel for autograd-gamma (setup.py): started\n",
      "  Building wheel for autograd-gamma (setup.py): finished with status 'done'\n",
      "  Created wheel for autograd-gamma: filename=autograd_gamma-0.5.0-py3-none-any.whl size=4049 sha256=344dd707e465db946dacfff606e851f8e6f27a2788356ee4e1d7b010b8391d1d\n",
      "  Stored in directory: c:\\users\\gopi krishna\\appdata\\local\\pip\\cache\\wheels\\8b\\67\\f4\\2caaae2146198dcb824f31a303833b07b14a5ec863fb3acd7b\n",
      "Successfully built autograd-gamma\n",
      "Installing collected packages: interface-meta, autograd, pandas, autograd-gamma, formulaic, lifelines\n",
      "  Attempting uninstall: pandas\n",
      "    Found existing installation: pandas 2.0.3\n",
      "    Uninstalling pandas-2.0.3:\n",
      "      Successfully uninstalled pandas-2.0.3\n",
      "Successfully installed autograd-1.7.0 autograd-gamma-0.5.0 formulaic-1.0.2 interface-meta-1.3.0 lifelines-0.30.0 pandas-2.2.3\n",
      "Note: you may need to restart the kernel to use updated packages.\n"
     ]
    }
   ],
   "source": [
    "pip install lifelines\n"
   ]
  },
  {
   "cell_type": "code",
   "execution_count": 25,
   "id": "8ab807d3",
   "metadata": {},
   "outputs": [
    {
     "name": "stderr",
     "output_type": "stream",
     "text": [
      "Unable to create process using 'C:\\Users\\Gopi krishna\\anaconda3\\python.exe \"C:\\Users\\Gopi krishna\\anaconda3\\Scripts\\pip-script.py\" install lifelines'\n"
     ]
    }
   ],
   "source": [
    "!pip install lifelines\n"
   ]
  },
  {
   "cell_type": "code",
   "execution_count": 26,
   "id": "bfe04a72",
   "metadata": {},
   "outputs": [
    {
     "name": "stdout",
     "output_type": "stream",
     "text": [
      "\n",
      "Note: you may need to restart the kernel to use updated packages.\n"
     ]
    },
    {
     "name": "stderr",
     "output_type": "stream",
     "text": [
      "Unable to create process using 'C:\\Users\\Gopi krishna\\anaconda3\\python.exe \"C:\\Users\\Gopi krishna\\anaconda3\\Scripts\\conda-script.py\" install --yes --prefix C:\\Users\\Gopi krishna\\anaconda3 -c conda-forge lifelines'\n"
     ]
    }
   ],
   "source": [
    "conda install -c conda-forge lifelines\n"
   ]
  },
  {
   "cell_type": "code",
   "execution_count": 27,
   "id": "e3d5dbff",
   "metadata": {},
   "outputs": [
    {
     "name": "stdout",
     "output_type": "stream",
     "text": [
      "Error: The file 'lung_cancer_data.csv' was not found. Please check the file path.\n"
     ]
    },
    {
     "ename": "NameError",
     "evalue": "name 'lung_cancer_df' is not defined",
     "output_type": "error",
     "traceback": [
      "\u001b[1;31m---------------------------------------------------------------------------\u001b[0m",
      "\u001b[1;31mNameError\u001b[0m                                 Traceback (most recent call last)",
      "Cell \u001b[1;32mIn[27], line 29\u001b[0m\n\u001b[0;32m     26\u001b[0m     \u001b[38;5;28mprint\u001b[39m(\u001b[38;5;124m\"\u001b[39m\u001b[38;5;124mError: The file \u001b[39m\u001b[38;5;124m'\u001b[39m\u001b[38;5;124mlung_cancer_data.csv\u001b[39m\u001b[38;5;124m'\u001b[39m\u001b[38;5;124m was not found. Please check the file path.\u001b[39m\u001b[38;5;124m\"\u001b[39m)\n\u001b[0;32m     28\u001b[0m \u001b[38;5;66;03m# Display basic information about the dataset\u001b[39;00m\n\u001b[1;32m---> 29\u001b[0m \u001b[38;5;28mprint\u001b[39m(lung_cancer_df\u001b[38;5;241m.\u001b[39minfo())\n\u001b[0;32m     30\u001b[0m \u001b[38;5;28mprint\u001b[39m(lung_cancer_df\u001b[38;5;241m.\u001b[39mhead())\n\u001b[0;32m     32\u001b[0m \u001b[38;5;66;03m# =========================\u001b[39;00m\n\u001b[0;32m     33\u001b[0m \u001b[38;5;66;03m# 2. Data Preprocessing\u001b[39;00m\n\u001b[0;32m     34\u001b[0m \u001b[38;5;66;03m# =========================\u001b[39;00m\n\u001b[0;32m     35\u001b[0m \n\u001b[0;32m     36\u001b[0m \u001b[38;5;66;03m# Convert date columns to datetime\u001b[39;00m\n",
      "\u001b[1;31mNameError\u001b[0m: name 'lung_cancer_df' is not defined"
     ]
    }
   ],
   "source": [
    "# If you're using a Jupyter notebook, uncomment the following line to install lifelines\n",
    "# !pip install lifelines\n",
    "\n",
    "import pandas as pd\n",
    "import numpy as np\n",
    "import matplotlib.pyplot as plt\n",
    "import seaborn as sns\n",
    "\n",
    "# Import lifelines modules after ensuring it's installed\n",
    "from lifelines import KaplanMeierFitter, CoxPHFitter\n",
    "\n",
    "from sklearn.preprocessing import LabelEncoder\n",
    "from sklearn.model_selection import train_test_split\n",
    "from sklearn.linear_model import LogisticRegression\n",
    "from sklearn.metrics import classification_report, confusion_matrix\n",
    "\n",
    "# =========================\n",
    "# 1. Load the Dataset\n",
    "# =========================\n",
    "\n",
    "# Replace 'lung_cancer_data.csv' with your actual data file path\n",
    "try:\n",
    "    lung_cancer_df = pd.read_csv('lung_cancer_mortality_data_large_v2.csv')\n",
    "    print(\"Dataset loaded successfully.\")\n",
    "except FileNotFoundError:\n",
    "    print(\"Error: The file 'lung_cancer_data.csv' was not found. Please check the file path.\")\n",
    "\n",
    "# Display basic information about the dataset\n",
    "print(lung_cancer_df.info())\n",
    "print(lung_cancer_df.head())\n",
    "\n",
    "# =========================\n",
    "# 2. Data Preprocessing\n",
    "# =========================\n",
    "\n",
    "# Convert date columns to datetime\n",
    "date_cols = ['diagnosis_date', 'beginning_of_treatment_date', 'end_treatment_date']\n",
    "for col in date_cols:\n",
    "    if col in lung_cancer_df.columns:\n",
    "        lung_cancer_df[col] = pd.to_datetime(lung_cancer_df[col], errors='coerce')\n",
    "    else:\n",
    "        print(f\"Warning: Column '{col}' not found in the dataset.\")\n",
    "\n",
    "# Ensure categorical variables are properly encoded\n",
    "categorical_cols = ['gender', 'country', 'cancer_stage', 'family_history', 'smoking_status', 'treatment_type']\n",
    "for col in categorical_cols:\n",
    "    if col in lung_cancer_df.columns:\n",
    "        lung_cancer_df[col] = lung_cancer_df[col].astype('category')\n",
    "    else:\n",
    "        print(f\"Warning: Column '{col}' not found in the dataset.\")\n",
    "\n",
    "# Check for missing values\n",
    "print(\"\\nMissing Values in Each Column:\")\n",
    "print(lung_cancer_df.isnull().sum())\n",
    "\n",
    "# =========================\n",
    "# 3. Data Visualization\n",
    "# =========================\n",
    "\n",
    "# Age distribution\n",
    "if 'age' in lung_cancer_df.columns:\n",
    "    plt.figure(figsize=(10,6))\n",
    "    sns.histplot(lung_cancer_df['age'].dropna(), bins=20, kde=True, color='blue')\n",
    "    plt.title('Age Distribution')\n",
    "    plt.xlabel('Age')\n",
    "    plt.ylabel('Frequency')\n",
    "    plt.show()\n",
    "else:\n",
    "    print(\"Warning: 'age' column not found in the dataset.\")\n",
    "\n",
    "# Gender distribution\n",
    "if 'gender' in lung_cancer_df.columns:\n",
    "    plt.figure(figsize=(6,4))\n",
    "    lung_cancer_df['gender'].value_counts().plot(kind='bar', color='skyblue')\n",
    "    plt.title('Gender Distribution')\n",
    "    plt.xlabel('Gender')\n",
    "    plt.ylabel('Count')\n",
    "    plt.show()\n",
    "else:\n",
    "    print(\"Warning: 'gender' column not found in the dataset.\")\n",
    "\n",
    "# Cancer stage distribution\n",
    "if 'cancer_stage' in lung_cancer_df.columns:\n",
    "    plt.figure(figsize=(8,6))\n",
    "    lung_cancer_df['cancer_stage'].value_counts().plot(kind='bar', color='salmon')\n",
    "    plt.title('Cancer Stage at Diagnosis')\n",
    "    plt.xlabel('Cancer Stage')\n",
    "    plt.ylabel('Count')\n",
    "    plt.show()\n",
    "else:\n",
    "    print(\"Warning: 'cancer_stage' column not found in the dataset.\")\n",
    "\n",
    "# Smoking status distribution\n",
    "if 'smoking_status' in lung_cancer_df.columns:\n",
    "    plt.figure(figsize=(8,6))\n",
    "    lung_cancer_df['smoking_status'].value_counts().plot(kind='bar', color='green')\n",
    "    plt.title('Smoking Status Distribution')\n",
    "    plt.xlabel('Smoking Status')\n",
    "    plt.ylabel('Count')\n",
    "    plt.show()\n",
    "else:\n",
    "    print(\"Warning: 'smoking_status' column not found in the dataset.\")\n"
   ]
  },
  {
   "cell_type": "code",
   "execution_count": 29,
   "id": "e0603b54",
   "metadata": {},
   "outputs": [
    {
     "ename": "SyntaxError",
     "evalue": "(unicode error) 'unicodeescape' codec can't decode bytes in position 2-3: truncated \\UXXXXXXXX escape (651460540.py, line 21)",
     "output_type": "error",
     "traceback": [
      "\u001b[1;36m  Cell \u001b[1;32mIn[29], line 21\u001b[1;36m\u001b[0m\n\u001b[1;33m    file_path = 'C:\\Users\\Gopi krishna\\Downloads\\archive (31)\\lung_cancer_mortality_data_large_v2.csv'  # Update this path accordingly\u001b[0m\n\u001b[1;37m                                                                                                        ^\u001b[0m\n\u001b[1;31mSyntaxError\u001b[0m\u001b[1;31m:\u001b[0m (unicode error) 'unicodeescape' codec can't decode bytes in position 2-3: truncated \\UXXXXXXXX escape\n"
     ]
    }
   ],
   "source": [
    "# Uncomment the following line if you haven't installed lifelines yet\n",
    "# !pip install lifelines\n",
    "\n",
    "import pandas as pd\n",
    "import numpy as np\n",
    "import matplotlib.pyplot as plt\n",
    "import seaborn as sns\n",
    "import os\n",
    "\n",
    "from lifelines import KaplanMeierFitter, CoxPHFitter\n",
    "from sklearn.preprocessing import LabelEncoder\n",
    "from sklearn.model_selection import train_test_split\n",
    "from sklearn.linear_model import LogisticRegression\n",
    "from sklearn.metrics import classification_report, confusion_matrix\n",
    "\n",
    "# =========================\n",
    "# 1. Load the Dataset\n",
    "# =========================\n",
    "\n",
    "# Specify the path to your CSV file\n",
    "file_path = 'C:\\Users\\Gopi krishna\\Downloads\\archive (31)\\lung_cancer_mortality_data_large_v2.csv'  # Update this path accordingly\n",
    "\n",
    "# Check if the file exists\n",
    "if os.path.exists(file_path):\n",
    "    try:\n",
    "        lung_cancer_df = pd.read_csv(file_path)\n",
    "        print(\"Dataset loaded successfully.\")\n",
    "    except Exception as e:\n",
    "        print(f\"Error loading the dataset: {e}\")\n",
    "else:\n",
    "    print(f\"Error: The file '{file_path}' was not found. Please check the file path.\")\n",
    "    # Optionally, create a sample DataFrame for testing\n",
    "    print(\"Creating a sample DataFrame for testing purposes.\")\n",
    "    data = {\n",
    "        'diagnosis_date': pd.date_range(start='2020-01-01', periods=100, freq='M'),\n",
    "        'beginning_of_treatment_date': pd.date_range(start='2020-02-01', periods=100, freq='M'),\n",
    "        'end_treatment_date': pd.date_range(start='2020-06-01', periods=100, freq='M'),\n",
    "        'gender': np.random.choice(['Male', 'Female'], size=100),\n",
    "        'country': np.random.choice(['USA', 'UK', 'Canada'], size=100),\n",
    "        'cancer_stage': np.random.choice(['I', 'II', 'III', 'IV'], size=100),\n",
    "        'family_history': np.random.choice(['Yes', 'No'], size=100),\n",
    "        'smoking_status': np.random.choice(['Smoker', 'Non-Smoker'], size=100),\n",
    "        'treatment_type': np.random.choice(['Chemotherapy', 'Radiation', 'Surgery'], size=100),\n",
    "        'age': np.random.randint(30, 80, size=100),\n",
    "        'outcome': np.random.choice(['Alive', 'Deceased'], size=100)\n",
    "    }\n",
    "    lung_cancer_df = pd.DataFrame(data)\n",
    "    print(\"Sample DataFrame created.\")\n",
    "    print(lung_cancer_df.head())\n",
    "\n",
    "# =========================\n",
    "# 2. Data Preprocessing\n",
    "# =========================\n",
    "\n",
    "# Convert date columns to datetime\n",
    "date_cols = ['diagnosis_date', 'beginning_of_treatment_date', 'end_treatment_date']\n",
    "for col in date_cols:\n",
    "    if col in lung_cancer_df.columns:\n",
    "        lung_cancer_df[col] = pd.to_datetime(lung_cancer_df[col], errors='coerce')\n",
    "    else:\n",
    "        print(f\"Warning: Column '{col}' not found in the dataset.\")\n",
    "\n",
    "# Ensure categorical variables are properly encoded\n",
    "categorical_cols = ['gender', 'country', 'cancer_stage', 'family_history', 'smoking_status', 'treatment_type']\n",
    "for col in categorical_cols:\n",
    "    if col in lung_cancer_df.columns:\n",
    "        lung_cancer_df[col] = lung_cancer_df[col].astype('category')\n",
    "    else:\n",
    "        print(f\"Warning: Column '{col}' not found in the dataset.\")\n",
    "\n",
    "# Check for missing values\n",
    "print(\"\\nMissing Values in Each Column:\")\n",
    "print(lung_cancer_df.isnull().sum())\n",
    "\n",
    "# Optionally, handle missing values here (e.g., imputation, removal)\n",
    "# Example: Remove rows with any missing values\n",
    "# lung_cancer_df.dropna(inplace=True)\n",
    "\n",
    "# =========================\n",
    "# 3. Data Visualization\n",
    "# =========================\n",
    "\n",
    "# Age distribution\n",
    "if 'age' in lung_cancer_df.columns:\n",
    "    plt.figure(figsize=(10,6))\n",
    "    sns.histplot(lung_cancer_df['age'].dropna(), bins=20, kde=True, color='blue')\n",
    "    plt.title('Age Distribution')\n",
    "    plt.xlabel('Age')\n",
    "    plt.ylabel('Frequency')\n",
    "    plt.show()\n",
    "else:\n",
    "    print(\"Warning: 'age' column not found in the dataset.\")\n",
    "\n",
    "# Gender distribution\n",
    "if 'gender' in lung_cancer_df.columns:\n",
    "    plt.figure(figsize=(6,4))\n",
    "    lung_cancer_df['gender'].value_counts().plot(kind='bar', color='skyblue')\n",
    "    plt.title('Gender Distribution')\n",
    "    plt.xlabel('Gender')\n",
    "    plt.ylabel('Count')\n",
    "    plt.show()\n",
    "else:\n",
    "    print(\"Warning: 'gender' column not found in the dataset.\")\n",
    "\n",
    "# Cancer stage distribution\n",
    "if 'cancer_stage' in lung_cancer_df.columns:\n",
    "    plt.figure(figsize=(8,6))\n",
    "    lung_cancer_df['cancer_stage'].value_counts().plot(kind='bar', color='salmon')\n",
    "    plt.title('Cancer Stage at Diagnosis')\n",
    "    plt.xlabel('Cancer Stage')\n",
    "    plt.ylabel('Count')\n",
    "    plt.show()\n",
    "else:\n",
    "    print(\"Warning: 'cancer_stage' column not found in the dataset.\")\n",
    "\n",
    "# Smoking status distribution\n",
    "if 'smoking_status' in lung_cancer_df.columns:\n",
    "    plt.figure(figsize=(8,6))\n",
    "    lung_cancer_df['smoking_status'].value_counts().plot(kind='bar', color='green')\n",
    "    plt.title('Smoking Status Distribution')\n",
    "    plt.xlabel('Smoking Status')\n",
    "    plt.ylabel('Count')\n",
    "    plt.show()\n",
    "else:\n",
    "    print(\"Warning: 'smoking_status' column not found in the dataset.\")\n",
    "\n",
    "# =========================\n",
    "# 4. Proceed with Further Analysis\n",
    "# =========================\n",
    "\n",
    "# Example: Survival Analysis with lifelines\n",
    "# Note: Ensure that the necessary columns for survival analysis are present\n",
    "\n",
    "# For demonstration, let's assume:\n",
    "# - 'end_treatment_date' as the event time\n",
    "# - 'outcome' as the event observed (1 if 'Deceased', 0 if 'Alive')\n",
    "\n",
    "if {'end_treatment_date', 'outcome'}.issubset(lung_cancer_df.columns):\n",
    "    # Prepare the data\n",
    "    lung_cancer_df['event_observed'] = lung_cancer_df['outcome'].apply(lambda x: 1 if x == 'Deceased' else 0)\n",
    "    lung_cancer_df['duration'] = (lung_cancer_df['end_treatment_date'] - lung_cancer_df['diagnosis_date']).dt.days\n",
    "\n",
    "    # Initialize Kaplan-Meier Fitter\n",
    "    kmf = KaplanMeierFitter()\n",
    "\n",
    "    # Fit the model\n",
    "    kmf.fit(durations=lung_cancer_df['duration'], event_observed=lung_cancer_df['event_observed'])\n",
    "\n",
    "    # Plot the survival function\n",
    "    plt.figure(figsize=(10,6))\n",
    "    kmf.plot_survival_function()\n",
    "    plt.title('Kaplan-Meier Survival Curve')\n",
    "    plt.xlabel('Time (days)')\n",
    "    plt.ylabel('Survival Probability')\n",
    "    plt.show()\n",
    "else:\n",
    "    print(\"Warning: Necessary columns for survival analysis ('end_treatment_date', 'outcome') not found.\")\n",
    "\n",
    "# Continue with other analyses as needed\n"
   ]
  },
  {
   "cell_type": "code",
   "execution_count": 31,
   "id": "e6694cd6",
   "metadata": {},
   "outputs": [
    {
     "name": "stdout",
     "output_type": "stream",
     "text": [
      "Dataset loaded successfully.\n",
      "\n",
      "Missing Values in Each Column:\n",
      "id                             0\n",
      "age                            0\n",
      "gender                         0\n",
      "country                        0\n",
      "diagnosis_date                 0\n",
      "cancer_stage                   0\n",
      "beginning_of_treatment_date    0\n",
      "family_history                 0\n",
      "smoking_status                 0\n",
      "bmi                            0\n",
      "cholesterol_level              0\n",
      "hypertension                   0\n",
      "asthma                         0\n",
      "cirrhosis                      0\n",
      "other_cancer                   0\n",
      "treatment_type                 0\n",
      "end_treatment_date             0\n",
      "survived                       0\n",
      "dtype: int64\n"
     ]
    },
    {
     "data": {
      "image/png": "[encoded data removed]",
      "text/plain": [
       "<Figure size 1000x600 with 1 Axes>"
      ]
     },
     "metadata": {},
     "output_type": "display_data"
    },
    {
     "ename": "ImportError",
     "evalue": "matplotlib is required for plotting when the default backend \"matplotlib\" is selected.",
     "output_type": "error",
     "traceback": [
      "\u001b[1;31m---------------------------------------------------------------------------\u001b[0m",
      "\u001b[1;31mImportError\u001b[0m                               Traceback (most recent call last)",
      "Cell \u001b[1;32mIn[31], line 97\u001b[0m\n\u001b[0;32m     95\u001b[0m \u001b[38;5;28;01mif\u001b[39;00m \u001b[38;5;124m'\u001b[39m\u001b[38;5;124mgender\u001b[39m\u001b[38;5;124m'\u001b[39m \u001b[38;5;129;01min\u001b[39;00m lung_cancer_df\u001b[38;5;241m.\u001b[39mcolumns:\n\u001b[0;32m     96\u001b[0m     plt\u001b[38;5;241m.\u001b[39mfigure(figsize\u001b[38;5;241m=\u001b[39m(\u001b[38;5;241m6\u001b[39m,\u001b[38;5;241m4\u001b[39m))\n\u001b[1;32m---> 97\u001b[0m     lung_cancer_df[\u001b[38;5;124m'\u001b[39m\u001b[38;5;124mgender\u001b[39m\u001b[38;5;124m'\u001b[39m]\u001b[38;5;241m.\u001b[39mvalue_counts()\u001b[38;5;241m.\u001b[39mplot(kind\u001b[38;5;241m=\u001b[39m\u001b[38;5;124m'\u001b[39m\u001b[38;5;124mbar\u001b[39m\u001b[38;5;124m'\u001b[39m, color\u001b[38;5;241m=\u001b[39m\u001b[38;5;124m'\u001b[39m\u001b[38;5;124mskyblue\u001b[39m\u001b[38;5;124m'\u001b[39m)\n\u001b[0;32m     98\u001b[0m     plt\u001b[38;5;241m.\u001b[39mtitle(\u001b[38;5;124m'\u001b[39m\u001b[38;5;124mGender Distribution\u001b[39m\u001b[38;5;124m'\u001b[39m)\n\u001b[0;32m     99\u001b[0m     plt\u001b[38;5;241m.\u001b[39mxlabel(\u001b[38;5;124m'\u001b[39m\u001b[38;5;124mGender\u001b[39m\u001b[38;5;124m'\u001b[39m)\n",
      "File \u001b[1;32m~\\anaconda3\\Lib\\site-packages\\pandas\\plotting\\_core.py:895\u001b[0m, in \u001b[0;36m__call__\u001b[1;34m(self, *args, **kwargs)\u001b[0m\n\u001b[0;32m    855\u001b[0m     arg_def \u001b[38;5;241m=\u001b[39m [\n\u001b[0;32m    856\u001b[0m         (\u001b[38;5;124m\"\u001b[39m\u001b[38;5;124mkind\u001b[39m\u001b[38;5;124m\"\u001b[39m, \u001b[38;5;124m\"\u001b[39m\u001b[38;5;124mline\u001b[39m\u001b[38;5;124m\"\u001b[39m),\n\u001b[0;32m    857\u001b[0m         (\u001b[38;5;124m\"\u001b[39m\u001b[38;5;124max\u001b[39m\u001b[38;5;124m\"\u001b[39m, \u001b[38;5;28;01mNone\u001b[39;00m),\n\u001b[1;32m   (...)\u001b[0m\n\u001b[0;32m    880\u001b[0m         (\u001b[38;5;124m\"\u001b[39m\u001b[38;5;124mylabel\u001b[39m\u001b[38;5;124m\"\u001b[39m, \u001b[38;5;28;01mNone\u001b[39;00m),\n\u001b[0;32m    881\u001b[0m     ]\n\u001b[0;32m    882\u001b[0m \u001b[38;5;28;01melif\u001b[39;00m \u001b[38;5;28misinstance\u001b[39m(data, ABCDataFrame):\n\u001b[0;32m    883\u001b[0m     arg_def \u001b[38;5;241m=\u001b[39m [\n\u001b[0;32m    884\u001b[0m         (\u001b[38;5;124m\"\u001b[39m\u001b[38;5;124mx\u001b[39m\u001b[38;5;124m\"\u001b[39m, \u001b[38;5;28;01mNone\u001b[39;00m),\n\u001b[0;32m    885\u001b[0m         (\u001b[38;5;124m\"\u001b[39m\u001b[38;5;124my\u001b[39m\u001b[38;5;124m\"\u001b[39m, \u001b[38;5;28;01mNone\u001b[39;00m),\n\u001b[0;32m    886\u001b[0m         (\u001b[38;5;124m\"\u001b[39m\u001b[38;5;124mkind\u001b[39m\u001b[38;5;124m\"\u001b[39m, \u001b[38;5;124m\"\u001b[39m\u001b[38;5;124mline\u001b[39m\u001b[38;5;124m\"\u001b[39m),\n\u001b[0;32m    887\u001b[0m         (\u001b[38;5;124m\"\u001b[39m\u001b[38;5;124max\u001b[39m\u001b[38;5;124m\"\u001b[39m, \u001b[38;5;28;01mNone\u001b[39;00m),\n\u001b[0;32m    888\u001b[0m         (\u001b[38;5;124m\"\u001b[39m\u001b[38;5;124msubplots\u001b[39m\u001b[38;5;124m\"\u001b[39m, \u001b[38;5;28;01mFalse\u001b[39;00m),\n\u001b[0;32m    889\u001b[0m         (\u001b[38;5;124m\"\u001b[39m\u001b[38;5;124msharex\u001b[39m\u001b[38;5;124m\"\u001b[39m, \u001b[38;5;28;01mNone\u001b[39;00m),\n\u001b[0;32m    890\u001b[0m         (\u001b[38;5;124m\"\u001b[39m\u001b[38;5;124msharey\u001b[39m\u001b[38;5;124m\"\u001b[39m, \u001b[38;5;28;01mFalse\u001b[39;00m),\n\u001b[0;32m    891\u001b[0m         (\u001b[38;5;124m\"\u001b[39m\u001b[38;5;124mlayout\u001b[39m\u001b[38;5;124m\"\u001b[39m, \u001b[38;5;28;01mNone\u001b[39;00m),\n\u001b[0;32m    892\u001b[0m         (\u001b[38;5;124m\"\u001b[39m\u001b[38;5;124mfigsize\u001b[39m\u001b[38;5;124m\"\u001b[39m, \u001b[38;5;28;01mNone\u001b[39;00m),\n\u001b[0;32m    893\u001b[0m         (\u001b[38;5;124m\"\u001b[39m\u001b[38;5;124muse_index\u001b[39m\u001b[38;5;124m\"\u001b[39m, \u001b[38;5;28;01mTrue\u001b[39;00m),\n\u001b[0;32m    894\u001b[0m         (\u001b[38;5;124m\"\u001b[39m\u001b[38;5;124mtitle\u001b[39m\u001b[38;5;124m\"\u001b[39m, \u001b[38;5;28;01mNone\u001b[39;00m),\n\u001b[1;32m--> 895\u001b[0m         (\u001b[38;5;124m\"\u001b[39m\u001b[38;5;124mgrid\u001b[39m\u001b[38;5;124m\"\u001b[39m, \u001b[38;5;28;01mNone\u001b[39;00m),\n\u001b[0;32m    896\u001b[0m         (\u001b[38;5;124m\"\u001b[39m\u001b[38;5;124mlegend\u001b[39m\u001b[38;5;124m\"\u001b[39m, \u001b[38;5;28;01mTrue\u001b[39;00m),\n\u001b[0;32m    897\u001b[0m         (\u001b[38;5;124m\"\u001b[39m\u001b[38;5;124mstyle\u001b[39m\u001b[38;5;124m\"\u001b[39m, \u001b[38;5;28;01mNone\u001b[39;00m),\n\u001b[0;32m    898\u001b[0m         (\u001b[38;5;124m\"\u001b[39m\u001b[38;5;124mlogx\u001b[39m\u001b[38;5;124m\"\u001b[39m, \u001b[38;5;28;01mFalse\u001b[39;00m),\n\u001b[0;32m    899\u001b[0m         (\u001b[38;5;124m\"\u001b[39m\u001b[38;5;124mlogy\u001b[39m\u001b[38;5;124m\"\u001b[39m, \u001b[38;5;28;01mFalse\u001b[39;00m),\n\u001b[0;32m    900\u001b[0m         (\u001b[38;5;124m\"\u001b[39m\u001b[38;5;124mloglog\u001b[39m\u001b[38;5;124m\"\u001b[39m, \u001b[38;5;28;01mFalse\u001b[39;00m),\n\u001b[0;32m    901\u001b[0m         (\u001b[38;5;124m\"\u001b[39m\u001b[38;5;124mxticks\u001b[39m\u001b[38;5;124m\"\u001b[39m, \u001b[38;5;28;01mNone\u001b[39;00m),\n\u001b[0;32m    902\u001b[0m         (\u001b[38;5;124m\"\u001b[39m\u001b[38;5;124myticks\u001b[39m\u001b[38;5;124m\"\u001b[39m, \u001b[38;5;28;01mNone\u001b[39;00m),\n\u001b[0;32m    903\u001b[0m         (\u001b[38;5;124m\"\u001b[39m\u001b[38;5;124mxlim\u001b[39m\u001b[38;5;124m\"\u001b[39m, \u001b[38;5;28;01mNone\u001b[39;00m),\n\u001b[0;32m    904\u001b[0m         (\u001b[38;5;124m\"\u001b[39m\u001b[38;5;124mylim\u001b[39m\u001b[38;5;124m\"\u001b[39m, \u001b[38;5;28;01mNone\u001b[39;00m),\n\u001b[0;32m    905\u001b[0m         (\u001b[38;5;124m\"\u001b[39m\u001b[38;5;124mrot\u001b[39m\u001b[38;5;124m\"\u001b[39m, \u001b[38;5;28;01mNone\u001b[39;00m),\n\u001b[0;32m    906\u001b[0m         (\u001b[38;5;124m\"\u001b[39m\u001b[38;5;124mfontsize\u001b[39m\u001b[38;5;124m\"\u001b[39m, \u001b[38;5;28;01mNone\u001b[39;00m),\n\u001b[0;32m    907\u001b[0m         (\u001b[38;5;124m\"\u001b[39m\u001b[38;5;124mcolormap\u001b[39m\u001b[38;5;124m\"\u001b[39m, \u001b[38;5;28;01mNone\u001b[39;00m),\n\u001b[0;32m    908\u001b[0m         (\u001b[38;5;124m\"\u001b[39m\u001b[38;5;124mtable\u001b[39m\u001b[38;5;124m\"\u001b[39m, \u001b[38;5;28;01mFalse\u001b[39;00m),\n\u001b[0;32m    909\u001b[0m         (\u001b[38;5;124m\"\u001b[39m\u001b[38;5;124myerr\u001b[39m\u001b[38;5;124m\"\u001b[39m, \u001b[38;5;28;01mNone\u001b[39;00m),\n\u001b[0;32m    910\u001b[0m         (\u001b[38;5;124m\"\u001b[39m\u001b[38;5;124mxerr\u001b[39m\u001b[38;5;124m\"\u001b[39m, \u001b[38;5;28;01mNone\u001b[39;00m),\n\u001b[0;32m    911\u001b[0m         (\u001b[38;5;124m\"\u001b[39m\u001b[38;5;124msecondary_y\u001b[39m\u001b[38;5;124m\"\u001b[39m, \u001b[38;5;28;01mFalse\u001b[39;00m),\n\u001b[0;32m    912\u001b[0m         (\u001b[38;5;124m\"\u001b[39m\u001b[38;5;124mxlabel\u001b[39m\u001b[38;5;124m\"\u001b[39m, \u001b[38;5;28;01mNone\u001b[39;00m),\n\u001b[0;32m    913\u001b[0m         (\u001b[38;5;124m\"\u001b[39m\u001b[38;5;124mylabel\u001b[39m\u001b[38;5;124m\"\u001b[39m, \u001b[38;5;28;01mNone\u001b[39;00m),\n\u001b[0;32m    914\u001b[0m     ]\n\u001b[0;32m    915\u001b[0m \u001b[38;5;28;01melse\u001b[39;00m:\n\u001b[0;32m    916\u001b[0m     \u001b[38;5;28;01mraise\u001b[39;00m \u001b[38;5;167;01mTypeError\u001b[39;00m(\n\u001b[0;32m    917\u001b[0m         \u001b[38;5;124mf\u001b[39m\u001b[38;5;124m\"\u001b[39m\u001b[38;5;124mCalled plot accessor for type \u001b[39m\u001b[38;5;132;01m{\u001b[39;00m\u001b[38;5;28mtype\u001b[39m(data)\u001b[38;5;241m.\u001b[39m\u001b[38;5;18m__name__\u001b[39m\u001b[38;5;132;01m}\u001b[39;00m\u001b[38;5;124m, \u001b[39m\u001b[38;5;124m\"\u001b[39m\n\u001b[0;32m    918\u001b[0m         \u001b[38;5;124m\"\u001b[39m\u001b[38;5;124mexpected Series or DataFrame\u001b[39m\u001b[38;5;124m\"\u001b[39m\n\u001b[0;32m    919\u001b[0m     )\n",
      "File \u001b[1;32m~\\anaconda3\\Lib\\site-packages\\pandas\\plotting\\_core.py:1862\u001b[0m, in \u001b[0;36m_get_plot_backend\u001b[1;34m(backend)\u001b[0m\n\u001b[0;32m   1851\u001b[0m \u001b[38;5;28;01mdef\u001b[39;00m \u001b[38;5;21m_load_backend\u001b[39m(backend: \u001b[38;5;28mstr\u001b[39m) \u001b[38;5;241m-\u001b[39m\u001b[38;5;241m>\u001b[39m types\u001b[38;5;241m.\u001b[39mModuleType:\n\u001b[0;32m   1852\u001b[0m \u001b[38;5;250m    \u001b[39m\u001b[38;5;124;03m\"\"\"\u001b[39;00m\n\u001b[0;32m   1853\u001b[0m \u001b[38;5;124;03m    Load a pandas plotting backend.\u001b[39;00m\n\u001b[0;32m   1854\u001b[0m \n\u001b[0;32m   1855\u001b[0m \u001b[38;5;124;03m    Parameters\u001b[39;00m\n\u001b[0;32m   1856\u001b[0m \u001b[38;5;124;03m    ----------\u001b[39;00m\n\u001b[0;32m   1857\u001b[0m \u001b[38;5;124;03m    backend : str\u001b[39;00m\n\u001b[0;32m   1858\u001b[0m \u001b[38;5;124;03m        The identifier for the backend. Either an entrypoint item registered\u001b[39;00m\n\u001b[0;32m   1859\u001b[0m \u001b[38;5;124;03m        with importlib.metadata, \"matplotlib\", or a module name.\u001b[39;00m\n\u001b[0;32m   1860\u001b[0m \n\u001b[0;32m   1861\u001b[0m \u001b[38;5;124;03m    Returns\u001b[39;00m\n\u001b[1;32m-> 1862\u001b[0m \u001b[38;5;124;03m    -------\u001b[39;00m\n\u001b[0;32m   1863\u001b[0m \u001b[38;5;124;03m    types.ModuleType\u001b[39;00m\n\u001b[0;32m   1864\u001b[0m \u001b[38;5;124;03m        The imported backend.\u001b[39;00m\n\u001b[0;32m   1865\u001b[0m \u001b[38;5;124;03m    \"\"\"\u001b[39;00m\n\u001b[0;32m   1866\u001b[0m     \u001b[38;5;28;01mfrom\u001b[39;00m \u001b[38;5;21;01mimportlib\u001b[39;00m\u001b[38;5;21;01m.\u001b[39;00m\u001b[38;5;21;01mmetadata\u001b[39;00m \u001b[38;5;28;01mimport\u001b[39;00m entry_points\n\u001b[0;32m   1868\u001b[0m     \u001b[38;5;28;01mif\u001b[39;00m backend \u001b[38;5;241m==\u001b[39m \u001b[38;5;124m\"\u001b[39m\u001b[38;5;124mmatplotlib\u001b[39m\u001b[38;5;124m\"\u001b[39m:\n\u001b[0;32m   1869\u001b[0m         \u001b[38;5;66;03m# Because matplotlib is an optional dependency and first-party backend,\u001b[39;00m\n\u001b[0;32m   1870\u001b[0m         \u001b[38;5;66;03m# we need to attempt an import here to raise an ImportError if needed.\u001b[39;00m\n",
      "File \u001b[1;32m~\\anaconda3\\Lib\\site-packages\\pandas\\plotting\\_core.py:1794\u001b[0m, in \u001b[0;36m_load_backend\u001b[1;34m(backend)\u001b[0m\n\u001b[0;32m   1750\u001b[0m \u001b[38;5;28;01mdef\u001b[39;00m \u001b[38;5;21mhexbin\u001b[39m(\n\u001b[0;32m   1751\u001b[0m     \u001b[38;5;28mself\u001b[39m,\n\u001b[0;32m   1752\u001b[0m     x: Hashable,\n\u001b[1;32m   (...)\u001b[0m\n\u001b[0;32m   1757\u001b[0m     \u001b[38;5;241m*\u001b[39m\u001b[38;5;241m*\u001b[39mkwargs,\n\u001b[0;32m   1758\u001b[0m ) \u001b[38;5;241m-\u001b[39m\u001b[38;5;241m>\u001b[39m PlotAccessor:\n\u001b[0;32m   1759\u001b[0m \u001b[38;5;250m    \u001b[39m\u001b[38;5;124;03m\"\"\"\u001b[39;00m\n\u001b[0;32m   1760\u001b[0m \u001b[38;5;124;03m    Generate a hexagonal binning plot.\u001b[39;00m\n\u001b[0;32m   1761\u001b[0m \n\u001b[0;32m   1762\u001b[0m \u001b[38;5;124;03m    Generate a hexagonal binning plot of `x` versus `y`. If `C` is `None`\u001b[39;00m\n\u001b[0;32m   1763\u001b[0m \u001b[38;5;124;03m    (the default), this is a histogram of the number of occurrences\u001b[39;00m\n\u001b[0;32m   1764\u001b[0m \u001b[38;5;124;03m    of the observations at ``(x[i], y[i])``.\u001b[39;00m\n\u001b[0;32m   1765\u001b[0m \n\u001b[0;32m   1766\u001b[0m \u001b[38;5;124;03m    If `C` is specified, specifies values at given coordinates\u001b[39;00m\n\u001b[0;32m   1767\u001b[0m \u001b[38;5;124;03m    ``(x[i], y[i])``. These values are accumulated for each hexagonal\u001b[39;00m\n\u001b[0;32m   1768\u001b[0m \u001b[38;5;124;03m    bin and then reduced according to `reduce_C_function`,\u001b[39;00m\n\u001b[0;32m   1769\u001b[0m \u001b[38;5;124;03m    having as default the NumPy's mean function (:meth:`numpy.mean`).\u001b[39;00m\n\u001b[0;32m   1770\u001b[0m \u001b[38;5;124;03m    (If `C` is specified, it must also be a 1-D sequence\u001b[39;00m\n\u001b[0;32m   1771\u001b[0m \u001b[38;5;124;03m    of the same length as `x` and `y`, or a column label.)\u001b[39;00m\n\u001b[0;32m   1772\u001b[0m \n\u001b[0;32m   1773\u001b[0m \u001b[38;5;124;03m    Parameters\u001b[39;00m\n\u001b[0;32m   1774\u001b[0m \u001b[38;5;124;03m    ----------\u001b[39;00m\n\u001b[0;32m   1775\u001b[0m \u001b[38;5;124;03m    x : int or str\u001b[39;00m\n\u001b[0;32m   1776\u001b[0m \u001b[38;5;124;03m        The column label or position for x points.\u001b[39;00m\n\u001b[0;32m   1777\u001b[0m \u001b[38;5;124;03m    y : int or str\u001b[39;00m\n\u001b[0;32m   1778\u001b[0m \u001b[38;5;124;03m        The column label or position for y points.\u001b[39;00m\n\u001b[0;32m   1779\u001b[0m \u001b[38;5;124;03m    C : int or str, optional\u001b[39;00m\n\u001b[0;32m   1780\u001b[0m \u001b[38;5;124;03m        The column label or position for the value of `(x, y)` point.\u001b[39;00m\n\u001b[0;32m   1781\u001b[0m \u001b[38;5;124;03m    reduce_C_function : callable, default `np.mean`\u001b[39;00m\n\u001b[0;32m   1782\u001b[0m \u001b[38;5;124;03m        Function of one argument that reduces all the values in a bin to\u001b[39;00m\n\u001b[0;32m   1783\u001b[0m \u001b[38;5;124;03m        a single number (e.g. `np.mean`, `np.max`, `np.sum`, `np.std`).\u001b[39;00m\n\u001b[0;32m   1784\u001b[0m \u001b[38;5;124;03m    gridsize : int or tuple of (int, int), default 100\u001b[39;00m\n\u001b[0;32m   1785\u001b[0m \u001b[38;5;124;03m        The number of hexagons in the x-direction.\u001b[39;00m\n\u001b[0;32m   1786\u001b[0m \u001b[38;5;124;03m        The corresponding number of hexagons in the y-direction is\u001b[39;00m\n\u001b[0;32m   1787\u001b[0m \u001b[38;5;124;03m        chosen in a way that the hexagons are approximately regular.\u001b[39;00m\n\u001b[0;32m   1788\u001b[0m \u001b[38;5;124;03m        Alternatively, gridsize can be a tuple with two elements\u001b[39;00m\n\u001b[0;32m   1789\u001b[0m \u001b[38;5;124;03m        specifying the number of hexagons in the x-direction and the\u001b[39;00m\n\u001b[0;32m   1790\u001b[0m \u001b[38;5;124;03m        y-direction.\u001b[39;00m\n\u001b[0;32m   1791\u001b[0m \u001b[38;5;124;03m    **kwargs\u001b[39;00m\n\u001b[0;32m   1792\u001b[0m \u001b[38;5;124;03m        Additional keyword arguments are documented in\u001b[39;00m\n\u001b[0;32m   1793\u001b[0m \u001b[38;5;124;03m        :meth:`DataFrame.plot`.\u001b[39;00m\n\u001b[1;32m-> 1794\u001b[0m \n\u001b[0;32m   1795\u001b[0m \u001b[38;5;124;03m    Returns\u001b[39;00m\n\u001b[0;32m   1796\u001b[0m \u001b[38;5;124;03m    -------\u001b[39;00m\n\u001b[0;32m   1797\u001b[0m \u001b[38;5;124;03m    matplotlib.AxesSubplot\u001b[39;00m\n\u001b[0;32m   1798\u001b[0m \u001b[38;5;124;03m        The matplotlib ``Axes`` on which the hexbin is plotted.\u001b[39;00m\n\u001b[0;32m   1799\u001b[0m \n\u001b[0;32m   1800\u001b[0m \u001b[38;5;124;03m    See Also\u001b[39;00m\n\u001b[0;32m   1801\u001b[0m \u001b[38;5;124;03m    --------\u001b[39;00m\n\u001b[0;32m   1802\u001b[0m \u001b[38;5;124;03m    DataFrame.plot : Make plots of a DataFrame.\u001b[39;00m\n\u001b[0;32m   1803\u001b[0m \u001b[38;5;124;03m    matplotlib.pyplot.hexbin : Hexagonal binning plot using matplotlib,\u001b[39;00m\n\u001b[0;32m   1804\u001b[0m \u001b[38;5;124;03m        the matplotlib function that is used under the hood.\u001b[39;00m\n\u001b[0;32m   1805\u001b[0m \n\u001b[0;32m   1806\u001b[0m \u001b[38;5;124;03m    Examples\u001b[39;00m\n\u001b[0;32m   1807\u001b[0m \u001b[38;5;124;03m    --------\u001b[39;00m\n\u001b[0;32m   1808\u001b[0m \u001b[38;5;124;03m    The following examples are generated with random data from\u001b[39;00m\n\u001b[0;32m   1809\u001b[0m \u001b[38;5;124;03m    a normal distribution.\u001b[39;00m\n\u001b[0;32m   1810\u001b[0m \n\u001b[0;32m   1811\u001b[0m \u001b[38;5;124;03m    .. plot::\u001b[39;00m\n\u001b[0;32m   1812\u001b[0m \u001b[38;5;124;03m        :context: close-figs\u001b[39;00m\n\u001b[0;32m   1813\u001b[0m \n\u001b[0;32m   1814\u001b[0m \u001b[38;5;124;03m        >>> n = 10000\u001b[39;00m\n\u001b[0;32m   1815\u001b[0m \u001b[38;5;124;03m        >>> df = pd.DataFrame({'x': np.random.randn(n),\u001b[39;00m\n\u001b[0;32m   1816\u001b[0m \u001b[38;5;124;03m        ...                    'y': np.random.randn(n)})\u001b[39;00m\n\u001b[0;32m   1817\u001b[0m \u001b[38;5;124;03m        >>> ax = df.plot.hexbin(x='x', y='y', gridsize=20)\u001b[39;00m\n\u001b[0;32m   1818\u001b[0m \n\u001b[0;32m   1819\u001b[0m \u001b[38;5;124;03m    The next example uses `C` and `np.sum` as `reduce_C_function`.\u001b[39;00m\n\u001b[0;32m   1820\u001b[0m \u001b[38;5;124;03m    Note that `'observations'` values ranges from 1 to 5 but the result\u001b[39;00m\n\u001b[0;32m   1821\u001b[0m \u001b[38;5;124;03m    plot shows values up to more than 25. This is because of the\u001b[39;00m\n\u001b[0;32m   1822\u001b[0m \u001b[38;5;124;03m    `reduce_C_function`.\u001b[39;00m\n\u001b[0;32m   1823\u001b[0m \n\u001b[0;32m   1824\u001b[0m \u001b[38;5;124;03m    .. plot::\u001b[39;00m\n\u001b[0;32m   1825\u001b[0m \u001b[38;5;124;03m        :context: close-figs\u001b[39;00m\n\u001b[0;32m   1826\u001b[0m \n\u001b[0;32m   1827\u001b[0m \u001b[38;5;124;03m        >>> n = 500\u001b[39;00m\n\u001b[0;32m   1828\u001b[0m \u001b[38;5;124;03m        >>> df = pd.DataFrame({\u001b[39;00m\n\u001b[0;32m   1829\u001b[0m \u001b[38;5;124;03m        ...     'coord_x': np.random.uniform(-3, 3, size=n),\u001b[39;00m\n\u001b[0;32m   1830\u001b[0m \u001b[38;5;124;03m        ...     'coord_y': np.random.uniform(30, 50, size=n),\u001b[39;00m\n\u001b[0;32m   1831\u001b[0m \u001b[38;5;124;03m        ...     'observations': np.random.randint(1,5, size=n)\u001b[39;00m\n\u001b[0;32m   1832\u001b[0m \u001b[38;5;124;03m        ...     })\u001b[39;00m\n\u001b[0;32m   1833\u001b[0m \u001b[38;5;124;03m        >>> ax = df.plot.hexbin(x='coord_x',\u001b[39;00m\n\u001b[0;32m   1834\u001b[0m \u001b[38;5;124;03m        ...                     y='coord_y',\u001b[39;00m\n\u001b[0;32m   1835\u001b[0m \u001b[38;5;124;03m        ...                     C='observations',\u001b[39;00m\n\u001b[0;32m   1836\u001b[0m \u001b[38;5;124;03m        ...                     reduce_C_function=np.sum,\u001b[39;00m\n\u001b[0;32m   1837\u001b[0m \u001b[38;5;124;03m        ...                     gridsize=10,\u001b[39;00m\n\u001b[0;32m   1838\u001b[0m \u001b[38;5;124;03m        ...                     cmap=\"viridis\")\u001b[39;00m\n\u001b[0;32m   1839\u001b[0m \u001b[38;5;124;03m    \"\"\"\u001b[39;00m\n\u001b[0;32m   1840\u001b[0m     \u001b[38;5;28;01mif\u001b[39;00m reduce_C_function \u001b[38;5;129;01mis\u001b[39;00m \u001b[38;5;129;01mnot\u001b[39;00m \u001b[38;5;28;01mNone\u001b[39;00m:\n\u001b[0;32m   1841\u001b[0m         kwargs[\u001b[38;5;124m\"\u001b[39m\u001b[38;5;124mreduce_C_function\u001b[39m\u001b[38;5;124m\"\u001b[39m] \u001b[38;5;241m=\u001b[39m reduce_C_function\n",
      "\u001b[1;31mImportError\u001b[0m: matplotlib is required for plotting when the default backend \"matplotlib\" is selected."
     ]
    },
    {
     "data": {
      "text/plain": [
       "<Figure size 600x400 with 0 Axes>"
      ]
     },
     "metadata": {},
     "output_type": "display_data"
    }
   ],
   "source": [
    "# Uncomment the following line if you haven't installed lifelines yet\n",
    "# !pip install lifelines\n",
    "\n",
    "import pandas as pd\n",
    "import numpy as np\n",
    "import matplotlib.pyplot as plt\n",
    "import seaborn as sns\n",
    "import os\n",
    "\n",
    "from lifelines import KaplanMeierFitter, CoxPHFitter\n",
    "from sklearn.preprocessing import LabelEncoder\n",
    "from sklearn.model_selection import train_test_split\n",
    "from sklearn.linear_model import LogisticRegression\n",
    "from sklearn.metrics import classification_report, confusion_matrix\n",
    "\n",
    "# =========================\n",
    "# 1. Load the Dataset\n",
    "# =========================\n",
    "\n",
    "# Specify the path to your CSV file\n",
    "file_path = 'C:/Users/Gopi krishna/Downloads/archive (31)/lung_cancer_mortality_data_large_v2.csv'\n",
    "\n",
    "# Check if the file exists\n",
    "if os.path.exists(file_path):\n",
    "    try:\n",
    "        lung_cancer_df = pd.read_csv(file_path)\n",
    "        print(\"Dataset loaded successfully.\")\n",
    "    except Exception as e:\n",
    "        print(f\"Error loading the dataset: {e}\")\n",
    "else:\n",
    "    print(f\"Error: The file '{file_path}' was not found. Please check the file path.\")\n",
    "    # Optionally, create a sample DataFrame for testing\n",
    "    print(\"Creating a sample DataFrame for testing purposes.\")\n",
    "    data = {\n",
    "        'diagnosis_date': pd.date_range(start='2020-01-01', periods=100, freq='M'),\n",
    "        'beginning_of_treatment_date': pd.date_range(start='2020-02-01', periods=100, freq='M'),\n",
    "        'end_treatment_date': pd.date_range(start='2020-06-01', periods=100, freq='M'),\n",
    "        'gender': np.random.choice(['Male', 'Female'], size=100),\n",
    "        'country': np.random.choice(['USA', 'UK', 'Canada'], size=100),\n",
    "        'cancer_stage': np.random.choice(['I', 'II', 'III', 'IV'], size=100),\n",
    "        'family_history': np.random.choice(['Yes', 'No'], size=100),\n",
    "        'smoking_status': np.random.choice(['Smoker', 'Non-Smoker'], size=100),\n",
    "        'treatment_type': np.random.choice(['Chemotherapy', 'Radiation', 'Surgery'], size=100),\n",
    "        'age': np.random.randint(30, 80, size=100),\n",
    "        'outcome': np.random.choice(['Alive', 'Deceased'], size=100)\n",
    "    }\n",
    "    lung_cancer_df = pd.DataFrame(data)\n",
    "    print(\"Sample DataFrame created.\")\n",
    "    print(lung_cancer_df.head())\n",
    "\n",
    "# =========================\n",
    "# 2. Data Preprocessing\n",
    "# =========================\n",
    "\n",
    "# Convert date columns to datetime\n",
    "date_cols = ['diagnosis_date', 'beginning_of_treatment_date', 'end_treatment_date']\n",
    "for col in date_cols:\n",
    "    if col in lung_cancer_df.columns:\n",
    "        lung_cancer_df[col] = pd.to_datetime(lung_cancer_df[col], errors='coerce')\n",
    "    else:\n",
    "        print(f\"Warning: Column '{col}' not found in the dataset.\")\n",
    "\n",
    "# Ensure categorical variables are properly encoded\n",
    "categorical_cols = ['gender', 'country', 'cancer_stage', 'family_history', 'smoking_status', 'treatment_type']\n",
    "for col in categorical_cols:\n",
    "    if col in lung_cancer_df.columns:\n",
    "        lung_cancer_df[col] = lung_cancer_df[col].astype('category')\n",
    "    else:\n",
    "        print(f\"Warning: Column '{col}' not found in the dataset.\")\n",
    "\n",
    "# Check for missing values\n",
    "print(\"\\nMissing Values in Each Column:\")\n",
    "print(lung_cancer_df.isnull().sum())\n",
    "\n",
    "# Optionally, handle missing values here (e.g., imputation, removal)\n",
    "# Example: Remove rows with any missing values\n",
    "# lung_cancer_df.dropna(inplace=True)\n",
    "\n",
    "# =========================\n",
    "# 3. Data Visualization\n",
    "# =========================\n",
    "\n",
    "# Age distribution\n",
    "if 'age' in lung_cancer_df.columns:\n",
    "    plt.figure(figsize=(10,6))\n",
    "    sns.histplot(lung_cancer_df['age'].dropna(), bins=20, kde=True, color='blue')\n",
    "    plt.title('Age Distribution')\n",
    "    plt.xlabel('Age')\n",
    "    plt.ylabel('Frequency')\n",
    "    plt.show()\n",
    "else:\n",
    "    print(\"Warning: 'age' column not found in the dataset.\")\n",
    "\n",
    "# Gender distribution\n",
    "if 'gender' in lung_cancer_df.columns:\n",
    "    plt.figure(figsize=(6,4))\n",
    "    lung_cancer_df['gender'].value_counts().plot(kind='bar', color='skyblue')\n",
    "    plt.title('Gender Distribution')\n",
    "    plt.xlabel('Gender')\n",
    "    plt.ylabel('Count')\n",
    "    plt.show()\n",
    "else:\n",
    "    print(\"Warning: 'gender' column not found in the dataset.\")\n",
    "\n",
    "# Cancer stage distribution\n",
    "if 'cancer_stage' in lung_cancer_df.columns:\n",
    "    plt.figure(figsize=(8,6))\n",
    "    lung_cancer_df['cancer_stage'].value_counts().plot(kind='bar', color='salmon')\n",
    "    plt.title('Cancer Stage at Diagnosis')\n",
    "    plt.xlabel('Cancer Stage')\n",
    "    plt.ylabel('Count')\n",
    "    plt.show()\n",
    "else:\n",
    "    print(\"Warning: 'cancer_stage' column not found in the dataset.\")\n",
    "\n",
    "# Smoking status distribution\n",
    "if 'smoking_status' in lung_cancer_df.columns:\n",
    "    plt.figure(figsize=(8,6))\n",
    "    lung_cancer_df['smoking_status'].value_counts().plot(kind='bar', color='green')\n",
    "    plt.title('Smoking Status Distribution')\n",
    "    plt.xlabel('Smoking Status')\n",
    "    plt.ylabel('Count')\n",
    "    plt.show()\n",
    "else:\n",
    "    print(\"Warning: 'smoking_status' column not found in the dataset.\")\n",
    "\n",
    "# =========================\n",
    "# 4. Proceed with Further Analysis\n",
    "# =========================\n",
    "\n",
    "# Example: Survival Analysis with lifelines\n",
    "# Note: Ensure that the necessary columns for survival analysis are present\n",
    "\n",
    "# For demonstration, let's assume:\n",
    "# - 'end_treatment_date' as the event time\n",
    "# - 'outcome' as the event observed (1 if 'Deceased', 0 if 'Alive')\n",
    "\n",
    "if {'end_treatment_date', 'outcome'}.issubset(lung_cancer_df.columns):\n",
    "    # Prepare the data\n",
    "    lung_cancer_df['event_observed'] = lung_cancer_df['outcome'].apply(lambda x: 1 if x == 'Deceased' else 0)\n",
    "    lung_cancer_df['duration'] = (lung_cancer_df['end_treatment_date'] - lung_cancer_df['diagnosis_date']).dt.days\n",
    "\n",
    "    # Initialize Kaplan-Meier Fitter\n",
    "    kmf = KaplanMeierFitter()\n",
    "\n",
    "    # Fit the model\n",
    "    kmf.fit(durations=lung_cancer_df['duration'], event_observed=lung_cancer_df['event_observed'])\n",
    "\n",
    "    # Plot the survival function\n",
    "    plt.figure(figsize=(10,6))\n",
    "    kmf.plot_survival_function()\n",
    "    plt.title('Kaplan-Meier Survival Curve')\n",
    "    plt.xlabel('Time (days)')\n",
    "    plt.ylabel('Survival Probability')\n",
    "    plt.show()\n",
    "else:\n",
    "    print(\"Warning: Necessary columns for survival analysis ('end_treatment_date', 'outcome') not found.\")\n",
    "\n",
    "# Continue with other analyses as needed\n"
   ]
  },
  {
   "cell_type": "code",
   "execution_count": 32,
   "id": "92aec253",
   "metadata": {},
   "outputs": [],
   "source": [
    "# If you're using a Jupyter notebook, uncomment the following line to install lifelines\n",
    "# !pip install lifelines\n",
    "\n",
    "import pandas as pd\n",
    "import numpy as np\n",
    "import matplotlib.pyplot as plt\n",
    "import seaborn as sns\n",
    "\n",
    "# Import lifelines modules after ensuring it's installed\n",
    "from lifelines import KaplanMeierFitter, CoxPHFitter\n",
    "\n",
    "from sklearn.preprocessing import LabelEncoder\n",
    "from sklearn.model_selection import train_test_split\n",
    "from sklearn.linear_model import LogisticRegression\n",
    "from sklearn.metrics import classification_report, confusion_matrix"
   ]
  },
  {
   "cell_type": "code",
   "execution_count": 33,
   "id": "b039a26e",
   "metadata": {},
   "outputs": [],
   "source": [
    "# Specify the path to your CSV file\n",
    "file_path = 'C:/Users/Gopi krishna/Downloads/archive (31)/lung_cancer_mortality_data_large_v2.csv'\n"
   ]
  },
  {
   "cell_type": "code",
   "execution_count": 34,
   "id": "8969f24d",
   "metadata": {},
   "outputs": [
    {
     "name": "stdout",
     "output_type": "stream",
     "text": [
      "Dataset loaded successfully.\n"
     ]
    }
   ],
   "source": [
    "# Check if the file exists\n",
    "if os.path.exists(file_path):\n",
    "    try:\n",
    "        lung_cancer_df = pd.read_csv(file_path)\n",
    "        print(\"Dataset loaded successfully.\")\n",
    "    except Exception as e:\n",
    "        print(f\"Error loading the dataset: {e}\")\n",
    "else:\n",
    "    print(f\"Error: The file '{file_path}' was not found. Please check the file path.\")\n",
    "    # Optionally, create a sample DataFrame for testing\n",
    "    print(\"Creating a sample DataFrame for testing purposes.\")\n",
    "    data = {\n",
    "        'diagnosis_date': pd.date_range(start='2020-01-01', periods=100, freq='M'),\n",
    "        'beginning_of_treatment_date': pd.date_range(start='2020-02-01', periods=100, freq='M'),\n",
    "        'end_treatment_date': pd.date_range(start='2020-06-01', periods=100, freq='M'),\n",
    "        'gender': np.random.choice(['Male', 'Female'], size=100),\n",
    "        'country': np.random.choice(['USA', 'UK', 'Canada'], size=100),\n",
    "        'cancer_stage': np.random.choice(['I', 'II', 'III', 'IV'], size=100),\n",
    "        'family_history': np.random.choice(['Yes', 'No'], size=100),\n",
    "        'smoking_status': np.random.choice(['Smoker', 'Non-Smoker'], size=100),\n",
    "        'treatment_type': np.random.choice(['Chemotherapy', 'Radiation', 'Surgery'], size=100),\n",
    "        'age': np.random.randint(30, 80, size=100),\n",
    "        'outcome': np.random.choice(['Alive', 'Deceased'], size=100)\n",
    "    }\n",
    "    lung_cancer_df = pd.DataFrame(data)\n",
    "    print(\"Sample DataFrame created.\")\n",
    "    print(lung_cancer_df.head())\n"
   ]
  },
  {
   "cell_type": "code",
   "execution_count": 35,
   "id": "c643fabc",
   "metadata": {},
   "outputs": [
    {
     "data": {
      "image/png": "[encoded data removed]",
      "text/plain": [
       "<Figure size 1000x600 with 1 Axes>"
      ]
     },
     "metadata": {},
     "output_type": "display_data"
    }
   ],
   "source": [
    "# Age distribution\n",
    "if 'age' in lung_cancer_df.columns:\n",
    "    plt.figure(figsize=(10,6))\n",
    "    sns.histplot(lung_cancer_df['age'].dropna(), bins=20, kde=True, color='blue')\n",
    "    plt.title('Age Distribution')\n",
    "    plt.xlabel('Age')\n",
    "    plt.ylabel('Frequency')\n",
    "    plt.show()\n",
    "else:\n",
    "    print(\"Warning: 'age' column not found in the dataset.\")"
   ]
  },
  {
   "cell_type": "code",
   "execution_count": 36,
   "id": "344b143f",
   "metadata": {},
   "outputs": [
    {
     "ename": "ImportError",
     "evalue": "matplotlib is required for plotting when the default backend \"matplotlib\" is selected.",
     "output_type": "error",
     "traceback": [
      "\u001b[1;31m---------------------------------------------------------------------------\u001b[0m",
      "\u001b[1;31mImportError\u001b[0m                               Traceback (most recent call last)",
      "Cell \u001b[1;32mIn[36], line 4\u001b[0m\n\u001b[0;32m      2\u001b[0m \u001b[38;5;28;01mif\u001b[39;00m \u001b[38;5;124m'\u001b[39m\u001b[38;5;124mgender\u001b[39m\u001b[38;5;124m'\u001b[39m \u001b[38;5;129;01min\u001b[39;00m lung_cancer_df\u001b[38;5;241m.\u001b[39mcolumns:\n\u001b[0;32m      3\u001b[0m     plt\u001b[38;5;241m.\u001b[39mfigure(figsize\u001b[38;5;241m=\u001b[39m(\u001b[38;5;241m6\u001b[39m,\u001b[38;5;241m4\u001b[39m))\n\u001b[1;32m----> 4\u001b[0m     lung_cancer_df[\u001b[38;5;124m'\u001b[39m\u001b[38;5;124mgender\u001b[39m\u001b[38;5;124m'\u001b[39m]\u001b[38;5;241m.\u001b[39mvalue_counts()\u001b[38;5;241m.\u001b[39mplot(kind\u001b[38;5;241m=\u001b[39m\u001b[38;5;124m'\u001b[39m\u001b[38;5;124mbar\u001b[39m\u001b[38;5;124m'\u001b[39m, color\u001b[38;5;241m=\u001b[39m\u001b[38;5;124m'\u001b[39m\u001b[38;5;124mskyblue\u001b[39m\u001b[38;5;124m'\u001b[39m)\n\u001b[0;32m      5\u001b[0m     plt\u001b[38;5;241m.\u001b[39mtitle(\u001b[38;5;124m'\u001b[39m\u001b[38;5;124mGender Distribution\u001b[39m\u001b[38;5;124m'\u001b[39m)\n\u001b[0;32m      6\u001b[0m     plt\u001b[38;5;241m.\u001b[39mxlabel(\u001b[38;5;124m'\u001b[39m\u001b[38;5;124mGender\u001b[39m\u001b[38;5;124m'\u001b[39m)\n",
      "File \u001b[1;32m~\\anaconda3\\Lib\\site-packages\\pandas\\plotting\\_core.py:895\u001b[0m, in \u001b[0;36m__call__\u001b[1;34m(self, *args, **kwargs)\u001b[0m\n\u001b[0;32m    855\u001b[0m     arg_def \u001b[38;5;241m=\u001b[39m [\n\u001b[0;32m    856\u001b[0m         (\u001b[38;5;124m\"\u001b[39m\u001b[38;5;124mkind\u001b[39m\u001b[38;5;124m\"\u001b[39m, \u001b[38;5;124m\"\u001b[39m\u001b[38;5;124mline\u001b[39m\u001b[38;5;124m\"\u001b[39m),\n\u001b[0;32m    857\u001b[0m         (\u001b[38;5;124m\"\u001b[39m\u001b[38;5;124max\u001b[39m\u001b[38;5;124m\"\u001b[39m, \u001b[38;5;28;01mNone\u001b[39;00m),\n\u001b[1;32m   (...)\u001b[0m\n\u001b[0;32m    880\u001b[0m         (\u001b[38;5;124m\"\u001b[39m\u001b[38;5;124mylabel\u001b[39m\u001b[38;5;124m\"\u001b[39m, \u001b[38;5;28;01mNone\u001b[39;00m),\n\u001b[0;32m    881\u001b[0m     ]\n\u001b[0;32m    882\u001b[0m \u001b[38;5;28;01melif\u001b[39;00m \u001b[38;5;28misinstance\u001b[39m(data, ABCDataFrame):\n\u001b[0;32m    883\u001b[0m     arg_def \u001b[38;5;241m=\u001b[39m [\n\u001b[0;32m    884\u001b[0m         (\u001b[38;5;124m\"\u001b[39m\u001b[38;5;124mx\u001b[39m\u001b[38;5;124m\"\u001b[39m, \u001b[38;5;28;01mNone\u001b[39;00m),\n\u001b[0;32m    885\u001b[0m         (\u001b[38;5;124m\"\u001b[39m\u001b[38;5;124my\u001b[39m\u001b[38;5;124m\"\u001b[39m, \u001b[38;5;28;01mNone\u001b[39;00m),\n\u001b[0;32m    886\u001b[0m         (\u001b[38;5;124m\"\u001b[39m\u001b[38;5;124mkind\u001b[39m\u001b[38;5;124m\"\u001b[39m, \u001b[38;5;124m\"\u001b[39m\u001b[38;5;124mline\u001b[39m\u001b[38;5;124m\"\u001b[39m),\n\u001b[0;32m    887\u001b[0m         (\u001b[38;5;124m\"\u001b[39m\u001b[38;5;124max\u001b[39m\u001b[38;5;124m\"\u001b[39m, \u001b[38;5;28;01mNone\u001b[39;00m),\n\u001b[0;32m    888\u001b[0m         (\u001b[38;5;124m\"\u001b[39m\u001b[38;5;124msubplots\u001b[39m\u001b[38;5;124m\"\u001b[39m, \u001b[38;5;28;01mFalse\u001b[39;00m),\n\u001b[0;32m    889\u001b[0m         (\u001b[38;5;124m\"\u001b[39m\u001b[38;5;124msharex\u001b[39m\u001b[38;5;124m\"\u001b[39m, \u001b[38;5;28;01mNone\u001b[39;00m),\n\u001b[0;32m    890\u001b[0m         (\u001b[38;5;124m\"\u001b[39m\u001b[38;5;124msharey\u001b[39m\u001b[38;5;124m\"\u001b[39m, \u001b[38;5;28;01mFalse\u001b[39;00m),\n\u001b[0;32m    891\u001b[0m         (\u001b[38;5;124m\"\u001b[39m\u001b[38;5;124mlayout\u001b[39m\u001b[38;5;124m\"\u001b[39m, \u001b[38;5;28;01mNone\u001b[39;00m),\n\u001b[0;32m    892\u001b[0m         (\u001b[38;5;124m\"\u001b[39m\u001b[38;5;124mfigsize\u001b[39m\u001b[38;5;124m\"\u001b[39m, \u001b[38;5;28;01mNone\u001b[39;00m),\n\u001b[0;32m    893\u001b[0m         (\u001b[38;5;124m\"\u001b[39m\u001b[38;5;124muse_index\u001b[39m\u001b[38;5;124m\"\u001b[39m, \u001b[38;5;28;01mTrue\u001b[39;00m),\n\u001b[0;32m    894\u001b[0m         (\u001b[38;5;124m\"\u001b[39m\u001b[38;5;124mtitle\u001b[39m\u001b[38;5;124m\"\u001b[39m, \u001b[38;5;28;01mNone\u001b[39;00m),\n\u001b[1;32m--> 895\u001b[0m         (\u001b[38;5;124m\"\u001b[39m\u001b[38;5;124mgrid\u001b[39m\u001b[38;5;124m\"\u001b[39m, \u001b[38;5;28;01mNone\u001b[39;00m),\n\u001b[0;32m    896\u001b[0m         (\u001b[38;5;124m\"\u001b[39m\u001b[38;5;124mlegend\u001b[39m\u001b[38;5;124m\"\u001b[39m, \u001b[38;5;28;01mTrue\u001b[39;00m),\n\u001b[0;32m    897\u001b[0m         (\u001b[38;5;124m\"\u001b[39m\u001b[38;5;124mstyle\u001b[39m\u001b[38;5;124m\"\u001b[39m, \u001b[38;5;28;01mNone\u001b[39;00m),\n\u001b[0;32m    898\u001b[0m         (\u001b[38;5;124m\"\u001b[39m\u001b[38;5;124mlogx\u001b[39m\u001b[38;5;124m\"\u001b[39m, \u001b[38;5;28;01mFalse\u001b[39;00m),\n\u001b[0;32m    899\u001b[0m         (\u001b[38;5;124m\"\u001b[39m\u001b[38;5;124mlogy\u001b[39m\u001b[38;5;124m\"\u001b[39m, \u001b[38;5;28;01mFalse\u001b[39;00m),\n\u001b[0;32m    900\u001b[0m         (\u001b[38;5;124m\"\u001b[39m\u001b[38;5;124mloglog\u001b[39m\u001b[38;5;124m\"\u001b[39m, \u001b[38;5;28;01mFalse\u001b[39;00m),\n\u001b[0;32m    901\u001b[0m         (\u001b[38;5;124m\"\u001b[39m\u001b[38;5;124mxticks\u001b[39m\u001b[38;5;124m\"\u001b[39m, \u001b[38;5;28;01mNone\u001b[39;00m),\n\u001b[0;32m    902\u001b[0m         (\u001b[38;5;124m\"\u001b[39m\u001b[38;5;124myticks\u001b[39m\u001b[38;5;124m\"\u001b[39m, \u001b[38;5;28;01mNone\u001b[39;00m),\n\u001b[0;32m    903\u001b[0m         (\u001b[38;5;124m\"\u001b[39m\u001b[38;5;124mxlim\u001b[39m\u001b[38;5;124m\"\u001b[39m, \u001b[38;5;28;01mNone\u001b[39;00m),\n\u001b[0;32m    904\u001b[0m         (\u001b[38;5;124m\"\u001b[39m\u001b[38;5;124mylim\u001b[39m\u001b[38;5;124m\"\u001b[39m, \u001b[38;5;28;01mNone\u001b[39;00m),\n\u001b[0;32m    905\u001b[0m         (\u001b[38;5;124m\"\u001b[39m\u001b[38;5;124mrot\u001b[39m\u001b[38;5;124m\"\u001b[39m, \u001b[38;5;28;01mNone\u001b[39;00m),\n\u001b[0;32m    906\u001b[0m         (\u001b[38;5;124m\"\u001b[39m\u001b[38;5;124mfontsize\u001b[39m\u001b[38;5;124m\"\u001b[39m, \u001b[38;5;28;01mNone\u001b[39;00m),\n\u001b[0;32m    907\u001b[0m         (\u001b[38;5;124m\"\u001b[39m\u001b[38;5;124mcolormap\u001b[39m\u001b[38;5;124m\"\u001b[39m, \u001b[38;5;28;01mNone\u001b[39;00m),\n\u001b[0;32m    908\u001b[0m         (\u001b[38;5;124m\"\u001b[39m\u001b[38;5;124mtable\u001b[39m\u001b[38;5;124m\"\u001b[39m, \u001b[38;5;28;01mFalse\u001b[39;00m),\n\u001b[0;32m    909\u001b[0m         (\u001b[38;5;124m\"\u001b[39m\u001b[38;5;124myerr\u001b[39m\u001b[38;5;124m\"\u001b[39m, \u001b[38;5;28;01mNone\u001b[39;00m),\n\u001b[0;32m    910\u001b[0m         (\u001b[38;5;124m\"\u001b[39m\u001b[38;5;124mxerr\u001b[39m\u001b[38;5;124m\"\u001b[39m, \u001b[38;5;28;01mNone\u001b[39;00m),\n\u001b[0;32m    911\u001b[0m         (\u001b[38;5;124m\"\u001b[39m\u001b[38;5;124msecondary_y\u001b[39m\u001b[38;5;124m\"\u001b[39m, \u001b[38;5;28;01mFalse\u001b[39;00m),\n\u001b[0;32m    912\u001b[0m         (\u001b[38;5;124m\"\u001b[39m\u001b[38;5;124mxlabel\u001b[39m\u001b[38;5;124m\"\u001b[39m, \u001b[38;5;28;01mNone\u001b[39;00m),\n\u001b[0;32m    913\u001b[0m         (\u001b[38;5;124m\"\u001b[39m\u001b[38;5;124mylabel\u001b[39m\u001b[38;5;124m\"\u001b[39m, \u001b[38;5;28;01mNone\u001b[39;00m),\n\u001b[0;32m    914\u001b[0m     ]\n\u001b[0;32m    915\u001b[0m \u001b[38;5;28;01melse\u001b[39;00m:\n\u001b[0;32m    916\u001b[0m     \u001b[38;5;28;01mraise\u001b[39;00m \u001b[38;5;167;01mTypeError\u001b[39;00m(\n\u001b[0;32m    917\u001b[0m         \u001b[38;5;124mf\u001b[39m\u001b[38;5;124m\"\u001b[39m\u001b[38;5;124mCalled plot accessor for type \u001b[39m\u001b[38;5;132;01m{\u001b[39;00m\u001b[38;5;28mtype\u001b[39m(data)\u001b[38;5;241m.\u001b[39m\u001b[38;5;18m__name__\u001b[39m\u001b[38;5;132;01m}\u001b[39;00m\u001b[38;5;124m, \u001b[39m\u001b[38;5;124m\"\u001b[39m\n\u001b[0;32m    918\u001b[0m         \u001b[38;5;124m\"\u001b[39m\u001b[38;5;124mexpected Series or DataFrame\u001b[39m\u001b[38;5;124m\"\u001b[39m\n\u001b[0;32m    919\u001b[0m     )\n",
      "File \u001b[1;32m~\\anaconda3\\Lib\\site-packages\\pandas\\plotting\\_core.py:1862\u001b[0m, in \u001b[0;36m_get_plot_backend\u001b[1;34m(backend)\u001b[0m\n\u001b[0;32m   1851\u001b[0m \u001b[38;5;28;01mdef\u001b[39;00m \u001b[38;5;21m_load_backend\u001b[39m(backend: \u001b[38;5;28mstr\u001b[39m) \u001b[38;5;241m-\u001b[39m\u001b[38;5;241m>\u001b[39m types\u001b[38;5;241m.\u001b[39mModuleType:\n\u001b[0;32m   1852\u001b[0m \u001b[38;5;250m    \u001b[39m\u001b[38;5;124;03m\"\"\"\u001b[39;00m\n\u001b[0;32m   1853\u001b[0m \u001b[38;5;124;03m    Load a pandas plotting backend.\u001b[39;00m\n\u001b[0;32m   1854\u001b[0m \n\u001b[0;32m   1855\u001b[0m \u001b[38;5;124;03m    Parameters\u001b[39;00m\n\u001b[0;32m   1856\u001b[0m \u001b[38;5;124;03m    ----------\u001b[39;00m\n\u001b[0;32m   1857\u001b[0m \u001b[38;5;124;03m    backend : str\u001b[39;00m\n\u001b[0;32m   1858\u001b[0m \u001b[38;5;124;03m        The identifier for the backend. Either an entrypoint item registered\u001b[39;00m\n\u001b[0;32m   1859\u001b[0m \u001b[38;5;124;03m        with importlib.metadata, \"matplotlib\", or a module name.\u001b[39;00m\n\u001b[0;32m   1860\u001b[0m \n\u001b[0;32m   1861\u001b[0m \u001b[38;5;124;03m    Returns\u001b[39;00m\n\u001b[1;32m-> 1862\u001b[0m \u001b[38;5;124;03m    -------\u001b[39;00m\n\u001b[0;32m   1863\u001b[0m \u001b[38;5;124;03m    types.ModuleType\u001b[39;00m\n\u001b[0;32m   1864\u001b[0m \u001b[38;5;124;03m        The imported backend.\u001b[39;00m\n\u001b[0;32m   1865\u001b[0m \u001b[38;5;124;03m    \"\"\"\u001b[39;00m\n\u001b[0;32m   1866\u001b[0m     \u001b[38;5;28;01mfrom\u001b[39;00m \u001b[38;5;21;01mimportlib\u001b[39;00m\u001b[38;5;21;01m.\u001b[39;00m\u001b[38;5;21;01mmetadata\u001b[39;00m \u001b[38;5;28;01mimport\u001b[39;00m entry_points\n\u001b[0;32m   1868\u001b[0m     \u001b[38;5;28;01mif\u001b[39;00m backend \u001b[38;5;241m==\u001b[39m \u001b[38;5;124m\"\u001b[39m\u001b[38;5;124mmatplotlib\u001b[39m\u001b[38;5;124m\"\u001b[39m:\n\u001b[0;32m   1869\u001b[0m         \u001b[38;5;66;03m# Because matplotlib is an optional dependency and first-party backend,\u001b[39;00m\n\u001b[0;32m   1870\u001b[0m         \u001b[38;5;66;03m# we need to attempt an import here to raise an ImportError if needed.\u001b[39;00m\n",
      "File \u001b[1;32m~\\anaconda3\\Lib\\site-packages\\pandas\\plotting\\_core.py:1794\u001b[0m, in \u001b[0;36m_load_backend\u001b[1;34m(backend)\u001b[0m\n\u001b[0;32m   1750\u001b[0m \u001b[38;5;28;01mdef\u001b[39;00m \u001b[38;5;21mhexbin\u001b[39m(\n\u001b[0;32m   1751\u001b[0m     \u001b[38;5;28mself\u001b[39m,\n\u001b[0;32m   1752\u001b[0m     x: Hashable,\n\u001b[1;32m   (...)\u001b[0m\n\u001b[0;32m   1757\u001b[0m     \u001b[38;5;241m*\u001b[39m\u001b[38;5;241m*\u001b[39mkwargs,\n\u001b[0;32m   1758\u001b[0m ) \u001b[38;5;241m-\u001b[39m\u001b[38;5;241m>\u001b[39m PlotAccessor:\n\u001b[0;32m   1759\u001b[0m \u001b[38;5;250m    \u001b[39m\u001b[38;5;124;03m\"\"\"\u001b[39;00m\n\u001b[0;32m   1760\u001b[0m \u001b[38;5;124;03m    Generate a hexagonal binning plot.\u001b[39;00m\n\u001b[0;32m   1761\u001b[0m \n\u001b[0;32m   1762\u001b[0m \u001b[38;5;124;03m    Generate a hexagonal binning plot of `x` versus `y`. If `C` is `None`\u001b[39;00m\n\u001b[0;32m   1763\u001b[0m \u001b[38;5;124;03m    (the default), this is a histogram of the number of occurrences\u001b[39;00m\n\u001b[0;32m   1764\u001b[0m \u001b[38;5;124;03m    of the observations at ``(x[i], y[i])``.\u001b[39;00m\n\u001b[0;32m   1765\u001b[0m \n\u001b[0;32m   1766\u001b[0m \u001b[38;5;124;03m    If `C` is specified, specifies values at given coordinates\u001b[39;00m\n\u001b[0;32m   1767\u001b[0m \u001b[38;5;124;03m    ``(x[i], y[i])``. These values are accumulated for each hexagonal\u001b[39;00m\n\u001b[0;32m   1768\u001b[0m \u001b[38;5;124;03m    bin and then reduced according to `reduce_C_function`,\u001b[39;00m\n\u001b[0;32m   1769\u001b[0m \u001b[38;5;124;03m    having as default the NumPy's mean function (:meth:`numpy.mean`).\u001b[39;00m\n\u001b[0;32m   1770\u001b[0m \u001b[38;5;124;03m    (If `C` is specified, it must also be a 1-D sequence\u001b[39;00m\n\u001b[0;32m   1771\u001b[0m \u001b[38;5;124;03m    of the same length as `x` and `y`, or a column label.)\u001b[39;00m\n\u001b[0;32m   1772\u001b[0m \n\u001b[0;32m   1773\u001b[0m \u001b[38;5;124;03m    Parameters\u001b[39;00m\n\u001b[0;32m   1774\u001b[0m \u001b[38;5;124;03m    ----------\u001b[39;00m\n\u001b[0;32m   1775\u001b[0m \u001b[38;5;124;03m    x : int or str\u001b[39;00m\n\u001b[0;32m   1776\u001b[0m \u001b[38;5;124;03m        The column label or position for x points.\u001b[39;00m\n\u001b[0;32m   1777\u001b[0m \u001b[38;5;124;03m    y : int or str\u001b[39;00m\n\u001b[0;32m   1778\u001b[0m \u001b[38;5;124;03m        The column label or position for y points.\u001b[39;00m\n\u001b[0;32m   1779\u001b[0m \u001b[38;5;124;03m    C : int or str, optional\u001b[39;00m\n\u001b[0;32m   1780\u001b[0m \u001b[38;5;124;03m        The column label or position for the value of `(x, y)` point.\u001b[39;00m\n\u001b[0;32m   1781\u001b[0m \u001b[38;5;124;03m    reduce_C_function : callable, default `np.mean`\u001b[39;00m\n\u001b[0;32m   1782\u001b[0m \u001b[38;5;124;03m        Function of one argument that reduces all the values in a bin to\u001b[39;00m\n\u001b[0;32m   1783\u001b[0m \u001b[38;5;124;03m        a single number (e.g. `np.mean`, `np.max`, `np.sum`, `np.std`).\u001b[39;00m\n\u001b[0;32m   1784\u001b[0m \u001b[38;5;124;03m    gridsize : int or tuple of (int, int), default 100\u001b[39;00m\n\u001b[0;32m   1785\u001b[0m \u001b[38;5;124;03m        The number of hexagons in the x-direction.\u001b[39;00m\n\u001b[0;32m   1786\u001b[0m \u001b[38;5;124;03m        The corresponding number of hexagons in the y-direction is\u001b[39;00m\n\u001b[0;32m   1787\u001b[0m \u001b[38;5;124;03m        chosen in a way that the hexagons are approximately regular.\u001b[39;00m\n\u001b[0;32m   1788\u001b[0m \u001b[38;5;124;03m        Alternatively, gridsize can be a tuple with two elements\u001b[39;00m\n\u001b[0;32m   1789\u001b[0m \u001b[38;5;124;03m        specifying the number of hexagons in the x-direction and the\u001b[39;00m\n\u001b[0;32m   1790\u001b[0m \u001b[38;5;124;03m        y-direction.\u001b[39;00m\n\u001b[0;32m   1791\u001b[0m \u001b[38;5;124;03m    **kwargs\u001b[39;00m\n\u001b[0;32m   1792\u001b[0m \u001b[38;5;124;03m        Additional keyword arguments are documented in\u001b[39;00m\n\u001b[0;32m   1793\u001b[0m \u001b[38;5;124;03m        :meth:`DataFrame.plot`.\u001b[39;00m\n\u001b[1;32m-> 1794\u001b[0m \n\u001b[0;32m   1795\u001b[0m \u001b[38;5;124;03m    Returns\u001b[39;00m\n\u001b[0;32m   1796\u001b[0m \u001b[38;5;124;03m    -------\u001b[39;00m\n\u001b[0;32m   1797\u001b[0m \u001b[38;5;124;03m    matplotlib.AxesSubplot\u001b[39;00m\n\u001b[0;32m   1798\u001b[0m \u001b[38;5;124;03m        The matplotlib ``Axes`` on which the hexbin is plotted.\u001b[39;00m\n\u001b[0;32m   1799\u001b[0m \n\u001b[0;32m   1800\u001b[0m \u001b[38;5;124;03m    See Also\u001b[39;00m\n\u001b[0;32m   1801\u001b[0m \u001b[38;5;124;03m    --------\u001b[39;00m\n\u001b[0;32m   1802\u001b[0m \u001b[38;5;124;03m    DataFrame.plot : Make plots of a DataFrame.\u001b[39;00m\n\u001b[0;32m   1803\u001b[0m \u001b[38;5;124;03m    matplotlib.pyplot.hexbin : Hexagonal binning plot using matplotlib,\u001b[39;00m\n\u001b[0;32m   1804\u001b[0m \u001b[38;5;124;03m        the matplotlib function that is used under the hood.\u001b[39;00m\n\u001b[0;32m   1805\u001b[0m \n\u001b[0;32m   1806\u001b[0m \u001b[38;5;124;03m    Examples\u001b[39;00m\n\u001b[0;32m   1807\u001b[0m \u001b[38;5;124;03m    --------\u001b[39;00m\n\u001b[0;32m   1808\u001b[0m \u001b[38;5;124;03m    The following examples are generated with random data from\u001b[39;00m\n\u001b[0;32m   1809\u001b[0m \u001b[38;5;124;03m    a normal distribution.\u001b[39;00m\n\u001b[0;32m   1810\u001b[0m \n\u001b[0;32m   1811\u001b[0m \u001b[38;5;124;03m    .. plot::\u001b[39;00m\n\u001b[0;32m   1812\u001b[0m \u001b[38;5;124;03m        :context: close-figs\u001b[39;00m\n\u001b[0;32m   1813\u001b[0m \n\u001b[0;32m   1814\u001b[0m \u001b[38;5;124;03m        >>> n = 10000\u001b[39;00m\n\u001b[0;32m   1815\u001b[0m \u001b[38;5;124;03m        >>> df = pd.DataFrame({'x': np.random.randn(n),\u001b[39;00m\n\u001b[0;32m   1816\u001b[0m \u001b[38;5;124;03m        ...                    'y': np.random.randn(n)})\u001b[39;00m\n\u001b[0;32m   1817\u001b[0m \u001b[38;5;124;03m        >>> ax = df.plot.hexbin(x='x', y='y', gridsize=20)\u001b[39;00m\n\u001b[0;32m   1818\u001b[0m \n\u001b[0;32m   1819\u001b[0m \u001b[38;5;124;03m    The next example uses `C` and `np.sum` as `reduce_C_function`.\u001b[39;00m\n\u001b[0;32m   1820\u001b[0m \u001b[38;5;124;03m    Note that `'observations'` values ranges from 1 to 5 but the result\u001b[39;00m\n\u001b[0;32m   1821\u001b[0m \u001b[38;5;124;03m    plot shows values up to more than 25. This is because of the\u001b[39;00m\n\u001b[0;32m   1822\u001b[0m \u001b[38;5;124;03m    `reduce_C_function`.\u001b[39;00m\n\u001b[0;32m   1823\u001b[0m \n\u001b[0;32m   1824\u001b[0m \u001b[38;5;124;03m    .. plot::\u001b[39;00m\n\u001b[0;32m   1825\u001b[0m \u001b[38;5;124;03m        :context: close-figs\u001b[39;00m\n\u001b[0;32m   1826\u001b[0m \n\u001b[0;32m   1827\u001b[0m \u001b[38;5;124;03m        >>> n = 500\u001b[39;00m\n\u001b[0;32m   1828\u001b[0m \u001b[38;5;124;03m        >>> df = pd.DataFrame({\u001b[39;00m\n\u001b[0;32m   1829\u001b[0m \u001b[38;5;124;03m        ...     'coord_x': np.random.uniform(-3, 3, size=n),\u001b[39;00m\n\u001b[0;32m   1830\u001b[0m \u001b[38;5;124;03m        ...     'coord_y': np.random.uniform(30, 50, size=n),\u001b[39;00m\n\u001b[0;32m   1831\u001b[0m \u001b[38;5;124;03m        ...     'observations': np.random.randint(1,5, size=n)\u001b[39;00m\n\u001b[0;32m   1832\u001b[0m \u001b[38;5;124;03m        ...     })\u001b[39;00m\n\u001b[0;32m   1833\u001b[0m \u001b[38;5;124;03m        >>> ax = df.plot.hexbin(x='coord_x',\u001b[39;00m\n\u001b[0;32m   1834\u001b[0m \u001b[38;5;124;03m        ...                     y='coord_y',\u001b[39;00m\n\u001b[0;32m   1835\u001b[0m \u001b[38;5;124;03m        ...                     C='observations',\u001b[39;00m\n\u001b[0;32m   1836\u001b[0m \u001b[38;5;124;03m        ...                     reduce_C_function=np.sum,\u001b[39;00m\n\u001b[0;32m   1837\u001b[0m \u001b[38;5;124;03m        ...                     gridsize=10,\u001b[39;00m\n\u001b[0;32m   1838\u001b[0m \u001b[38;5;124;03m        ...                     cmap=\"viridis\")\u001b[39;00m\n\u001b[0;32m   1839\u001b[0m \u001b[38;5;124;03m    \"\"\"\u001b[39;00m\n\u001b[0;32m   1840\u001b[0m     \u001b[38;5;28;01mif\u001b[39;00m reduce_C_function \u001b[38;5;129;01mis\u001b[39;00m \u001b[38;5;129;01mnot\u001b[39;00m \u001b[38;5;28;01mNone\u001b[39;00m:\n\u001b[0;32m   1841\u001b[0m         kwargs[\u001b[38;5;124m\"\u001b[39m\u001b[38;5;124mreduce_C_function\u001b[39m\u001b[38;5;124m\"\u001b[39m] \u001b[38;5;241m=\u001b[39m reduce_C_function\n",
      "\u001b[1;31mImportError\u001b[0m: matplotlib is required for plotting when the default backend \"matplotlib\" is selected."
     ]
    },
    {
     "data": {
      "text/plain": [
       "<Figure size 600x400 with 0 Axes>"
      ]
     },
     "metadata": {},
     "output_type": "display_data"
    }
   ],
   "source": [
    "# Gender distribution\n",
    "if 'gender' in lung_cancer_df.columns:\n",
    "    plt.figure(figsize=(6,4))\n",
    "    lung_cancer_df['gender'].value_counts().plot(kind='bar', color='skyblue')\n",
    "    plt.title('Gender Distribution')\n",
    "    plt.xlabel('Gender')\n",
    "    plt.ylabel('Count')\n",
    "    plt.show()\n",
    "else:\n",
    "    print(\"Warning: 'gender' column not found in the dataset.\")\n"
   ]
  },
  {
   "cell_type": "code",
   "execution_count": 37,
   "id": "353feef9",
   "metadata": {
    "scrolled": false
   },
   "outputs": [
    {
     "ename": "ImportError",
     "evalue": "matplotlib is required for plotting when the default backend \"matplotlib\" is selected.",
     "output_type": "error",
     "traceback": [
      "\u001b[1;31m---------------------------------------------------------------------------\u001b[0m",
      "\u001b[1;31mImportError\u001b[0m                               Traceback (most recent call last)",
      "Cell \u001b[1;32mIn[37], line 4\u001b[0m\n\u001b[0;32m      2\u001b[0m \u001b[38;5;28;01mif\u001b[39;00m \u001b[38;5;124m'\u001b[39m\u001b[38;5;124mcancer_stage\u001b[39m\u001b[38;5;124m'\u001b[39m \u001b[38;5;129;01min\u001b[39;00m lung_cancer_df\u001b[38;5;241m.\u001b[39mcolumns:\n\u001b[0;32m      3\u001b[0m     plt\u001b[38;5;241m.\u001b[39mfigure(figsize\u001b[38;5;241m=\u001b[39m(\u001b[38;5;241m8\u001b[39m,\u001b[38;5;241m6\u001b[39m))\n\u001b[1;32m----> 4\u001b[0m     lung_cancer_df[\u001b[38;5;124m'\u001b[39m\u001b[38;5;124mcancer_stage\u001b[39m\u001b[38;5;124m'\u001b[39m]\u001b[38;5;241m.\u001b[39mvalue_counts()\u001b[38;5;241m.\u001b[39mplot(kind\u001b[38;5;241m=\u001b[39m\u001b[38;5;124m'\u001b[39m\u001b[38;5;124mbar\u001b[39m\u001b[38;5;124m'\u001b[39m, color\u001b[38;5;241m=\u001b[39m\u001b[38;5;124m'\u001b[39m\u001b[38;5;124msalmon\u001b[39m\u001b[38;5;124m'\u001b[39m)\n\u001b[0;32m      5\u001b[0m     plt\u001b[38;5;241m.\u001b[39mtitle(\u001b[38;5;124m'\u001b[39m\u001b[38;5;124mCancer Stage at Diagnosis\u001b[39m\u001b[38;5;124m'\u001b[39m)\n\u001b[0;32m      6\u001b[0m     plt\u001b[38;5;241m.\u001b[39mxlabel(\u001b[38;5;124m'\u001b[39m\u001b[38;5;124mCancer Stage\u001b[39m\u001b[38;5;124m'\u001b[39m)\n",
      "File \u001b[1;32m~\\anaconda3\\Lib\\site-packages\\pandas\\plotting\\_core.py:895\u001b[0m, in \u001b[0;36m__call__\u001b[1;34m(self, *args, **kwargs)\u001b[0m\n\u001b[0;32m    855\u001b[0m     arg_def \u001b[38;5;241m=\u001b[39m [\n\u001b[0;32m    856\u001b[0m         (\u001b[38;5;124m\"\u001b[39m\u001b[38;5;124mkind\u001b[39m\u001b[38;5;124m\"\u001b[39m, \u001b[38;5;124m\"\u001b[39m\u001b[38;5;124mline\u001b[39m\u001b[38;5;124m\"\u001b[39m),\n\u001b[0;32m    857\u001b[0m         (\u001b[38;5;124m\"\u001b[39m\u001b[38;5;124max\u001b[39m\u001b[38;5;124m\"\u001b[39m, \u001b[38;5;28;01mNone\u001b[39;00m),\n\u001b[1;32m   (...)\u001b[0m\n\u001b[0;32m    880\u001b[0m         (\u001b[38;5;124m\"\u001b[39m\u001b[38;5;124mylabel\u001b[39m\u001b[38;5;124m\"\u001b[39m, \u001b[38;5;28;01mNone\u001b[39;00m),\n\u001b[0;32m    881\u001b[0m     ]\n\u001b[0;32m    882\u001b[0m \u001b[38;5;28;01melif\u001b[39;00m \u001b[38;5;28misinstance\u001b[39m(data, ABCDataFrame):\n\u001b[0;32m    883\u001b[0m     arg_def \u001b[38;5;241m=\u001b[39m [\n\u001b[0;32m    884\u001b[0m         (\u001b[38;5;124m\"\u001b[39m\u001b[38;5;124mx\u001b[39m\u001b[38;5;124m\"\u001b[39m, \u001b[38;5;28;01mNone\u001b[39;00m),\n\u001b[0;32m    885\u001b[0m         (\u001b[38;5;124m\"\u001b[39m\u001b[38;5;124my\u001b[39m\u001b[38;5;124m\"\u001b[39m, \u001b[38;5;28;01mNone\u001b[39;00m),\n\u001b[0;32m    886\u001b[0m         (\u001b[38;5;124m\"\u001b[39m\u001b[38;5;124mkind\u001b[39m\u001b[38;5;124m\"\u001b[39m, \u001b[38;5;124m\"\u001b[39m\u001b[38;5;124mline\u001b[39m\u001b[38;5;124m\"\u001b[39m),\n\u001b[0;32m    887\u001b[0m         (\u001b[38;5;124m\"\u001b[39m\u001b[38;5;124max\u001b[39m\u001b[38;5;124m\"\u001b[39m, \u001b[38;5;28;01mNone\u001b[39;00m),\n\u001b[0;32m    888\u001b[0m         (\u001b[38;5;124m\"\u001b[39m\u001b[38;5;124msubplots\u001b[39m\u001b[38;5;124m\"\u001b[39m, \u001b[38;5;28;01mFalse\u001b[39;00m),\n\u001b[0;32m    889\u001b[0m         (\u001b[38;5;124m\"\u001b[39m\u001b[38;5;124msharex\u001b[39m\u001b[38;5;124m\"\u001b[39m, \u001b[38;5;28;01mNone\u001b[39;00m),\n\u001b[0;32m    890\u001b[0m         (\u001b[38;5;124m\"\u001b[39m\u001b[38;5;124msharey\u001b[39m\u001b[38;5;124m\"\u001b[39m, \u001b[38;5;28;01mFalse\u001b[39;00m),\n\u001b[0;32m    891\u001b[0m         (\u001b[38;5;124m\"\u001b[39m\u001b[38;5;124mlayout\u001b[39m\u001b[38;5;124m\"\u001b[39m, \u001b[38;5;28;01mNone\u001b[39;00m),\n\u001b[0;32m    892\u001b[0m         (\u001b[38;5;124m\"\u001b[39m\u001b[38;5;124mfigsize\u001b[39m\u001b[38;5;124m\"\u001b[39m, \u001b[38;5;28;01mNone\u001b[39;00m),\n\u001b[0;32m    893\u001b[0m         (\u001b[38;5;124m\"\u001b[39m\u001b[38;5;124muse_index\u001b[39m\u001b[38;5;124m\"\u001b[39m, \u001b[38;5;28;01mTrue\u001b[39;00m),\n\u001b[0;32m    894\u001b[0m         (\u001b[38;5;124m\"\u001b[39m\u001b[38;5;124mtitle\u001b[39m\u001b[38;5;124m\"\u001b[39m, \u001b[38;5;28;01mNone\u001b[39;00m),\n\u001b[1;32m--> 895\u001b[0m         (\u001b[38;5;124m\"\u001b[39m\u001b[38;5;124mgrid\u001b[39m\u001b[38;5;124m\"\u001b[39m, \u001b[38;5;28;01mNone\u001b[39;00m),\n\u001b[0;32m    896\u001b[0m         (\u001b[38;5;124m\"\u001b[39m\u001b[38;5;124mlegend\u001b[39m\u001b[38;5;124m\"\u001b[39m, \u001b[38;5;28;01mTrue\u001b[39;00m),\n\u001b[0;32m    897\u001b[0m         (\u001b[38;5;124m\"\u001b[39m\u001b[38;5;124mstyle\u001b[39m\u001b[38;5;124m\"\u001b[39m, \u001b[38;5;28;01mNone\u001b[39;00m),\n\u001b[0;32m    898\u001b[0m         (\u001b[38;5;124m\"\u001b[39m\u001b[38;5;124mlogx\u001b[39m\u001b[38;5;124m\"\u001b[39m, \u001b[38;5;28;01mFalse\u001b[39;00m),\n\u001b[0;32m    899\u001b[0m         (\u001b[38;5;124m\"\u001b[39m\u001b[38;5;124mlogy\u001b[39m\u001b[38;5;124m\"\u001b[39m, \u001b[38;5;28;01mFalse\u001b[39;00m),\n\u001b[0;32m    900\u001b[0m         (\u001b[38;5;124m\"\u001b[39m\u001b[38;5;124mloglog\u001b[39m\u001b[38;5;124m\"\u001b[39m, \u001b[38;5;28;01mFalse\u001b[39;00m),\n\u001b[0;32m    901\u001b[0m         (\u001b[38;5;124m\"\u001b[39m\u001b[38;5;124mxticks\u001b[39m\u001b[38;5;124m\"\u001b[39m, \u001b[38;5;28;01mNone\u001b[39;00m),\n\u001b[0;32m    902\u001b[0m         (\u001b[38;5;124m\"\u001b[39m\u001b[38;5;124myticks\u001b[39m\u001b[38;5;124m\"\u001b[39m, \u001b[38;5;28;01mNone\u001b[39;00m),\n\u001b[0;32m    903\u001b[0m         (\u001b[38;5;124m\"\u001b[39m\u001b[38;5;124mxlim\u001b[39m\u001b[38;5;124m\"\u001b[39m, \u001b[38;5;28;01mNone\u001b[39;00m),\n\u001b[0;32m    904\u001b[0m         (\u001b[38;5;124m\"\u001b[39m\u001b[38;5;124mylim\u001b[39m\u001b[38;5;124m\"\u001b[39m, \u001b[38;5;28;01mNone\u001b[39;00m),\n\u001b[0;32m    905\u001b[0m         (\u001b[38;5;124m\"\u001b[39m\u001b[38;5;124mrot\u001b[39m\u001b[38;5;124m\"\u001b[39m, \u001b[38;5;28;01mNone\u001b[39;00m),\n\u001b[0;32m    906\u001b[0m         (\u001b[38;5;124m\"\u001b[39m\u001b[38;5;124mfontsize\u001b[39m\u001b[38;5;124m\"\u001b[39m, \u001b[38;5;28;01mNone\u001b[39;00m),\n\u001b[0;32m    907\u001b[0m         (\u001b[38;5;124m\"\u001b[39m\u001b[38;5;124mcolormap\u001b[39m\u001b[38;5;124m\"\u001b[39m, \u001b[38;5;28;01mNone\u001b[39;00m),\n\u001b[0;32m    908\u001b[0m         (\u001b[38;5;124m\"\u001b[39m\u001b[38;5;124mtable\u001b[39m\u001b[38;5;124m\"\u001b[39m, \u001b[38;5;28;01mFalse\u001b[39;00m),\n\u001b[0;32m    909\u001b[0m         (\u001b[38;5;124m\"\u001b[39m\u001b[38;5;124myerr\u001b[39m\u001b[38;5;124m\"\u001b[39m, \u001b[38;5;28;01mNone\u001b[39;00m),\n\u001b[0;32m    910\u001b[0m         (\u001b[38;5;124m\"\u001b[39m\u001b[38;5;124mxerr\u001b[39m\u001b[38;5;124m\"\u001b[39m, \u001b[38;5;28;01mNone\u001b[39;00m),\n\u001b[0;32m    911\u001b[0m         (\u001b[38;5;124m\"\u001b[39m\u001b[38;5;124msecondary_y\u001b[39m\u001b[38;5;124m\"\u001b[39m, \u001b[38;5;28;01mFalse\u001b[39;00m),\n\u001b[0;32m    912\u001b[0m         (\u001b[38;5;124m\"\u001b[39m\u001b[38;5;124mxlabel\u001b[39m\u001b[38;5;124m\"\u001b[39m, \u001b[38;5;28;01mNone\u001b[39;00m),\n\u001b[0;32m    913\u001b[0m         (\u001b[38;5;124m\"\u001b[39m\u001b[38;5;124mylabel\u001b[39m\u001b[38;5;124m\"\u001b[39m, \u001b[38;5;28;01mNone\u001b[39;00m),\n\u001b[0;32m    914\u001b[0m     ]\n\u001b[0;32m    915\u001b[0m \u001b[38;5;28;01melse\u001b[39;00m:\n\u001b[0;32m    916\u001b[0m     \u001b[38;5;28;01mraise\u001b[39;00m \u001b[38;5;167;01mTypeError\u001b[39;00m(\n\u001b[0;32m    917\u001b[0m         \u001b[38;5;124mf\u001b[39m\u001b[38;5;124m\"\u001b[39m\u001b[38;5;124mCalled plot accessor for type \u001b[39m\u001b[38;5;132;01m{\u001b[39;00m\u001b[38;5;28mtype\u001b[39m(data)\u001b[38;5;241m.\u001b[39m\u001b[38;5;18m__name__\u001b[39m\u001b[38;5;132;01m}\u001b[39;00m\u001b[38;5;124m, \u001b[39m\u001b[38;5;124m\"\u001b[39m\n\u001b[0;32m    918\u001b[0m         \u001b[38;5;124m\"\u001b[39m\u001b[38;5;124mexpected Series or DataFrame\u001b[39m\u001b[38;5;124m\"\u001b[39m\n\u001b[0;32m    919\u001b[0m     )\n",
      "File \u001b[1;32m~\\anaconda3\\Lib\\site-packages\\pandas\\plotting\\_core.py:1862\u001b[0m, in \u001b[0;36m_get_plot_backend\u001b[1;34m(backend)\u001b[0m\n\u001b[0;32m   1851\u001b[0m \u001b[38;5;28;01mdef\u001b[39;00m \u001b[38;5;21m_load_backend\u001b[39m(backend: \u001b[38;5;28mstr\u001b[39m) \u001b[38;5;241m-\u001b[39m\u001b[38;5;241m>\u001b[39m types\u001b[38;5;241m.\u001b[39mModuleType:\n\u001b[0;32m   1852\u001b[0m \u001b[38;5;250m    \u001b[39m\u001b[38;5;124;03m\"\"\"\u001b[39;00m\n\u001b[0;32m   1853\u001b[0m \u001b[38;5;124;03m    Load a pandas plotting backend.\u001b[39;00m\n\u001b[0;32m   1854\u001b[0m \n\u001b[0;32m   1855\u001b[0m \u001b[38;5;124;03m    Parameters\u001b[39;00m\n\u001b[0;32m   1856\u001b[0m \u001b[38;5;124;03m    ----------\u001b[39;00m\n\u001b[0;32m   1857\u001b[0m \u001b[38;5;124;03m    backend : str\u001b[39;00m\n\u001b[0;32m   1858\u001b[0m \u001b[38;5;124;03m        The identifier for the backend. Either an entrypoint item registered\u001b[39;00m\n\u001b[0;32m   1859\u001b[0m \u001b[38;5;124;03m        with importlib.metadata, \"matplotlib\", or a module name.\u001b[39;00m\n\u001b[0;32m   1860\u001b[0m \n\u001b[0;32m   1861\u001b[0m \u001b[38;5;124;03m    Returns\u001b[39;00m\n\u001b[1;32m-> 1862\u001b[0m \u001b[38;5;124;03m    -------\u001b[39;00m\n\u001b[0;32m   1863\u001b[0m \u001b[38;5;124;03m    types.ModuleType\u001b[39;00m\n\u001b[0;32m   1864\u001b[0m \u001b[38;5;124;03m        The imported backend.\u001b[39;00m\n\u001b[0;32m   1865\u001b[0m \u001b[38;5;124;03m    \"\"\"\u001b[39;00m\n\u001b[0;32m   1866\u001b[0m     \u001b[38;5;28;01mfrom\u001b[39;00m \u001b[38;5;21;01mimportlib\u001b[39;00m\u001b[38;5;21;01m.\u001b[39;00m\u001b[38;5;21;01mmetadata\u001b[39;00m \u001b[38;5;28;01mimport\u001b[39;00m entry_points\n\u001b[0;32m   1868\u001b[0m     \u001b[38;5;28;01mif\u001b[39;00m backend \u001b[38;5;241m==\u001b[39m \u001b[38;5;124m\"\u001b[39m\u001b[38;5;124mmatplotlib\u001b[39m\u001b[38;5;124m\"\u001b[39m:\n\u001b[0;32m   1869\u001b[0m         \u001b[38;5;66;03m# Because matplotlib is an optional dependency and first-party backend,\u001b[39;00m\n\u001b[0;32m   1870\u001b[0m         \u001b[38;5;66;03m# we need to attempt an import here to raise an ImportError if needed.\u001b[39;00m\n",
      "File \u001b[1;32m~\\anaconda3\\Lib\\site-packages\\pandas\\plotting\\_core.py:1794\u001b[0m, in \u001b[0;36m_load_backend\u001b[1;34m(backend)\u001b[0m\n\u001b[0;32m   1750\u001b[0m \u001b[38;5;28;01mdef\u001b[39;00m \u001b[38;5;21mhexbin\u001b[39m(\n\u001b[0;32m   1751\u001b[0m     \u001b[38;5;28mself\u001b[39m,\n\u001b[0;32m   1752\u001b[0m     x: Hashable,\n\u001b[1;32m   (...)\u001b[0m\n\u001b[0;32m   1757\u001b[0m     \u001b[38;5;241m*\u001b[39m\u001b[38;5;241m*\u001b[39mkwargs,\n\u001b[0;32m   1758\u001b[0m ) \u001b[38;5;241m-\u001b[39m\u001b[38;5;241m>\u001b[39m PlotAccessor:\n\u001b[0;32m   1759\u001b[0m \u001b[38;5;250m    \u001b[39m\u001b[38;5;124;03m\"\"\"\u001b[39;00m\n\u001b[0;32m   1760\u001b[0m \u001b[38;5;124;03m    Generate a hexagonal binning plot.\u001b[39;00m\n\u001b[0;32m   1761\u001b[0m \n\u001b[0;32m   1762\u001b[0m \u001b[38;5;124;03m    Generate a hexagonal binning plot of `x` versus `y`. If `C` is `None`\u001b[39;00m\n\u001b[0;32m   1763\u001b[0m \u001b[38;5;124;03m    (the default), this is a histogram of the number of occurrences\u001b[39;00m\n\u001b[0;32m   1764\u001b[0m \u001b[38;5;124;03m    of the observations at ``(x[i], y[i])``.\u001b[39;00m\n\u001b[0;32m   1765\u001b[0m \n\u001b[0;32m   1766\u001b[0m \u001b[38;5;124;03m    If `C` is specified, specifies values at given coordinates\u001b[39;00m\n\u001b[0;32m   1767\u001b[0m \u001b[38;5;124;03m    ``(x[i], y[i])``. These values are accumulated for each hexagonal\u001b[39;00m\n\u001b[0;32m   1768\u001b[0m \u001b[38;5;124;03m    bin and then reduced according to `reduce_C_function`,\u001b[39;00m\n\u001b[0;32m   1769\u001b[0m \u001b[38;5;124;03m    having as default the NumPy's mean function (:meth:`numpy.mean`).\u001b[39;00m\n\u001b[0;32m   1770\u001b[0m \u001b[38;5;124;03m    (If `C` is specified, it must also be a 1-D sequence\u001b[39;00m\n\u001b[0;32m   1771\u001b[0m \u001b[38;5;124;03m    of the same length as `x` and `y`, or a column label.)\u001b[39;00m\n\u001b[0;32m   1772\u001b[0m \n\u001b[0;32m   1773\u001b[0m \u001b[38;5;124;03m    Parameters\u001b[39;00m\n\u001b[0;32m   1774\u001b[0m \u001b[38;5;124;03m    ----------\u001b[39;00m\n\u001b[0;32m   1775\u001b[0m \u001b[38;5;124;03m    x : int or str\u001b[39;00m\n\u001b[0;32m   1776\u001b[0m \u001b[38;5;124;03m        The column label or position for x points.\u001b[39;00m\n\u001b[0;32m   1777\u001b[0m \u001b[38;5;124;03m    y : int or str\u001b[39;00m\n\u001b[0;32m   1778\u001b[0m \u001b[38;5;124;03m        The column label or position for y points.\u001b[39;00m\n\u001b[0;32m   1779\u001b[0m \u001b[38;5;124;03m    C : int or str, optional\u001b[39;00m\n\u001b[0;32m   1780\u001b[0m \u001b[38;5;124;03m        The column label or position for the value of `(x, y)` point.\u001b[39;00m\n\u001b[0;32m   1781\u001b[0m \u001b[38;5;124;03m    reduce_C_function : callable, default `np.mean`\u001b[39;00m\n\u001b[0;32m   1782\u001b[0m \u001b[38;5;124;03m        Function of one argument that reduces all the values in a bin to\u001b[39;00m\n\u001b[0;32m   1783\u001b[0m \u001b[38;5;124;03m        a single number (e.g. `np.mean`, `np.max`, `np.sum`, `np.std`).\u001b[39;00m\n\u001b[0;32m   1784\u001b[0m \u001b[38;5;124;03m    gridsize : int or tuple of (int, int), default 100\u001b[39;00m\n\u001b[0;32m   1785\u001b[0m \u001b[38;5;124;03m        The number of hexagons in the x-direction.\u001b[39;00m\n\u001b[0;32m   1786\u001b[0m \u001b[38;5;124;03m        The corresponding number of hexagons in the y-direction is\u001b[39;00m\n\u001b[0;32m   1787\u001b[0m \u001b[38;5;124;03m        chosen in a way that the hexagons are approximately regular.\u001b[39;00m\n\u001b[0;32m   1788\u001b[0m \u001b[38;5;124;03m        Alternatively, gridsize can be a tuple with two elements\u001b[39;00m\n\u001b[0;32m   1789\u001b[0m \u001b[38;5;124;03m        specifying the number of hexagons in the x-direction and the\u001b[39;00m\n\u001b[0;32m   1790\u001b[0m \u001b[38;5;124;03m        y-direction.\u001b[39;00m\n\u001b[0;32m   1791\u001b[0m \u001b[38;5;124;03m    **kwargs\u001b[39;00m\n\u001b[0;32m   1792\u001b[0m \u001b[38;5;124;03m        Additional keyword arguments are documented in\u001b[39;00m\n\u001b[0;32m   1793\u001b[0m \u001b[38;5;124;03m        :meth:`DataFrame.plot`.\u001b[39;00m\n\u001b[1;32m-> 1794\u001b[0m \n\u001b[0;32m   1795\u001b[0m \u001b[38;5;124;03m    Returns\u001b[39;00m\n\u001b[0;32m   1796\u001b[0m \u001b[38;5;124;03m    -------\u001b[39;00m\n\u001b[0;32m   1797\u001b[0m \u001b[38;5;124;03m    matplotlib.AxesSubplot\u001b[39;00m\n\u001b[0;32m   1798\u001b[0m \u001b[38;5;124;03m        The matplotlib ``Axes`` on which the hexbin is plotted.\u001b[39;00m\n\u001b[0;32m   1799\u001b[0m \n\u001b[0;32m   1800\u001b[0m \u001b[38;5;124;03m    See Also\u001b[39;00m\n\u001b[0;32m   1801\u001b[0m \u001b[38;5;124;03m    --------\u001b[39;00m\n\u001b[0;32m   1802\u001b[0m \u001b[38;5;124;03m    DataFrame.plot : Make plots of a DataFrame.\u001b[39;00m\n\u001b[0;32m   1803\u001b[0m \u001b[38;5;124;03m    matplotlib.pyplot.hexbin : Hexagonal binning plot using matplotlib,\u001b[39;00m\n\u001b[0;32m   1804\u001b[0m \u001b[38;5;124;03m        the matplotlib function that is used under the hood.\u001b[39;00m\n\u001b[0;32m   1805\u001b[0m \n\u001b[0;32m   1806\u001b[0m \u001b[38;5;124;03m    Examples\u001b[39;00m\n\u001b[0;32m   1807\u001b[0m \u001b[38;5;124;03m    --------\u001b[39;00m\n\u001b[0;32m   1808\u001b[0m \u001b[38;5;124;03m    The following examples are generated with random data from\u001b[39;00m\n\u001b[0;32m   1809\u001b[0m \u001b[38;5;124;03m    a normal distribution.\u001b[39;00m\n\u001b[0;32m   1810\u001b[0m \n\u001b[0;32m   1811\u001b[0m \u001b[38;5;124;03m    .. plot::\u001b[39;00m\n\u001b[0;32m   1812\u001b[0m \u001b[38;5;124;03m        :context: close-figs\u001b[39;00m\n\u001b[0;32m   1813\u001b[0m \n\u001b[0;32m   1814\u001b[0m \u001b[38;5;124;03m        >>> n = 10000\u001b[39;00m\n\u001b[0;32m   1815\u001b[0m \u001b[38;5;124;03m        >>> df = pd.DataFrame({'x': np.random.randn(n),\u001b[39;00m\n\u001b[0;32m   1816\u001b[0m \u001b[38;5;124;03m        ...                    'y': np.random.randn(n)})\u001b[39;00m\n\u001b[0;32m   1817\u001b[0m \u001b[38;5;124;03m        >>> ax = df.plot.hexbin(x='x', y='y', gridsize=20)\u001b[39;00m\n\u001b[0;32m   1818\u001b[0m \n\u001b[0;32m   1819\u001b[0m \u001b[38;5;124;03m    The next example uses `C` and `np.sum` as `reduce_C_function`.\u001b[39;00m\n\u001b[0;32m   1820\u001b[0m \u001b[38;5;124;03m    Note that `'observations'` values ranges from 1 to 5 but the result\u001b[39;00m\n\u001b[0;32m   1821\u001b[0m \u001b[38;5;124;03m    plot shows values up to more than 25. This is because of the\u001b[39;00m\n\u001b[0;32m   1822\u001b[0m \u001b[38;5;124;03m    `reduce_C_function`.\u001b[39;00m\n\u001b[0;32m   1823\u001b[0m \n\u001b[0;32m   1824\u001b[0m \u001b[38;5;124;03m    .. plot::\u001b[39;00m\n\u001b[0;32m   1825\u001b[0m \u001b[38;5;124;03m        :context: close-figs\u001b[39;00m\n\u001b[0;32m   1826\u001b[0m \n\u001b[0;32m   1827\u001b[0m \u001b[38;5;124;03m        >>> n = 500\u001b[39;00m\n\u001b[0;32m   1828\u001b[0m \u001b[38;5;124;03m        >>> df = pd.DataFrame({\u001b[39;00m\n\u001b[0;32m   1829\u001b[0m \u001b[38;5;124;03m        ...     'coord_x': np.random.uniform(-3, 3, size=n),\u001b[39;00m\n\u001b[0;32m   1830\u001b[0m \u001b[38;5;124;03m        ...     'coord_y': np.random.uniform(30, 50, size=n),\u001b[39;00m\n\u001b[0;32m   1831\u001b[0m \u001b[38;5;124;03m        ...     'observations': np.random.randint(1,5, size=n)\u001b[39;00m\n\u001b[0;32m   1832\u001b[0m \u001b[38;5;124;03m        ...     })\u001b[39;00m\n\u001b[0;32m   1833\u001b[0m \u001b[38;5;124;03m        >>> ax = df.plot.hexbin(x='coord_x',\u001b[39;00m\n\u001b[0;32m   1834\u001b[0m \u001b[38;5;124;03m        ...                     y='coord_y',\u001b[39;00m\n\u001b[0;32m   1835\u001b[0m \u001b[38;5;124;03m        ...                     C='observations',\u001b[39;00m\n\u001b[0;32m   1836\u001b[0m \u001b[38;5;124;03m        ...                     reduce_C_function=np.sum,\u001b[39;00m\n\u001b[0;32m   1837\u001b[0m \u001b[38;5;124;03m        ...                     gridsize=10,\u001b[39;00m\n\u001b[0;32m   1838\u001b[0m \u001b[38;5;124;03m        ...                     cmap=\"viridis\")\u001b[39;00m\n\u001b[0;32m   1839\u001b[0m \u001b[38;5;124;03m    \"\"\"\u001b[39;00m\n\u001b[0;32m   1840\u001b[0m     \u001b[38;5;28;01mif\u001b[39;00m reduce_C_function \u001b[38;5;129;01mis\u001b[39;00m \u001b[38;5;129;01mnot\u001b[39;00m \u001b[38;5;28;01mNone\u001b[39;00m:\n\u001b[0;32m   1841\u001b[0m         kwargs[\u001b[38;5;124m\"\u001b[39m\u001b[38;5;124mreduce_C_function\u001b[39m\u001b[38;5;124m\"\u001b[39m] \u001b[38;5;241m=\u001b[39m reduce_C_function\n",
      "\u001b[1;31mImportError\u001b[0m: matplotlib is required for plotting when the default backend \"matplotlib\" is selected."
     ]
    },
    {
     "data": {
      "text/plain": [
       "<Figure size 800x600 with 0 Axes>"
      ]
     },
     "metadata": {},
     "output_type": "display_data"
    }
   ],
   "source": [
    "# Cancer stage distribution\n",
    "if 'cancer_stage' in lung_cancer_df.columns:\n",
    "    plt.figure(figsize=(8,6))\n",
    "    lung_cancer_df['cancer_stage'].value_counts().plot(kind='bar', color='salmon')\n",
    "    plt.title('Cancer Stage at Diagnosis')\n",
    "    plt.xlabel('Cancer Stage')\n",
    "    plt.ylabel('Count')\n",
    "    plt.show()\n",
    "else:\n",
    "    print(\"Warning: 'cancer_stage' column not found in the dataset.\")\n"
   ]
  },
  {
   "cell_type": "code",
   "execution_count": 38,
   "id": "2c53f89f",
   "metadata": {},
   "outputs": [
    {
     "ename": "ImportError",
     "evalue": "matplotlib is required for plotting when the default backend \"matplotlib\" is selected.",
     "output_type": "error",
     "traceback": [
      "\u001b[1;31m---------------------------------------------------------------------------\u001b[0m",
      "\u001b[1;31mImportError\u001b[0m                               Traceback (most recent call last)",
      "Cell \u001b[1;32mIn[38], line 4\u001b[0m\n\u001b[0;32m      2\u001b[0m \u001b[38;5;28;01mif\u001b[39;00m \u001b[38;5;124m'\u001b[39m\u001b[38;5;124msmoking_status\u001b[39m\u001b[38;5;124m'\u001b[39m \u001b[38;5;129;01min\u001b[39;00m lung_cancer_df\u001b[38;5;241m.\u001b[39mcolumns:\n\u001b[0;32m      3\u001b[0m     plt\u001b[38;5;241m.\u001b[39mfigure(figsize\u001b[38;5;241m=\u001b[39m(\u001b[38;5;241m8\u001b[39m,\u001b[38;5;241m6\u001b[39m))\n\u001b[1;32m----> 4\u001b[0m     lung_cancer_df[\u001b[38;5;124m'\u001b[39m\u001b[38;5;124msmoking_status\u001b[39m\u001b[38;5;124m'\u001b[39m]\u001b[38;5;241m.\u001b[39mvalue_counts()\u001b[38;5;241m.\u001b[39mplot(kind\u001b[38;5;241m=\u001b[39m\u001b[38;5;124m'\u001b[39m\u001b[38;5;124mbar\u001b[39m\u001b[38;5;124m'\u001b[39m, color\u001b[38;5;241m=\u001b[39m\u001b[38;5;124m'\u001b[39m\u001b[38;5;124mgreen\u001b[39m\u001b[38;5;124m'\u001b[39m)\n\u001b[0;32m      5\u001b[0m     plt\u001b[38;5;241m.\u001b[39mtitle(\u001b[38;5;124m'\u001b[39m\u001b[38;5;124mSmoking Status Distribution\u001b[39m\u001b[38;5;124m'\u001b[39m)\n\u001b[0;32m      6\u001b[0m     plt\u001b[38;5;241m.\u001b[39mxlabel(\u001b[38;5;124m'\u001b[39m\u001b[38;5;124mSmoking Status\u001b[39m\u001b[38;5;124m'\u001b[39m)\n",
      "File \u001b[1;32m~\\anaconda3\\Lib\\site-packages\\pandas\\plotting\\_core.py:895\u001b[0m, in \u001b[0;36m__call__\u001b[1;34m(self, *args, **kwargs)\u001b[0m\n\u001b[0;32m    855\u001b[0m     arg_def \u001b[38;5;241m=\u001b[39m [\n\u001b[0;32m    856\u001b[0m         (\u001b[38;5;124m\"\u001b[39m\u001b[38;5;124mkind\u001b[39m\u001b[38;5;124m\"\u001b[39m, \u001b[38;5;124m\"\u001b[39m\u001b[38;5;124mline\u001b[39m\u001b[38;5;124m\"\u001b[39m),\n\u001b[0;32m    857\u001b[0m         (\u001b[38;5;124m\"\u001b[39m\u001b[38;5;124max\u001b[39m\u001b[38;5;124m\"\u001b[39m, \u001b[38;5;28;01mNone\u001b[39;00m),\n\u001b[1;32m   (...)\u001b[0m\n\u001b[0;32m    880\u001b[0m         (\u001b[38;5;124m\"\u001b[39m\u001b[38;5;124mylabel\u001b[39m\u001b[38;5;124m\"\u001b[39m, \u001b[38;5;28;01mNone\u001b[39;00m),\n\u001b[0;32m    881\u001b[0m     ]\n\u001b[0;32m    882\u001b[0m \u001b[38;5;28;01melif\u001b[39;00m \u001b[38;5;28misinstance\u001b[39m(data, ABCDataFrame):\n\u001b[0;32m    883\u001b[0m     arg_def \u001b[38;5;241m=\u001b[39m [\n\u001b[0;32m    884\u001b[0m         (\u001b[38;5;124m\"\u001b[39m\u001b[38;5;124mx\u001b[39m\u001b[38;5;124m\"\u001b[39m, \u001b[38;5;28;01mNone\u001b[39;00m),\n\u001b[0;32m    885\u001b[0m         (\u001b[38;5;124m\"\u001b[39m\u001b[38;5;124my\u001b[39m\u001b[38;5;124m\"\u001b[39m, \u001b[38;5;28;01mNone\u001b[39;00m),\n\u001b[0;32m    886\u001b[0m         (\u001b[38;5;124m\"\u001b[39m\u001b[38;5;124mkind\u001b[39m\u001b[38;5;124m\"\u001b[39m, \u001b[38;5;124m\"\u001b[39m\u001b[38;5;124mline\u001b[39m\u001b[38;5;124m\"\u001b[39m),\n\u001b[0;32m    887\u001b[0m         (\u001b[38;5;124m\"\u001b[39m\u001b[38;5;124max\u001b[39m\u001b[38;5;124m\"\u001b[39m, \u001b[38;5;28;01mNone\u001b[39;00m),\n\u001b[0;32m    888\u001b[0m         (\u001b[38;5;124m\"\u001b[39m\u001b[38;5;124msubplots\u001b[39m\u001b[38;5;124m\"\u001b[39m, \u001b[38;5;28;01mFalse\u001b[39;00m),\n\u001b[0;32m    889\u001b[0m         (\u001b[38;5;124m\"\u001b[39m\u001b[38;5;124msharex\u001b[39m\u001b[38;5;124m\"\u001b[39m, \u001b[38;5;28;01mNone\u001b[39;00m),\n\u001b[0;32m    890\u001b[0m         (\u001b[38;5;124m\"\u001b[39m\u001b[38;5;124msharey\u001b[39m\u001b[38;5;124m\"\u001b[39m, \u001b[38;5;28;01mFalse\u001b[39;00m),\n\u001b[0;32m    891\u001b[0m         (\u001b[38;5;124m\"\u001b[39m\u001b[38;5;124mlayout\u001b[39m\u001b[38;5;124m\"\u001b[39m, \u001b[38;5;28;01mNone\u001b[39;00m),\n\u001b[0;32m    892\u001b[0m         (\u001b[38;5;124m\"\u001b[39m\u001b[38;5;124mfigsize\u001b[39m\u001b[38;5;124m\"\u001b[39m, \u001b[38;5;28;01mNone\u001b[39;00m),\n\u001b[0;32m    893\u001b[0m         (\u001b[38;5;124m\"\u001b[39m\u001b[38;5;124muse_index\u001b[39m\u001b[38;5;124m\"\u001b[39m, \u001b[38;5;28;01mTrue\u001b[39;00m),\n\u001b[0;32m    894\u001b[0m         (\u001b[38;5;124m\"\u001b[39m\u001b[38;5;124mtitle\u001b[39m\u001b[38;5;124m\"\u001b[39m, \u001b[38;5;28;01mNone\u001b[39;00m),\n\u001b[1;32m--> 895\u001b[0m         (\u001b[38;5;124m\"\u001b[39m\u001b[38;5;124mgrid\u001b[39m\u001b[38;5;124m\"\u001b[39m, \u001b[38;5;28;01mNone\u001b[39;00m),\n\u001b[0;32m    896\u001b[0m         (\u001b[38;5;124m\"\u001b[39m\u001b[38;5;124mlegend\u001b[39m\u001b[38;5;124m\"\u001b[39m, \u001b[38;5;28;01mTrue\u001b[39;00m),\n\u001b[0;32m    897\u001b[0m         (\u001b[38;5;124m\"\u001b[39m\u001b[38;5;124mstyle\u001b[39m\u001b[38;5;124m\"\u001b[39m, \u001b[38;5;28;01mNone\u001b[39;00m),\n\u001b[0;32m    898\u001b[0m         (\u001b[38;5;124m\"\u001b[39m\u001b[38;5;124mlogx\u001b[39m\u001b[38;5;124m\"\u001b[39m, \u001b[38;5;28;01mFalse\u001b[39;00m),\n\u001b[0;32m    899\u001b[0m         (\u001b[38;5;124m\"\u001b[39m\u001b[38;5;124mlogy\u001b[39m\u001b[38;5;124m\"\u001b[39m, \u001b[38;5;28;01mFalse\u001b[39;00m),\n\u001b[0;32m    900\u001b[0m         (\u001b[38;5;124m\"\u001b[39m\u001b[38;5;124mloglog\u001b[39m\u001b[38;5;124m\"\u001b[39m, \u001b[38;5;28;01mFalse\u001b[39;00m),\n\u001b[0;32m    901\u001b[0m         (\u001b[38;5;124m\"\u001b[39m\u001b[38;5;124mxticks\u001b[39m\u001b[38;5;124m\"\u001b[39m, \u001b[38;5;28;01mNone\u001b[39;00m),\n\u001b[0;32m    902\u001b[0m         (\u001b[38;5;124m\"\u001b[39m\u001b[38;5;124myticks\u001b[39m\u001b[38;5;124m\"\u001b[39m, \u001b[38;5;28;01mNone\u001b[39;00m),\n\u001b[0;32m    903\u001b[0m         (\u001b[38;5;124m\"\u001b[39m\u001b[38;5;124mxlim\u001b[39m\u001b[38;5;124m\"\u001b[39m, \u001b[38;5;28;01mNone\u001b[39;00m),\n\u001b[0;32m    904\u001b[0m         (\u001b[38;5;124m\"\u001b[39m\u001b[38;5;124mylim\u001b[39m\u001b[38;5;124m\"\u001b[39m, \u001b[38;5;28;01mNone\u001b[39;00m),\n\u001b[0;32m    905\u001b[0m         (\u001b[38;5;124m\"\u001b[39m\u001b[38;5;124mrot\u001b[39m\u001b[38;5;124m\"\u001b[39m, \u001b[38;5;28;01mNone\u001b[39;00m),\n\u001b[0;32m    906\u001b[0m         (\u001b[38;5;124m\"\u001b[39m\u001b[38;5;124mfontsize\u001b[39m\u001b[38;5;124m\"\u001b[39m, \u001b[38;5;28;01mNone\u001b[39;00m),\n\u001b[0;32m    907\u001b[0m         (\u001b[38;5;124m\"\u001b[39m\u001b[38;5;124mcolormap\u001b[39m\u001b[38;5;124m\"\u001b[39m, \u001b[38;5;28;01mNone\u001b[39;00m),\n\u001b[0;32m    908\u001b[0m         (\u001b[38;5;124m\"\u001b[39m\u001b[38;5;124mtable\u001b[39m\u001b[38;5;124m\"\u001b[39m, \u001b[38;5;28;01mFalse\u001b[39;00m),\n\u001b[0;32m    909\u001b[0m         (\u001b[38;5;124m\"\u001b[39m\u001b[38;5;124myerr\u001b[39m\u001b[38;5;124m\"\u001b[39m, \u001b[38;5;28;01mNone\u001b[39;00m),\n\u001b[0;32m    910\u001b[0m         (\u001b[38;5;124m\"\u001b[39m\u001b[38;5;124mxerr\u001b[39m\u001b[38;5;124m\"\u001b[39m, \u001b[38;5;28;01mNone\u001b[39;00m),\n\u001b[0;32m    911\u001b[0m         (\u001b[38;5;124m\"\u001b[39m\u001b[38;5;124msecondary_y\u001b[39m\u001b[38;5;124m\"\u001b[39m, \u001b[38;5;28;01mFalse\u001b[39;00m),\n\u001b[0;32m    912\u001b[0m         (\u001b[38;5;124m\"\u001b[39m\u001b[38;5;124mxlabel\u001b[39m\u001b[38;5;124m\"\u001b[39m, \u001b[38;5;28;01mNone\u001b[39;00m),\n\u001b[0;32m    913\u001b[0m         (\u001b[38;5;124m\"\u001b[39m\u001b[38;5;124mylabel\u001b[39m\u001b[38;5;124m\"\u001b[39m, \u001b[38;5;28;01mNone\u001b[39;00m),\n\u001b[0;32m    914\u001b[0m     ]\n\u001b[0;32m    915\u001b[0m \u001b[38;5;28;01melse\u001b[39;00m:\n\u001b[0;32m    916\u001b[0m     \u001b[38;5;28;01mraise\u001b[39;00m \u001b[38;5;167;01mTypeError\u001b[39;00m(\n\u001b[0;32m    917\u001b[0m         \u001b[38;5;124mf\u001b[39m\u001b[38;5;124m\"\u001b[39m\u001b[38;5;124mCalled plot accessor for type \u001b[39m\u001b[38;5;132;01m{\u001b[39;00m\u001b[38;5;28mtype\u001b[39m(data)\u001b[38;5;241m.\u001b[39m\u001b[38;5;18m__name__\u001b[39m\u001b[38;5;132;01m}\u001b[39;00m\u001b[38;5;124m, \u001b[39m\u001b[38;5;124m\"\u001b[39m\n\u001b[0;32m    918\u001b[0m         \u001b[38;5;124m\"\u001b[39m\u001b[38;5;124mexpected Series or DataFrame\u001b[39m\u001b[38;5;124m\"\u001b[39m\n\u001b[0;32m    919\u001b[0m     )\n",
      "File \u001b[1;32m~\\anaconda3\\Lib\\site-packages\\pandas\\plotting\\_core.py:1862\u001b[0m, in \u001b[0;36m_get_plot_backend\u001b[1;34m(backend)\u001b[0m\n\u001b[0;32m   1851\u001b[0m \u001b[38;5;28;01mdef\u001b[39;00m \u001b[38;5;21m_load_backend\u001b[39m(backend: \u001b[38;5;28mstr\u001b[39m) \u001b[38;5;241m-\u001b[39m\u001b[38;5;241m>\u001b[39m types\u001b[38;5;241m.\u001b[39mModuleType:\n\u001b[0;32m   1852\u001b[0m \u001b[38;5;250m    \u001b[39m\u001b[38;5;124;03m\"\"\"\u001b[39;00m\n\u001b[0;32m   1853\u001b[0m \u001b[38;5;124;03m    Load a pandas plotting backend.\u001b[39;00m\n\u001b[0;32m   1854\u001b[0m \n\u001b[0;32m   1855\u001b[0m \u001b[38;5;124;03m    Parameters\u001b[39;00m\n\u001b[0;32m   1856\u001b[0m \u001b[38;5;124;03m    ----------\u001b[39;00m\n\u001b[0;32m   1857\u001b[0m \u001b[38;5;124;03m    backend : str\u001b[39;00m\n\u001b[0;32m   1858\u001b[0m \u001b[38;5;124;03m        The identifier for the backend. Either an entrypoint item registered\u001b[39;00m\n\u001b[0;32m   1859\u001b[0m \u001b[38;5;124;03m        with importlib.metadata, \"matplotlib\", or a module name.\u001b[39;00m\n\u001b[0;32m   1860\u001b[0m \n\u001b[0;32m   1861\u001b[0m \u001b[38;5;124;03m    Returns\u001b[39;00m\n\u001b[1;32m-> 1862\u001b[0m \u001b[38;5;124;03m    -------\u001b[39;00m\n\u001b[0;32m   1863\u001b[0m \u001b[38;5;124;03m    types.ModuleType\u001b[39;00m\n\u001b[0;32m   1864\u001b[0m \u001b[38;5;124;03m        The imported backend.\u001b[39;00m\n\u001b[0;32m   1865\u001b[0m \u001b[38;5;124;03m    \"\"\"\u001b[39;00m\n\u001b[0;32m   1866\u001b[0m     \u001b[38;5;28;01mfrom\u001b[39;00m \u001b[38;5;21;01mimportlib\u001b[39;00m\u001b[38;5;21;01m.\u001b[39;00m\u001b[38;5;21;01mmetadata\u001b[39;00m \u001b[38;5;28;01mimport\u001b[39;00m entry_points\n\u001b[0;32m   1868\u001b[0m     \u001b[38;5;28;01mif\u001b[39;00m backend \u001b[38;5;241m==\u001b[39m \u001b[38;5;124m\"\u001b[39m\u001b[38;5;124mmatplotlib\u001b[39m\u001b[38;5;124m\"\u001b[39m:\n\u001b[0;32m   1869\u001b[0m         \u001b[38;5;66;03m# Because matplotlib is an optional dependency and first-party backend,\u001b[39;00m\n\u001b[0;32m   1870\u001b[0m         \u001b[38;5;66;03m# we need to attempt an import here to raise an ImportError if needed.\u001b[39;00m\n",
      "File \u001b[1;32m~\\anaconda3\\Lib\\site-packages\\pandas\\plotting\\_core.py:1794\u001b[0m, in \u001b[0;36m_load_backend\u001b[1;34m(backend)\u001b[0m\n\u001b[0;32m   1750\u001b[0m \u001b[38;5;28;01mdef\u001b[39;00m \u001b[38;5;21mhexbin\u001b[39m(\n\u001b[0;32m   1751\u001b[0m     \u001b[38;5;28mself\u001b[39m,\n\u001b[0;32m   1752\u001b[0m     x: Hashable,\n\u001b[1;32m   (...)\u001b[0m\n\u001b[0;32m   1757\u001b[0m     \u001b[38;5;241m*\u001b[39m\u001b[38;5;241m*\u001b[39mkwargs,\n\u001b[0;32m   1758\u001b[0m ) \u001b[38;5;241m-\u001b[39m\u001b[38;5;241m>\u001b[39m PlotAccessor:\n\u001b[0;32m   1759\u001b[0m \u001b[38;5;250m    \u001b[39m\u001b[38;5;124;03m\"\"\"\u001b[39;00m\n\u001b[0;32m   1760\u001b[0m \u001b[38;5;124;03m    Generate a hexagonal binning plot.\u001b[39;00m\n\u001b[0;32m   1761\u001b[0m \n\u001b[0;32m   1762\u001b[0m \u001b[38;5;124;03m    Generate a hexagonal binning plot of `x` versus `y`. If `C` is `None`\u001b[39;00m\n\u001b[0;32m   1763\u001b[0m \u001b[38;5;124;03m    (the default), this is a histogram of the number of occurrences\u001b[39;00m\n\u001b[0;32m   1764\u001b[0m \u001b[38;5;124;03m    of the observations at ``(x[i], y[i])``.\u001b[39;00m\n\u001b[0;32m   1765\u001b[0m \n\u001b[0;32m   1766\u001b[0m \u001b[38;5;124;03m    If `C` is specified, specifies values at given coordinates\u001b[39;00m\n\u001b[0;32m   1767\u001b[0m \u001b[38;5;124;03m    ``(x[i], y[i])``. These values are accumulated for each hexagonal\u001b[39;00m\n\u001b[0;32m   1768\u001b[0m \u001b[38;5;124;03m    bin and then reduced according to `reduce_C_function`,\u001b[39;00m\n\u001b[0;32m   1769\u001b[0m \u001b[38;5;124;03m    having as default the NumPy's mean function (:meth:`numpy.mean`).\u001b[39;00m\n\u001b[0;32m   1770\u001b[0m \u001b[38;5;124;03m    (If `C` is specified, it must also be a 1-D sequence\u001b[39;00m\n\u001b[0;32m   1771\u001b[0m \u001b[38;5;124;03m    of the same length as `x` and `y`, or a column label.)\u001b[39;00m\n\u001b[0;32m   1772\u001b[0m \n\u001b[0;32m   1773\u001b[0m \u001b[38;5;124;03m    Parameters\u001b[39;00m\n\u001b[0;32m   1774\u001b[0m \u001b[38;5;124;03m    ----------\u001b[39;00m\n\u001b[0;32m   1775\u001b[0m \u001b[38;5;124;03m    x : int or str\u001b[39;00m\n\u001b[0;32m   1776\u001b[0m \u001b[38;5;124;03m        The column label or position for x points.\u001b[39;00m\n\u001b[0;32m   1777\u001b[0m \u001b[38;5;124;03m    y : int or str\u001b[39;00m\n\u001b[0;32m   1778\u001b[0m \u001b[38;5;124;03m        The column label or position for y points.\u001b[39;00m\n\u001b[0;32m   1779\u001b[0m \u001b[38;5;124;03m    C : int or str, optional\u001b[39;00m\n\u001b[0;32m   1780\u001b[0m \u001b[38;5;124;03m        The column label or position for the value of `(x, y)` point.\u001b[39;00m\n\u001b[0;32m   1781\u001b[0m \u001b[38;5;124;03m    reduce_C_function : callable, default `np.mean`\u001b[39;00m\n\u001b[0;32m   1782\u001b[0m \u001b[38;5;124;03m        Function of one argument that reduces all the values in a bin to\u001b[39;00m\n\u001b[0;32m   1783\u001b[0m \u001b[38;5;124;03m        a single number (e.g. `np.mean`, `np.max`, `np.sum`, `np.std`).\u001b[39;00m\n\u001b[0;32m   1784\u001b[0m \u001b[38;5;124;03m    gridsize : int or tuple of (int, int), default 100\u001b[39;00m\n\u001b[0;32m   1785\u001b[0m \u001b[38;5;124;03m        The number of hexagons in the x-direction.\u001b[39;00m\n\u001b[0;32m   1786\u001b[0m \u001b[38;5;124;03m        The corresponding number of hexagons in the y-direction is\u001b[39;00m\n\u001b[0;32m   1787\u001b[0m \u001b[38;5;124;03m        chosen in a way that the hexagons are approximately regular.\u001b[39;00m\n\u001b[0;32m   1788\u001b[0m \u001b[38;5;124;03m        Alternatively, gridsize can be a tuple with two elements\u001b[39;00m\n\u001b[0;32m   1789\u001b[0m \u001b[38;5;124;03m        specifying the number of hexagons in the x-direction and the\u001b[39;00m\n\u001b[0;32m   1790\u001b[0m \u001b[38;5;124;03m        y-direction.\u001b[39;00m\n\u001b[0;32m   1791\u001b[0m \u001b[38;5;124;03m    **kwargs\u001b[39;00m\n\u001b[0;32m   1792\u001b[0m \u001b[38;5;124;03m        Additional keyword arguments are documented in\u001b[39;00m\n\u001b[0;32m   1793\u001b[0m \u001b[38;5;124;03m        :meth:`DataFrame.plot`.\u001b[39;00m\n\u001b[1;32m-> 1794\u001b[0m \n\u001b[0;32m   1795\u001b[0m \u001b[38;5;124;03m    Returns\u001b[39;00m\n\u001b[0;32m   1796\u001b[0m \u001b[38;5;124;03m    -------\u001b[39;00m\n\u001b[0;32m   1797\u001b[0m \u001b[38;5;124;03m    matplotlib.AxesSubplot\u001b[39;00m\n\u001b[0;32m   1798\u001b[0m \u001b[38;5;124;03m        The matplotlib ``Axes`` on which the hexbin is plotted.\u001b[39;00m\n\u001b[0;32m   1799\u001b[0m \n\u001b[0;32m   1800\u001b[0m \u001b[38;5;124;03m    See Also\u001b[39;00m\n\u001b[0;32m   1801\u001b[0m \u001b[38;5;124;03m    --------\u001b[39;00m\n\u001b[0;32m   1802\u001b[0m \u001b[38;5;124;03m    DataFrame.plot : Make plots of a DataFrame.\u001b[39;00m\n\u001b[0;32m   1803\u001b[0m \u001b[38;5;124;03m    matplotlib.pyplot.hexbin : Hexagonal binning plot using matplotlib,\u001b[39;00m\n\u001b[0;32m   1804\u001b[0m \u001b[38;5;124;03m        the matplotlib function that is used under the hood.\u001b[39;00m\n\u001b[0;32m   1805\u001b[0m \n\u001b[0;32m   1806\u001b[0m \u001b[38;5;124;03m    Examples\u001b[39;00m\n\u001b[0;32m   1807\u001b[0m \u001b[38;5;124;03m    --------\u001b[39;00m\n\u001b[0;32m   1808\u001b[0m \u001b[38;5;124;03m    The following examples are generated with random data from\u001b[39;00m\n\u001b[0;32m   1809\u001b[0m \u001b[38;5;124;03m    a normal distribution.\u001b[39;00m\n\u001b[0;32m   1810\u001b[0m \n\u001b[0;32m   1811\u001b[0m \u001b[38;5;124;03m    .. plot::\u001b[39;00m\n\u001b[0;32m   1812\u001b[0m \u001b[38;5;124;03m        :context: close-figs\u001b[39;00m\n\u001b[0;32m   1813\u001b[0m \n\u001b[0;32m   1814\u001b[0m \u001b[38;5;124;03m        >>> n = 10000\u001b[39;00m\n\u001b[0;32m   1815\u001b[0m \u001b[38;5;124;03m        >>> df = pd.DataFrame({'x': np.random.randn(n),\u001b[39;00m\n\u001b[0;32m   1816\u001b[0m \u001b[38;5;124;03m        ...                    'y': np.random.randn(n)})\u001b[39;00m\n\u001b[0;32m   1817\u001b[0m \u001b[38;5;124;03m        >>> ax = df.plot.hexbin(x='x', y='y', gridsize=20)\u001b[39;00m\n\u001b[0;32m   1818\u001b[0m \n\u001b[0;32m   1819\u001b[0m \u001b[38;5;124;03m    The next example uses `C` and `np.sum` as `reduce_C_function`.\u001b[39;00m\n\u001b[0;32m   1820\u001b[0m \u001b[38;5;124;03m    Note that `'observations'` values ranges from 1 to 5 but the result\u001b[39;00m\n\u001b[0;32m   1821\u001b[0m \u001b[38;5;124;03m    plot shows values up to more than 25. This is because of the\u001b[39;00m\n\u001b[0;32m   1822\u001b[0m \u001b[38;5;124;03m    `reduce_C_function`.\u001b[39;00m\n\u001b[0;32m   1823\u001b[0m \n\u001b[0;32m   1824\u001b[0m \u001b[38;5;124;03m    .. plot::\u001b[39;00m\n\u001b[0;32m   1825\u001b[0m \u001b[38;5;124;03m        :context: close-figs\u001b[39;00m\n\u001b[0;32m   1826\u001b[0m \n\u001b[0;32m   1827\u001b[0m \u001b[38;5;124;03m        >>> n = 500\u001b[39;00m\n\u001b[0;32m   1828\u001b[0m \u001b[38;5;124;03m        >>> df = pd.DataFrame({\u001b[39;00m\n\u001b[0;32m   1829\u001b[0m \u001b[38;5;124;03m        ...     'coord_x': np.random.uniform(-3, 3, size=n),\u001b[39;00m\n\u001b[0;32m   1830\u001b[0m \u001b[38;5;124;03m        ...     'coord_y': np.random.uniform(30, 50, size=n),\u001b[39;00m\n\u001b[0;32m   1831\u001b[0m \u001b[38;5;124;03m        ...     'observations': np.random.randint(1,5, size=n)\u001b[39;00m\n\u001b[0;32m   1832\u001b[0m \u001b[38;5;124;03m        ...     })\u001b[39;00m\n\u001b[0;32m   1833\u001b[0m \u001b[38;5;124;03m        >>> ax = df.plot.hexbin(x='coord_x',\u001b[39;00m\n\u001b[0;32m   1834\u001b[0m \u001b[38;5;124;03m        ...                     y='coord_y',\u001b[39;00m\n\u001b[0;32m   1835\u001b[0m \u001b[38;5;124;03m        ...                     C='observations',\u001b[39;00m\n\u001b[0;32m   1836\u001b[0m \u001b[38;5;124;03m        ...                     reduce_C_function=np.sum,\u001b[39;00m\n\u001b[0;32m   1837\u001b[0m \u001b[38;5;124;03m        ...                     gridsize=10,\u001b[39;00m\n\u001b[0;32m   1838\u001b[0m \u001b[38;5;124;03m        ...                     cmap=\"viridis\")\u001b[39;00m\n\u001b[0;32m   1839\u001b[0m \u001b[38;5;124;03m    \"\"\"\u001b[39;00m\n\u001b[0;32m   1840\u001b[0m     \u001b[38;5;28;01mif\u001b[39;00m reduce_C_function \u001b[38;5;129;01mis\u001b[39;00m \u001b[38;5;129;01mnot\u001b[39;00m \u001b[38;5;28;01mNone\u001b[39;00m:\n\u001b[0;32m   1841\u001b[0m         kwargs[\u001b[38;5;124m\"\u001b[39m\u001b[38;5;124mreduce_C_function\u001b[39m\u001b[38;5;124m\"\u001b[39m] \u001b[38;5;241m=\u001b[39m reduce_C_function\n",
      "\u001b[1;31mImportError\u001b[0m: matplotlib is required for plotting when the default backend \"matplotlib\" is selected."
     ]
    },
    {
     "data": {
      "text/plain": [
       "<Figure size 800x600 with 0 Axes>"
      ]
     },
     "metadata": {},
     "output_type": "display_data"
    }
   ],
   "source": [
    "# Smoking status distribution\n",
    "if 'smoking_status' in lung_cancer_df.columns:\n",
    "    plt.figure(figsize=(8,6))\n",
    "    lung_cancer_df['smoking_status'].value_counts().plot(kind='bar', color='green')\n",
    "    plt.title('Smoking Status Distribution')\n",
    "    plt.xlabel('Smoking Status')\n",
    "    plt.ylabel('Count')\n",
    "    plt.show()\n",
    "else:\n",
    "    print(\"Warning: 'smoking_status' column not found in the dataset.\")\n"
   ]
  },
  {
   "cell_type": "code",
   "execution_count": null,
   "id": "fdada428",
   "metadata": {},
   "outputs": [],
   "source": [
    "# Example: Survival Analysis with lifelines\n",
    "# Note: Ensure that the necessary columns for survival analysis are present\n",
    "\n",
    "# For demonstration, let's assume:\n",
    "# - 'end_treatment_date' as the event time\n",
    "# - 'outcome' as the event observed (1 if 'Deceased', 0 if 'Alive')\n",
    "\n",
    "if {'end_treatment_date', 'outcome'}.issubset(lung_cancer_df.columns):\n",
    "    # Prepare the data\n",
    "    lung_cancer_df['event_observed'] = lung_cancer_df['outcome'].apply(lambda x: 1 if x == 'Deceased' else 0)\n",
    "    lung_cancer_df['duration'] = (lung_cancer_df['end_treatment_date'] - lung_cancer_df['diagnosis_date']).dt.days\n",
    "\n",
    "    # Initialize Kaplan-Meier Fitter\n",
    "    kmf = KaplanMeierFitter()\n",
    "\n",
    "    # Fit the model\n",
    "    kmf.fit(durations=lung_cancer_df['duration'], event_observed=lung_cancer_df['event_observed'])\n",
    "\n",
    "    # Plot the survival function\n",
    "    plt.figure(figsize=(10,6))\n",
    "    kmf.plot_survival_function()\n",
    "    plt.title('Kaplan-Meier Survival Curve')\n",
    "    plt.xlabel('Time (days)')\n",
    "    plt.ylabel('Survival Probability')\n",
    "    plt.show()\n",
    "else:\n",
    "    print(\"Warning: Necessary columns for survival analysis ('end_treatment_date', 'outcome') not found.\")\n",
    "\n",
    "# Continue with other analyses as needed\n"
   ]
  },
  {
   "cell_type": "code",
   "execution_count": null,
   "id": "5d1dd01b",
   "metadata": {},
   "outputs": [],
   "source": []
  },
  {
   "cell_type": "code",
   "execution_count": null,
   "id": "7bd1534f",
   "metadata": {},
   "outputs": [],
   "source": []
  }
 ],
 "metadata": {
  "kernelspec": {
   "display_name": "Python 3 (ipykernel)",
   "language": "python",
   "name": "python3"
  },
  "language_info": {
   "codemirror_mode": {
    "name": "ipython",
    "version": 3
   },
   "file_extension": ".py",
   "mimetype": "text/x-python",
   "name": "python",
   "nbconvert_exporter": "python",
   "pygments_lexer": "ipython3",
   "version": "3.11.5"
  }
 },
 "nbformat": 4,
 "nbformat_minor": 5
}
