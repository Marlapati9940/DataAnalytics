{
 "cells": [
  {
   "cell_type": "markdown",
   "id": "5668abcd",
   "metadata": {},
   "source": [
    "## Import necessary libraries"
   ]
  },
  {
   "cell_type": "code",
   "execution_count": 1,
   "id": "5086713b",
   "metadata": {},
   "outputs": [],
   "source": [
    "import pandas as pd\n",
    "import numpy as np\n",
    "import scipy\n",
    "import seaborn as sns\n",
    "from scipy import stats\n",
    "import statsmodels.api as sm\n",
    "from sklearn.impute import SimpleImputer\n",
    "from sklearn.preprocessing import StandardScaler\n",
    "from sklearn.preprocessing import MinMaxScaler\n",
    "import matplotlib.pyplot as plt\n",
    "from sklearn.decomposition import PCA\n",
    "from sklearn.preprocessing import RobustScaler\n",
    "from sklearn.model_selection import train_test_split\n",
    "from sklearn.neighbors import KNeighborsRegressor\n",
    "from sklearn.tree import DecisionTreeRegressor\n",
    "from sklearn.metrics import mean_squared_error\n",
    "from sklearn.neighbors import KNeighborsClassifier\n",
    "from sklearn.tree import DecisionTreeClassifier\n",
    "from sklearn.metrics import accuracy_score, confusion_matrix, precision_score, recall_score, f1_score"
   ]
  },
  {
   "cell_type": "code",
   "execution_count": null,
   "id": "fb0a3501",
   "metadata": {},
   "outputs": [],
   "source": []
  },
  {
   "cell_type": "code",
   "execution_count": null,
   "id": "3e158fd0",
   "metadata": {},
   "outputs": [],
   "source": []
  },
  {
   "cell_type": "markdown",
   "id": "4780fff9",
   "metadata": {},
   "source": [
    "## Load the datasets"
   ]
  },
  {
   "cell_type": "code",
   "execution_count": 2,
   "id": "35f1b577",
   "metadata": {},
   "outputs": [],
   "source": [
    "movies_data = pd.read_csv('IMDbRatings_IndianMovies.csv')\n",
    "prices_data = pd.read_csv('tortilla_prices.csv')\n",
    "diabetes_data = pd.read_csv('diabetes_prediction_dataset.csv')"
   ]
  },
  {
   "cell_type": "code",
   "execution_count": null,
   "id": "1fb2391f",
   "metadata": {},
   "outputs": [],
   "source": []
  },
  {
   "cell_type": "markdown",
   "id": "c8ae9cd9",
   "metadata": {},
   "source": [
    "## Data Preprocessing"
   ]
  },
  {
   "cell_type": "code",
   "execution_count": 3,
   "id": "5f498638",
   "metadata": {},
   "outputs": [
    {
     "data": {
      "text/html": [
       "<div>\n",
       "<style scoped>\n",
       "    .dataframe tbody tr th:only-of-type {\n",
       "        vertical-align: middle;\n",
       "    }\n",
       "\n",
       "    .dataframe tbody tr th {\n",
       "        vertical-align: top;\n",
       "    }\n",
       "\n",
       "    .dataframe thead th {\n",
       "        text-align: right;\n",
       "    }\n",
       "</style>\n",
       "<table border=\"1\" class=\"dataframe\">\n",
       "  <thead>\n",
       "    <tr style=\"text-align: right;\">\n",
       "      <th></th>\n",
       "      <th>Name</th>\n",
       "      <th>Year</th>\n",
       "      <th>Duration</th>\n",
       "      <th>Genre</th>\n",
       "      <th>Rating</th>\n",
       "      <th>Votes</th>\n",
       "      <th>Director</th>\n",
       "      <th>Actor 1</th>\n",
       "      <th>Actor 2</th>\n",
       "      <th>Actor 3</th>\n",
       "    </tr>\n",
       "  </thead>\n",
       "  <tbody>\n",
       "    <tr>\n",
       "      <th>0</th>\n",
       "      <td>#Gadhvi (He thought he was Gandhi)</td>\n",
       "      <td>-2019.0</td>\n",
       "      <td>109 min</td>\n",
       "      <td>Drama</td>\n",
       "      <td>7.0</td>\n",
       "      <td>8</td>\n",
       "      <td>Gaurav Bakshi</td>\n",
       "      <td>Rasika Dugal</td>\n",
       "      <td>Vivek Ghamande</td>\n",
       "      <td>Arvind Jangid</td>\n",
       "    </tr>\n",
       "    <tr>\n",
       "      <th>1</th>\n",
       "      <td>#Homecoming</td>\n",
       "      <td>-2021.0</td>\n",
       "      <td>90 min</td>\n",
       "      <td>Drama, Musical</td>\n",
       "      <td>NaN</td>\n",
       "      <td>NaN</td>\n",
       "      <td>Soumyajit Majumdar</td>\n",
       "      <td>Sayani Gupta</td>\n",
       "      <td>Plabita Borthakur</td>\n",
       "      <td>Roy Angana</td>\n",
       "    </tr>\n",
       "    <tr>\n",
       "      <th>2</th>\n",
       "      <td>#Yaaram</td>\n",
       "      <td>-2019.0</td>\n",
       "      <td>110 min</td>\n",
       "      <td>Comedy, Romance</td>\n",
       "      <td>4.4</td>\n",
       "      <td>35</td>\n",
       "      <td>Ovais Khan</td>\n",
       "      <td>Prateik</td>\n",
       "      <td>Ishita Raj</td>\n",
       "      <td>Siddhant Kapoor</td>\n",
       "    </tr>\n",
       "    <tr>\n",
       "      <th>3</th>\n",
       "      <td>...And Once Again</td>\n",
       "      <td>-2010.0</td>\n",
       "      <td>105 min</td>\n",
       "      <td>Drama</td>\n",
       "      <td>NaN</td>\n",
       "      <td>NaN</td>\n",
       "      <td>Amol Palekar</td>\n",
       "      <td>Rajat Kapoor</td>\n",
       "      <td>Rituparna Sengupta</td>\n",
       "      <td>Antara Mali</td>\n",
       "    </tr>\n",
       "    <tr>\n",
       "      <th>4</th>\n",
       "      <td>...Aur Pyaar Ho Gaya</td>\n",
       "      <td>-1997.0</td>\n",
       "      <td>147 min</td>\n",
       "      <td>Comedy, Drama, Musical</td>\n",
       "      <td>4.7</td>\n",
       "      <td>827</td>\n",
       "      <td>Rahul Rawail</td>\n",
       "      <td>Bobby Deol</td>\n",
       "      <td>Aishwarya Rai Bachchan</td>\n",
       "      <td>Shammi Kapoor</td>\n",
       "    </tr>\n",
       "  </tbody>\n",
       "</table>\n",
       "</div>"
      ],
      "text/plain": [
       "                                 Name    Year Duration  \\\n",
       "0  #Gadhvi (He thought he was Gandhi) -2019.0  109 min   \n",
       "1                         #Homecoming -2021.0   90 min   \n",
       "2                             #Yaaram -2019.0  110 min   \n",
       "3                   ...And Once Again -2010.0  105 min   \n",
       "4                ...Aur Pyaar Ho Gaya -1997.0  147 min   \n",
       "\n",
       "                    Genre  Rating Votes            Director       Actor 1  \\\n",
       "0                   Drama     7.0     8       Gaurav Bakshi  Rasika Dugal   \n",
       "1          Drama, Musical     NaN   NaN  Soumyajit Majumdar  Sayani Gupta   \n",
       "2         Comedy, Romance     4.4    35          Ovais Khan       Prateik   \n",
       "3                   Drama     NaN   NaN        Amol Palekar  Rajat Kapoor   \n",
       "4  Comedy, Drama, Musical     4.7   827        Rahul Rawail    Bobby Deol   \n",
       "\n",
       "                  Actor 2          Actor 3  \n",
       "0          Vivek Ghamande    Arvind Jangid  \n",
       "1       Plabita Borthakur       Roy Angana  \n",
       "2              Ishita Raj  Siddhant Kapoor  \n",
       "3      Rituparna Sengupta      Antara Mali  \n",
       "4  Aishwarya Rai Bachchan    Shammi Kapoor  "
      ]
     },
     "execution_count": 3,
     "metadata": {},
     "output_type": "execute_result"
    }
   ],
   "source": [
    "movies_data.head()"
   ]
  },
  {
   "cell_type": "code",
   "execution_count": 4,
   "id": "22483a3d",
   "metadata": {},
   "outputs": [
    {
     "data": {
      "text/html": [
       "<div>\n",
       "<style scoped>\n",
       "    .dataframe tbody tr th:only-of-type {\n",
       "        vertical-align: middle;\n",
       "    }\n",
       "\n",
       "    .dataframe tbody tr th {\n",
       "        vertical-align: top;\n",
       "    }\n",
       "\n",
       "    .dataframe thead th {\n",
       "        text-align: right;\n",
       "    }\n",
       "</style>\n",
       "<table border=\"1\" class=\"dataframe\">\n",
       "  <thead>\n",
       "    <tr style=\"text-align: right;\">\n",
       "      <th></th>\n",
       "      <th>Name</th>\n",
       "      <th>Year</th>\n",
       "      <th>Duration</th>\n",
       "      <th>Genre</th>\n",
       "      <th>Rating</th>\n",
       "      <th>Votes</th>\n",
       "      <th>Director</th>\n",
       "      <th>Actor 1</th>\n",
       "      <th>Actor 2</th>\n",
       "      <th>Actor 3</th>\n",
       "    </tr>\n",
       "  </thead>\n",
       "  <tbody>\n",
       "    <tr>\n",
       "      <th>0</th>\n",
       "      <td>0</td>\n",
       "      <td>-2019.0</td>\n",
       "      <td>9</td>\n",
       "      <td>299</td>\n",
       "      <td>56</td>\n",
       "      <td>8</td>\n",
       "      <td>1548</td>\n",
       "      <td>3280</td>\n",
       "      <td>4790</td>\n",
       "      <td>527</td>\n",
       "    </tr>\n",
       "    <tr>\n",
       "      <th>1</th>\n",
       "      <td>1</td>\n",
       "      <td>-2021.0</td>\n",
       "      <td>172</td>\n",
       "      <td>351</td>\n",
       "      <td>84</td>\n",
       "      <td>NaN</td>\n",
       "      <td>5123</td>\n",
       "      <td>3713</td>\n",
       "      <td>2866</td>\n",
       "      <td>3450</td>\n",
       "    </tr>\n",
       "    <tr>\n",
       "      <th>2</th>\n",
       "      <td>2</td>\n",
       "      <td>-2019.0</td>\n",
       "      <td>10</td>\n",
       "      <td>228</td>\n",
       "      <td>30</td>\n",
       "      <td>35</td>\n",
       "      <td>3319</td>\n",
       "      <td>2917</td>\n",
       "      <td>1504</td>\n",
       "      <td>4020</td>\n",
       "    </tr>\n",
       "    <tr>\n",
       "      <th>3</th>\n",
       "      <td>3</td>\n",
       "      <td>-2010.0</td>\n",
       "      <td>5</td>\n",
       "      <td>299</td>\n",
       "      <td>84</td>\n",
       "      <td>NaN</td>\n",
       "      <td>385</td>\n",
       "      <td>3112</td>\n",
       "      <td>3462</td>\n",
       "      <td>405</td>\n",
       "    </tr>\n",
       "    <tr>\n",
       "      <th>4</th>\n",
       "      <td>4</td>\n",
       "      <td>-1997.0</td>\n",
       "      <td>47</td>\n",
       "      <td>197</td>\n",
       "      <td>33</td>\n",
       "      <td>827</td>\n",
       "      <td>3800</td>\n",
       "      <td>895</td>\n",
       "      <td>123</td>\n",
       "      <td>3829</td>\n",
       "    </tr>\n",
       "  </tbody>\n",
       "</table>\n",
       "</div>"
      ],
      "text/plain": [
       "   Name    Year  Duration  Genre  Rating Votes  Director  Actor 1  Actor 2  \\\n",
       "0     0 -2019.0         9    299      56     8      1548     3280     4790   \n",
       "1     1 -2021.0       172    351      84   NaN      5123     3713     2866   \n",
       "2     2 -2019.0        10    228      30    35      3319     2917     1504   \n",
       "3     3 -2010.0         5    299      84   NaN       385     3112     3462   \n",
       "4     4 -1997.0        47    197      33   827      3800      895      123   \n",
       "\n",
       "   Actor 3  \n",
       "0      527  \n",
       "1     3450  \n",
       "2     4020  \n",
       "3      405  \n",
       "4     3829  "
      ]
     },
     "execution_count": 4,
     "metadata": {},
     "output_type": "execute_result"
    }
   ],
   "source": [
    "from sklearn.preprocessing import LabelEncoder\n",
    "\n",
    "label_encoder = LabelEncoder()\n",
    "\n",
    "movies_data['Name'] = label_encoder.fit_transform(movies_data['Name'])\n",
    "movies_data['Genre'] = label_encoder.fit_transform(movies_data['Genre'])\n",
    "movies_data['Duration'] = label_encoder.fit_transform(movies_data['Duration'])\n",
    "movies_data['Rating'] = label_encoder.fit_transform(movies_data['Rating'])\n",
    "movies_data['Director'] = label_encoder.fit_transform(movies_data['Director'])\n",
    "movies_data['Actor 1'] = label_encoder.fit_transform(movies_data['Actor 1'])\n",
    "movies_data['Actor 2'] = label_encoder.fit_transform(movies_data['Actor 2'])\n",
    "movies_data['Actor 3'] = label_encoder.fit_transform(movies_data['Actor 3'])\n",
    "\n",
    "movies_data.head()"
   ]
  },
  {
   "cell_type": "code",
   "execution_count": 5,
   "id": "4fd13218",
   "metadata": {},
   "outputs": [
    {
     "data": {
      "text/html": [
       "<div>\n",
       "<style scoped>\n",
       "    .dataframe tbody tr th:only-of-type {\n",
       "        vertical-align: middle;\n",
       "    }\n",
       "\n",
       "    .dataframe tbody tr th {\n",
       "        vertical-align: top;\n",
       "    }\n",
       "\n",
       "    .dataframe thead th {\n",
       "        text-align: right;\n",
       "    }\n",
       "</style>\n",
       "<table border=\"1\" class=\"dataframe\">\n",
       "  <thead>\n",
       "    <tr style=\"text-align: right;\">\n",
       "      <th></th>\n",
       "      <th>State</th>\n",
       "      <th>City</th>\n",
       "      <th>Year</th>\n",
       "      <th>Month</th>\n",
       "      <th>Day</th>\n",
       "      <th>Store type</th>\n",
       "      <th>Price per kilogram</th>\n",
       "    </tr>\n",
       "  </thead>\n",
       "  <tbody>\n",
       "    <tr>\n",
       "      <th>0</th>\n",
       "      <td>Aguascalientes</td>\n",
       "      <td>Aguascalientes</td>\n",
       "      <td>2007</td>\n",
       "      <td>1</td>\n",
       "      <td>10</td>\n",
       "      <td>Mom and Pop Store</td>\n",
       "      <td>9.9</td>\n",
       "    </tr>\n",
       "    <tr>\n",
       "      <th>1</th>\n",
       "      <td>Baja California</td>\n",
       "      <td>Mexicali</td>\n",
       "      <td>2007</td>\n",
       "      <td>1</td>\n",
       "      <td>10</td>\n",
       "      <td>Mom and Pop Store</td>\n",
       "      <td>NaN</td>\n",
       "    </tr>\n",
       "    <tr>\n",
       "      <th>2</th>\n",
       "      <td>Baja California</td>\n",
       "      <td>Tijuana</td>\n",
       "      <td>2007</td>\n",
       "      <td>1</td>\n",
       "      <td>10</td>\n",
       "      <td>Mom and Pop Store</td>\n",
       "      <td>10.0</td>\n",
       "    </tr>\n",
       "    <tr>\n",
       "      <th>3</th>\n",
       "      <td>Baja California Sur</td>\n",
       "      <td>La Paz</td>\n",
       "      <td>2007</td>\n",
       "      <td>1</td>\n",
       "      <td>10</td>\n",
       "      <td>Mom and Pop Store</td>\n",
       "      <td>10.0</td>\n",
       "    </tr>\n",
       "    <tr>\n",
       "      <th>4</th>\n",
       "      <td>Campeche</td>\n",
       "      <td>Campeche</td>\n",
       "      <td>2007</td>\n",
       "      <td>1</td>\n",
       "      <td>10</td>\n",
       "      <td>Mom and Pop Store</td>\n",
       "      <td>10.0</td>\n",
       "    </tr>\n",
       "  </tbody>\n",
       "</table>\n",
       "</div>"
      ],
      "text/plain": [
       "                 State            City  Year  Month  Day         Store type  \\\n",
       "0       Aguascalientes  Aguascalientes  2007      1   10  Mom and Pop Store   \n",
       "1      Baja California        Mexicali  2007      1   10  Mom and Pop Store   \n",
       "2      Baja California         Tijuana  2007      1   10  Mom and Pop Store   \n",
       "3  Baja California Sur          La Paz  2007      1   10  Mom and Pop Store   \n",
       "4             Campeche        Campeche  2007      1   10  Mom and Pop Store   \n",
       "\n",
       "   Price per kilogram  \n",
       "0                 9.9  \n",
       "1                 NaN  \n",
       "2                10.0  \n",
       "3                10.0  \n",
       "4                10.0  "
      ]
     },
     "execution_count": 5,
     "metadata": {},
     "output_type": "execute_result"
    }
   ],
   "source": [
    "prices_data.head()"
   ]
  },
  {
   "cell_type": "code",
   "execution_count": 6,
   "id": "924e3741",
   "metadata": {},
   "outputs": [
    {
     "data": {
      "text/html": [
       "<div>\n",
       "<style scoped>\n",
       "    .dataframe tbody tr th:only-of-type {\n",
       "        vertical-align: middle;\n",
       "    }\n",
       "\n",
       "    .dataframe tbody tr th {\n",
       "        vertical-align: top;\n",
       "    }\n",
       "\n",
       "    .dataframe thead th {\n",
       "        text-align: right;\n",
       "    }\n",
       "</style>\n",
       "<table border=\"1\" class=\"dataframe\">\n",
       "  <thead>\n",
       "    <tr style=\"text-align: right;\">\n",
       "      <th></th>\n",
       "      <th>State</th>\n",
       "      <th>City</th>\n",
       "      <th>Year</th>\n",
       "      <th>Month</th>\n",
       "      <th>Day</th>\n",
       "      <th>Store type</th>\n",
       "      <th>Price per kilogram</th>\n",
       "    </tr>\n",
       "  </thead>\n",
       "  <tbody>\n",
       "    <tr>\n",
       "      <th>0</th>\n",
       "      <td>0</td>\n",
       "      <td>1</td>\n",
       "      <td>2007</td>\n",
       "      <td>1</td>\n",
       "      <td>10</td>\n",
       "      <td>1</td>\n",
       "      <td>9.9</td>\n",
       "    </tr>\n",
       "    <tr>\n",
       "      <th>1</th>\n",
       "      <td>1</td>\n",
       "      <td>24</td>\n",
       "      <td>2007</td>\n",
       "      <td>1</td>\n",
       "      <td>10</td>\n",
       "      <td>1</td>\n",
       "      <td>NaN</td>\n",
       "    </tr>\n",
       "    <tr>\n",
       "      <th>2</th>\n",
       "      <td>1</td>\n",
       "      <td>43</td>\n",
       "      <td>2007</td>\n",
       "      <td>1</td>\n",
       "      <td>10</td>\n",
       "      <td>1</td>\n",
       "      <td>10.0</td>\n",
       "    </tr>\n",
       "    <tr>\n",
       "      <th>3</th>\n",
       "      <td>2</td>\n",
       "      <td>21</td>\n",
       "      <td>2007</td>\n",
       "      <td>1</td>\n",
       "      <td>10</td>\n",
       "      <td>1</td>\n",
       "      <td>10.0</td>\n",
       "    </tr>\n",
       "    <tr>\n",
       "      <th>4</th>\n",
       "      <td>3</td>\n",
       "      <td>2</td>\n",
       "      <td>2007</td>\n",
       "      <td>1</td>\n",
       "      <td>10</td>\n",
       "      <td>1</td>\n",
       "      <td>10.0</td>\n",
       "    </tr>\n",
       "  </tbody>\n",
       "</table>\n",
       "</div>"
      ],
      "text/plain": [
       "   State  City  Year  Month  Day  Store type  Price per kilogram\n",
       "0      0     1  2007      1   10           1                 9.9\n",
       "1      1    24  2007      1   10           1                 NaN\n",
       "2      1    43  2007      1   10           1                10.0\n",
       "3      2    21  2007      1   10           1                10.0\n",
       "4      3     2  2007      1   10           1                10.0"
      ]
     },
     "execution_count": 6,
     "metadata": {},
     "output_type": "execute_result"
    }
   ],
   "source": [
    "prices_data['State'] = label_encoder.fit_transform(prices_data['State'])\n",
    "prices_data['City'] = label_encoder.fit_transform(prices_data['City'])\n",
    "prices_data['Store type'] = label_encoder.fit_transform(prices_data['Store type'])\n",
    "\n",
    "prices_data.head()"
   ]
  },
  {
   "cell_type": "code",
   "execution_count": 7,
   "id": "c2c4edb4",
   "metadata": {},
   "outputs": [
    {
     "data": {
      "text/html": [
       "<div>\n",
       "<style scoped>\n",
       "    .dataframe tbody tr th:only-of-type {\n",
       "        vertical-align: middle;\n",
       "    }\n",
       "\n",
       "    .dataframe tbody tr th {\n",
       "        vertical-align: top;\n",
       "    }\n",
       "\n",
       "    .dataframe thead th {\n",
       "        text-align: right;\n",
       "    }\n",
       "</style>\n",
       "<table border=\"1\" class=\"dataframe\">\n",
       "  <thead>\n",
       "    <tr style=\"text-align: right;\">\n",
       "      <th></th>\n",
       "      <th>gender</th>\n",
       "      <th>age</th>\n",
       "      <th>hypertension</th>\n",
       "      <th>heart_disease</th>\n",
       "      <th>smoking_history</th>\n",
       "      <th>bmi</th>\n",
       "      <th>HbA1c_level</th>\n",
       "      <th>blood_glucose_level</th>\n",
       "      <th>diabetes</th>\n",
       "    </tr>\n",
       "  </thead>\n",
       "  <tbody>\n",
       "    <tr>\n",
       "      <th>0</th>\n",
       "      <td>Female</td>\n",
       "      <td>80.0</td>\n",
       "      <td>0</td>\n",
       "      <td>1</td>\n",
       "      <td>never</td>\n",
       "      <td>25.19</td>\n",
       "      <td>6.6</td>\n",
       "      <td>140</td>\n",
       "      <td>0</td>\n",
       "    </tr>\n",
       "    <tr>\n",
       "      <th>1</th>\n",
       "      <td>Female</td>\n",
       "      <td>54.0</td>\n",
       "      <td>0</td>\n",
       "      <td>0</td>\n",
       "      <td>No Info</td>\n",
       "      <td>27.32</td>\n",
       "      <td>6.6</td>\n",
       "      <td>80</td>\n",
       "      <td>0</td>\n",
       "    </tr>\n",
       "    <tr>\n",
       "      <th>2</th>\n",
       "      <td>Male</td>\n",
       "      <td>28.0</td>\n",
       "      <td>0</td>\n",
       "      <td>0</td>\n",
       "      <td>never</td>\n",
       "      <td>27.32</td>\n",
       "      <td>5.7</td>\n",
       "      <td>158</td>\n",
       "      <td>0</td>\n",
       "    </tr>\n",
       "    <tr>\n",
       "      <th>3</th>\n",
       "      <td>Female</td>\n",
       "      <td>36.0</td>\n",
       "      <td>0</td>\n",
       "      <td>0</td>\n",
       "      <td>current</td>\n",
       "      <td>23.45</td>\n",
       "      <td>5.0</td>\n",
       "      <td>155</td>\n",
       "      <td>0</td>\n",
       "    </tr>\n",
       "    <tr>\n",
       "      <th>4</th>\n",
       "      <td>Male</td>\n",
       "      <td>76.0</td>\n",
       "      <td>1</td>\n",
       "      <td>1</td>\n",
       "      <td>current</td>\n",
       "      <td>20.14</td>\n",
       "      <td>4.8</td>\n",
       "      <td>155</td>\n",
       "      <td>0</td>\n",
       "    </tr>\n",
       "  </tbody>\n",
       "</table>\n",
       "</div>"
      ],
      "text/plain": [
       "   gender   age  hypertension  heart_disease smoking_history    bmi  \\\n",
       "0  Female  80.0             0              1           never  25.19   \n",
       "1  Female  54.0             0              0         No Info  27.32   \n",
       "2    Male  28.0             0              0           never  27.32   \n",
       "3  Female  36.0             0              0         current  23.45   \n",
       "4    Male  76.0             1              1         current  20.14   \n",
       "\n",
       "   HbA1c_level  blood_glucose_level  diabetes  \n",
       "0          6.6                  140         0  \n",
       "1          6.6                   80         0  \n",
       "2          5.7                  158         0  \n",
       "3          5.0                  155         0  \n",
       "4          4.8                  155         0  "
      ]
     },
     "execution_count": 7,
     "metadata": {},
     "output_type": "execute_result"
    }
   ],
   "source": [
    "diabetes_data.head()"
   ]
  },
  {
   "cell_type": "code",
   "execution_count": 8,
   "id": "bdc7450b",
   "metadata": {},
   "outputs": [
    {
     "data": {
      "text/html": [
       "<div>\n",
       "<style scoped>\n",
       "    .dataframe tbody tr th:only-of-type {\n",
       "        vertical-align: middle;\n",
       "    }\n",
       "\n",
       "    .dataframe tbody tr th {\n",
       "        vertical-align: top;\n",
       "    }\n",
       "\n",
       "    .dataframe thead th {\n",
       "        text-align: right;\n",
       "    }\n",
       "</style>\n",
       "<table border=\"1\" class=\"dataframe\">\n",
       "  <thead>\n",
       "    <tr style=\"text-align: right;\">\n",
       "      <th></th>\n",
       "      <th>gender</th>\n",
       "      <th>age</th>\n",
       "      <th>hypertension</th>\n",
       "      <th>heart_disease</th>\n",
       "      <th>smoking_history</th>\n",
       "      <th>bmi</th>\n",
       "      <th>HbA1c_level</th>\n",
       "      <th>blood_glucose_level</th>\n",
       "      <th>diabetes</th>\n",
       "    </tr>\n",
       "  </thead>\n",
       "  <tbody>\n",
       "    <tr>\n",
       "      <th>0</th>\n",
       "      <td>0</td>\n",
       "      <td>80.0</td>\n",
       "      <td>0</td>\n",
       "      <td>1</td>\n",
       "      <td>4</td>\n",
       "      <td>25.19</td>\n",
       "      <td>6.6</td>\n",
       "      <td>140</td>\n",
       "      <td>0</td>\n",
       "    </tr>\n",
       "    <tr>\n",
       "      <th>1</th>\n",
       "      <td>0</td>\n",
       "      <td>54.0</td>\n",
       "      <td>0</td>\n",
       "      <td>0</td>\n",
       "      <td>0</td>\n",
       "      <td>27.32</td>\n",
       "      <td>6.6</td>\n",
       "      <td>80</td>\n",
       "      <td>0</td>\n",
       "    </tr>\n",
       "    <tr>\n",
       "      <th>2</th>\n",
       "      <td>1</td>\n",
       "      <td>28.0</td>\n",
       "      <td>0</td>\n",
       "      <td>0</td>\n",
       "      <td>4</td>\n",
       "      <td>27.32</td>\n",
       "      <td>5.7</td>\n",
       "      <td>158</td>\n",
       "      <td>0</td>\n",
       "    </tr>\n",
       "    <tr>\n",
       "      <th>3</th>\n",
       "      <td>0</td>\n",
       "      <td>36.0</td>\n",
       "      <td>0</td>\n",
       "      <td>0</td>\n",
       "      <td>1</td>\n",
       "      <td>23.45</td>\n",
       "      <td>5.0</td>\n",
       "      <td>155</td>\n",
       "      <td>0</td>\n",
       "    </tr>\n",
       "    <tr>\n",
       "      <th>4</th>\n",
       "      <td>1</td>\n",
       "      <td>76.0</td>\n",
       "      <td>1</td>\n",
       "      <td>1</td>\n",
       "      <td>1</td>\n",
       "      <td>20.14</td>\n",
       "      <td>4.8</td>\n",
       "      <td>155</td>\n",
       "      <td>0</td>\n",
       "    </tr>\n",
       "  </tbody>\n",
       "</table>\n",
       "</div>"
      ],
      "text/plain": [
       "   gender   age  hypertension  heart_disease  smoking_history    bmi  \\\n",
       "0       0  80.0             0              1                4  25.19   \n",
       "1       0  54.0             0              0                0  27.32   \n",
       "2       1  28.0             0              0                4  27.32   \n",
       "3       0  36.0             0              0                1  23.45   \n",
       "4       1  76.0             1              1                1  20.14   \n",
       "\n",
       "   HbA1c_level  blood_glucose_level  diabetes  \n",
       "0          6.6                  140         0  \n",
       "1          6.6                   80         0  \n",
       "2          5.7                  158         0  \n",
       "3          5.0                  155         0  \n",
       "4          4.8                  155         0  "
      ]
     },
     "execution_count": 8,
     "metadata": {},
     "output_type": "execute_result"
    }
   ],
   "source": [
    "diabetes_data['gender'] = label_encoder.fit_transform(diabetes_data['gender'])\n",
    "diabetes_data['smoking_history'] = label_encoder.fit_transform(diabetes_data['smoking_history'])\n",
    "\n",
    "diabetes_data.head()"
   ]
  },
  {
   "cell_type": "markdown",
   "id": "f5f4c856",
   "metadata": {},
   "source": [
    "### Number of records"
   ]
  },
  {
   "cell_type": "code",
   "execution_count": 9,
   "id": "b9c7703d",
   "metadata": {},
   "outputs": [
    {
     "data": {
      "text/plain": [
       "(15508, 10)"
      ]
     },
     "execution_count": 9,
     "metadata": {},
     "output_type": "execute_result"
    }
   ],
   "source": [
    "movies_data.shape"
   ]
  },
  {
   "cell_type": "code",
   "execution_count": 10,
   "id": "f364133c",
   "metadata": {},
   "outputs": [
    {
     "data": {
      "text/plain": [
       "(278886, 7)"
      ]
     },
     "execution_count": 10,
     "metadata": {},
     "output_type": "execute_result"
    }
   ],
   "source": [
    "prices_data.shape"
   ]
  },
  {
   "cell_type": "code",
   "execution_count": 11,
   "id": "d4014183",
   "metadata": {},
   "outputs": [
    {
     "data": {
      "text/plain": [
       "(100000, 9)"
      ]
     },
     "execution_count": 11,
     "metadata": {},
     "output_type": "execute_result"
    }
   ],
   "source": [
    "diabetes_data.shape"
   ]
  },
  {
   "cell_type": "markdown",
   "id": "d74d3a33",
   "metadata": {},
   "source": [
    "### Check for missing values"
   ]
  },
  {
   "cell_type": "code",
   "execution_count": 12,
   "id": "383a962f",
   "metadata": {},
   "outputs": [
    {
     "name": "stdout",
     "output_type": "stream",
     "text": [
      "Number of missing values in total: 8115\n",
      "Proportion of missing values in total: 0.05232783079700799\n"
     ]
    }
   ],
   "source": [
    "total_missing_values = movies_data.isnull().sum().sum()\n",
    "\n",
    "total_records = movies_data.shape[0]\n",
    "proportion_missing_values = total_missing_values / (total_records * movies_data.shape[1])\n",
    "\n",
    "print(\"Number of missing values in total:\", total_missing_values)\n",
    "print(\"Proportion of missing values in total:\", proportion_missing_values)"
   ]
  },
  {
   "cell_type": "code",
   "execution_count": 13,
   "id": "5afae61d",
   "metadata": {},
   "outputs": [
    {
     "name": "stdout",
     "output_type": "stream",
     "text": [
      "Number of missing values in total: 6390\n",
      "Proportion of missing values in total: 0.0032732268484511337\n",
      "Number of missing values after imputation: 0\n"
     ]
    }
   ],
   "source": [
    "total_missing_values = prices_data.isnull().sum().sum()\n",
    "\n",
    "total_records = prices_data.shape[0]\n",
    "proportion_missing_values = total_missing_values / (total_records * prices_data.shape[1])\n",
    "\n",
    "print(\"Number of missing values in total:\", total_missing_values)\n",
    "print(\"Proportion of missing values in total:\", proportion_missing_values)\n",
    "\n",
    "imputer = SimpleImputer(strategy='mean')\n",
    "data_imputed = pd.DataFrame(imputer.fit_transform(prices_data), columns=prices_data.columns)\n",
    "\n",
    "total_missing_values_after_imputation = data_imputed.isnull().sum().sum()\n",
    "\n",
    "print(\"Number of missing values after imputation:\", total_missing_values_after_imputation)"
   ]
  },
  {
   "cell_type": "code",
   "execution_count": 14,
   "id": "8f964fdb",
   "metadata": {},
   "outputs": [
    {
     "name": "stdout",
     "output_type": "stream",
     "text": [
      "Number of missing values in total: 0\n",
      "Proportion of missing values in total: 0.0\n",
      "Number of missing values after imputation: 0\n"
     ]
    }
   ],
   "source": [
    "total_missing_values = diabetes_data.isnull().sum().sum()\n",
    "\n",
    "total_records = diabetes_data.shape[0]\n",
    "proportion_missing_values = total_missing_values / (total_records * diabetes_data.shape[1])\n",
    "\n",
    "print(\"Number of missing values in total:\", total_missing_values)\n",
    "print(\"Proportion of missing values in total:\", proportion_missing_values)\n",
    "\n",
    "imputer = SimpleImputer(strategy='mean')\n",
    "data_imputed = pd.DataFrame(imputer.fit_transform(diabetes_data), columns=diabetes_data.columns)\n",
    "\n",
    "total_missing_values_after_imputation = data_imputed.isnull().sum().sum()\n",
    "\n",
    "print(\"Number of missing values after imputation:\", total_missing_values_after_imputation)"
   ]
  },
  {
   "cell_type": "markdown",
   "id": "d76a252f",
   "metadata": {},
   "source": [
    "### Check the data info"
   ]
  },
  {
   "cell_type": "code",
   "execution_count": 15,
   "id": "431dec78",
   "metadata": {},
   "outputs": [
    {
     "name": "stdout",
     "output_type": "stream",
     "text": [
      "<class 'pandas.core.frame.DataFrame'>\n",
      "RangeIndex: 15508 entries, 0 to 15507\n",
      "Data columns (total 10 columns):\n",
      " #   Column    Non-Null Count  Dtype  \n",
      "---  ------    --------------  -----  \n",
      " 0   Name      15508 non-null  int32  \n",
      " 1   Year      14981 non-null  float64\n",
      " 2   Duration  15508 non-null  int32  \n",
      " 3   Genre     15508 non-null  int32  \n",
      " 4   Rating    15508 non-null  int64  \n",
      " 5   Votes     7920 non-null   object \n",
      " 6   Director  15508 non-null  int32  \n",
      " 7   Actor 1   15508 non-null  int32  \n",
      " 8   Actor 2   15508 non-null  int32  \n",
      " 9   Actor 3   15508 non-null  int32  \n",
      "dtypes: float64(1), int32(7), int64(1), object(1)\n",
      "memory usage: 787.6+ KB\n"
     ]
    }
   ],
   "source": [
    "movies_data.info()"
   ]
  },
  {
   "cell_type": "code",
   "execution_count": 16,
   "id": "ec1fe337",
   "metadata": {},
   "outputs": [
    {
     "name": "stdout",
     "output_type": "stream",
     "text": [
      "<class 'pandas.core.frame.DataFrame'>\n",
      "RangeIndex: 278886 entries, 0 to 278885\n",
      "Data columns (total 7 columns):\n",
      " #   Column              Non-Null Count   Dtype  \n",
      "---  ------              --------------   -----  \n",
      " 0   State               278886 non-null  int32  \n",
      " 1   City                278886 non-null  int32  \n",
      " 2   Year                278886 non-null  int64  \n",
      " 3   Month               278886 non-null  int64  \n",
      " 4   Day                 278886 non-null  int64  \n",
      " 5   Store type          278886 non-null  int32  \n",
      " 6   Price per kilogram  272496 non-null  float64\n",
      "dtypes: float64(1), int32(3), int64(3)\n",
      "memory usage: 11.7 MB\n"
     ]
    }
   ],
   "source": [
    "prices_data.info()"
   ]
  },
  {
   "cell_type": "code",
   "execution_count": 17,
   "id": "911821b5",
   "metadata": {},
   "outputs": [
    {
     "name": "stdout",
     "output_type": "stream",
     "text": [
      "<class 'pandas.core.frame.DataFrame'>\n",
      "RangeIndex: 100000 entries, 0 to 99999\n",
      "Data columns (total 9 columns):\n",
      " #   Column               Non-Null Count   Dtype  \n",
      "---  ------               --------------   -----  \n",
      " 0   gender               100000 non-null  int32  \n",
      " 1   age                  100000 non-null  float64\n",
      " 2   hypertension         100000 non-null  int64  \n",
      " 3   heart_disease        100000 non-null  int64  \n",
      " 4   smoking_history      100000 non-null  int32  \n",
      " 5   bmi                  100000 non-null  float64\n",
      " 6   HbA1c_level          100000 non-null  float64\n",
      " 7   blood_glucose_level  100000 non-null  int64  \n",
      " 8   diabetes             100000 non-null  int64  \n",
      "dtypes: float64(3), int32(2), int64(4)\n",
      "memory usage: 6.1 MB\n"
     ]
    }
   ],
   "source": [
    "diabetes_data.info()"
   ]
  },
  {
   "cell_type": "markdown",
   "id": "18018ead",
   "metadata": {},
   "source": [
    "### Statistical Analysis - Summary of each variable: min, max, mean, median, and quartiles"
   ]
  },
  {
   "cell_type": "code",
   "execution_count": 18,
   "id": "851b4b2f",
   "metadata": {},
   "outputs": [
    {
     "data": {
      "text/html": [
       "<div>\n",
       "<style scoped>\n",
       "    .dataframe tbody tr th:only-of-type {\n",
       "        vertical-align: middle;\n",
       "    }\n",
       "\n",
       "    .dataframe tbody tr th {\n",
       "        vertical-align: top;\n",
       "    }\n",
       "\n",
       "    .dataframe thead th {\n",
       "        text-align: right;\n",
       "    }\n",
       "</style>\n",
       "<table border=\"1\" class=\"dataframe\">\n",
       "  <thead>\n",
       "    <tr style=\"text-align: right;\">\n",
       "      <th></th>\n",
       "      <th>Name</th>\n",
       "      <th>Year</th>\n",
       "      <th>Duration</th>\n",
       "      <th>Genre</th>\n",
       "      <th>Rating</th>\n",
       "      <th>Director</th>\n",
       "      <th>Actor 1</th>\n",
       "      <th>Actor 2</th>\n",
       "      <th>Actor 3</th>\n",
       "    </tr>\n",
       "  </thead>\n",
       "  <tbody>\n",
       "    <tr>\n",
       "      <th>count</th>\n",
       "      <td>15508.000000</td>\n",
       "      <td>14981.000000</td>\n",
       "      <td>15508.000000</td>\n",
       "      <td>15508.000000</td>\n",
       "      <td>15508.000000</td>\n",
       "      <td>15508.000000</td>\n",
       "      <td>15508.000000</td>\n",
       "      <td>15508.000000</td>\n",
       "      <td>15508.000000</td>\n",
       "    </tr>\n",
       "    <tr>\n",
       "      <th>mean</th>\n",
       "      <td>6900.924942</td>\n",
       "      <td>-1987.012215</td>\n",
       "      <td>123.456539</td>\n",
       "      <td>271.534434</td>\n",
       "      <td>63.786884</td>\n",
       "      <td>2987.883544</td>\n",
       "      <td>2574.363748</td>\n",
       "      <td>2832.252708</td>\n",
       "      <td>2869.020506</td>\n",
       "    </tr>\n",
       "    <tr>\n",
       "      <th>std</th>\n",
       "      <td>3994.871710</td>\n",
       "      <td>25.416689</td>\n",
       "      <td>71.263112</td>\n",
       "      <td>164.415251</td>\n",
       "      <td>22.113606</td>\n",
       "      <td>1717.643842</td>\n",
       "      <td>1456.559240</td>\n",
       "      <td>1542.459323</td>\n",
       "      <td>1555.200911</td>\n",
       "    </tr>\n",
       "    <tr>\n",
       "      <th>min</th>\n",
       "      <td>0.000000</td>\n",
       "      <td>-2022.000000</td>\n",
       "      <td>0.000000</td>\n",
       "      <td>0.000000</td>\n",
       "      <td>0.000000</td>\n",
       "      <td>0.000000</td>\n",
       "      <td>0.000000</td>\n",
       "      <td>0.000000</td>\n",
       "      <td>0.000000</td>\n",
       "    </tr>\n",
       "    <tr>\n",
       "      <th>25%</th>\n",
       "      <td>3442.750000</td>\n",
       "      <td>-2009.000000</td>\n",
       "      <td>43.000000</td>\n",
       "      <td>163.000000</td>\n",
       "      <td>46.000000</td>\n",
       "      <td>1531.000000</td>\n",
       "      <td>1302.000000</td>\n",
       "      <td>1518.000000</td>\n",
       "      <td>1541.750000</td>\n",
       "    </tr>\n",
       "    <tr>\n",
       "      <th>50%</th>\n",
       "      <td>6901.000000</td>\n",
       "      <td>-1991.000000</td>\n",
       "      <td>182.000000</td>\n",
       "      <td>299.000000</td>\n",
       "      <td>69.000000</td>\n",
       "      <td>2922.500000</td>\n",
       "      <td>2581.500000</td>\n",
       "      <td>2876.000000</td>\n",
       "      <td>2905.000000</td>\n",
       "    </tr>\n",
       "    <tr>\n",
       "      <th>75%</th>\n",
       "      <td>10368.250000</td>\n",
       "      <td>-1968.000000</td>\n",
       "      <td>182.000000</td>\n",
       "      <td>409.000000</td>\n",
       "      <td>84.000000</td>\n",
       "      <td>4416.000000</td>\n",
       "      <td>3821.000000</td>\n",
       "      <td>4286.000000</td>\n",
       "      <td>4489.000000</td>\n",
       "    </tr>\n",
       "    <tr>\n",
       "      <th>max</th>\n",
       "      <td>13836.000000</td>\n",
       "      <td>-1913.000000</td>\n",
       "      <td>182.000000</td>\n",
       "      <td>485.000000</td>\n",
       "      <td>84.000000</td>\n",
       "      <td>5938.000000</td>\n",
       "      <td>4718.000000</td>\n",
       "      <td>4891.000000</td>\n",
       "      <td>4820.000000</td>\n",
       "    </tr>\n",
       "  </tbody>\n",
       "</table>\n",
       "</div>"
      ],
      "text/plain": [
       "               Name          Year      Duration         Genre        Rating  \\\n",
       "count  15508.000000  14981.000000  15508.000000  15508.000000  15508.000000   \n",
       "mean    6900.924942  -1987.012215    123.456539    271.534434     63.786884   \n",
       "std     3994.871710     25.416689     71.263112    164.415251     22.113606   \n",
       "min        0.000000  -2022.000000      0.000000      0.000000      0.000000   \n",
       "25%     3442.750000  -2009.000000     43.000000    163.000000     46.000000   \n",
       "50%     6901.000000  -1991.000000    182.000000    299.000000     69.000000   \n",
       "75%    10368.250000  -1968.000000    182.000000    409.000000     84.000000   \n",
       "max    13836.000000  -1913.000000    182.000000    485.000000     84.000000   \n",
       "\n",
       "           Director       Actor 1       Actor 2       Actor 3  \n",
       "count  15508.000000  15508.000000  15508.000000  15508.000000  \n",
       "mean    2987.883544   2574.363748   2832.252708   2869.020506  \n",
       "std     1717.643842   1456.559240   1542.459323   1555.200911  \n",
       "min        0.000000      0.000000      0.000000      0.000000  \n",
       "25%     1531.000000   1302.000000   1518.000000   1541.750000  \n",
       "50%     2922.500000   2581.500000   2876.000000   2905.000000  \n",
       "75%     4416.000000   3821.000000   4286.000000   4489.000000  \n",
       "max     5938.000000   4718.000000   4891.000000   4820.000000  "
      ]
     },
     "execution_count": 18,
     "metadata": {},
     "output_type": "execute_result"
    }
   ],
   "source": [
    "movies_data.describe()"
   ]
  },
  {
   "cell_type": "code",
   "execution_count": 19,
   "id": "04574f63",
   "metadata": {},
   "outputs": [
    {
     "data": {
      "text/html": [
       "<div>\n",
       "<style scoped>\n",
       "    .dataframe tbody tr th:only-of-type {\n",
       "        vertical-align: middle;\n",
       "    }\n",
       "\n",
       "    .dataframe tbody tr th {\n",
       "        vertical-align: top;\n",
       "    }\n",
       "\n",
       "    .dataframe thead th {\n",
       "        text-align: right;\n",
       "    }\n",
       "</style>\n",
       "<table border=\"1\" class=\"dataframe\">\n",
       "  <thead>\n",
       "    <tr style=\"text-align: right;\">\n",
       "      <th></th>\n",
       "      <th>State</th>\n",
       "      <th>City</th>\n",
       "      <th>Year</th>\n",
       "      <th>Month</th>\n",
       "      <th>Day</th>\n",
       "      <th>Store type</th>\n",
       "      <th>Price per kilogram</th>\n",
       "    </tr>\n",
       "  </thead>\n",
       "  <tbody>\n",
       "    <tr>\n",
       "      <th>count</th>\n",
       "      <td>278886.000000</td>\n",
       "      <td>278886.000000</td>\n",
       "      <td>278886.000000</td>\n",
       "      <td>278886.000000</td>\n",
       "      <td>278886.000000</td>\n",
       "      <td>278886.000000</td>\n",
       "      <td>272496.000000</td>\n",
       "    </tr>\n",
       "    <tr>\n",
       "      <th>mean</th>\n",
       "      <td>16.228118</td>\n",
       "      <td>27.352402</td>\n",
       "      <td>2015.080015</td>\n",
       "      <td>6.384781</td>\n",
       "      <td>15.951955</td>\n",
       "      <td>0.502460</td>\n",
       "      <td>12.054586</td>\n",
       "    </tr>\n",
       "    <tr>\n",
       "      <th>std</th>\n",
       "      <td>9.364183</td>\n",
       "      <td>16.248063</td>\n",
       "      <td>4.912392</td>\n",
       "      <td>3.440216</td>\n",
       "      <td>8.755248</td>\n",
       "      <td>0.499995</td>\n",
       "      <td>4.336487</td>\n",
       "    </tr>\n",
       "    <tr>\n",
       "      <th>min</th>\n",
       "      <td>0.000000</td>\n",
       "      <td>0.000000</td>\n",
       "      <td>2007.000000</td>\n",
       "      <td>1.000000</td>\n",
       "      <td>1.000000</td>\n",
       "      <td>0.000000</td>\n",
       "      <td>0.000000</td>\n",
       "    </tr>\n",
       "    <tr>\n",
       "      <th>25%</th>\n",
       "      <td>8.000000</td>\n",
       "      <td>13.000000</td>\n",
       "      <td>2011.000000</td>\n",
       "      <td>3.000000</td>\n",
       "      <td>8.000000</td>\n",
       "      <td>0.000000</td>\n",
       "      <td>9.570000</td>\n",
       "    </tr>\n",
       "    <tr>\n",
       "      <th>50%</th>\n",
       "      <td>16.000000</td>\n",
       "      <td>27.000000</td>\n",
       "      <td>2015.000000</td>\n",
       "      <td>6.000000</td>\n",
       "      <td>16.000000</td>\n",
       "      <td>1.000000</td>\n",
       "      <td>11.170000</td>\n",
       "    </tr>\n",
       "    <tr>\n",
       "      <th>75%</th>\n",
       "      <td>25.000000</td>\n",
       "      <td>42.000000</td>\n",
       "      <td>2019.000000</td>\n",
       "      <td>9.000000</td>\n",
       "      <td>24.000000</td>\n",
       "      <td>1.000000</td>\n",
       "      <td>14.000000</td>\n",
       "    </tr>\n",
       "    <tr>\n",
       "      <th>max</th>\n",
       "      <td>31.000000</td>\n",
       "      <td>55.000000</td>\n",
       "      <td>2024.000000</td>\n",
       "      <td>12.000000</td>\n",
       "      <td>31.000000</td>\n",
       "      <td>1.000000</td>\n",
       "      <td>31.000000</td>\n",
       "    </tr>\n",
       "  </tbody>\n",
       "</table>\n",
       "</div>"
      ],
      "text/plain": [
       "               State           City           Year          Month  \\\n",
       "count  278886.000000  278886.000000  278886.000000  278886.000000   \n",
       "mean       16.228118      27.352402    2015.080015       6.384781   \n",
       "std         9.364183      16.248063       4.912392       3.440216   \n",
       "min         0.000000       0.000000    2007.000000       1.000000   \n",
       "25%         8.000000      13.000000    2011.000000       3.000000   \n",
       "50%        16.000000      27.000000    2015.000000       6.000000   \n",
       "75%        25.000000      42.000000    2019.000000       9.000000   \n",
       "max        31.000000      55.000000    2024.000000      12.000000   \n",
       "\n",
       "                 Day     Store type  Price per kilogram  \n",
       "count  278886.000000  278886.000000       272496.000000  \n",
       "mean       15.951955       0.502460           12.054586  \n",
       "std         8.755248       0.499995            4.336487  \n",
       "min         1.000000       0.000000            0.000000  \n",
       "25%         8.000000       0.000000            9.570000  \n",
       "50%        16.000000       1.000000           11.170000  \n",
       "75%        24.000000       1.000000           14.000000  \n",
       "max        31.000000       1.000000           31.000000  "
      ]
     },
     "execution_count": 19,
     "metadata": {},
     "output_type": "execute_result"
    }
   ],
   "source": [
    "prices_data.describe()"
   ]
  },
  {
   "cell_type": "code",
   "execution_count": 20,
   "id": "43e10acb",
   "metadata": {},
   "outputs": [
    {
     "data": {
      "text/html": [
       "<div>\n",
       "<style scoped>\n",
       "    .dataframe tbody tr th:only-of-type {\n",
       "        vertical-align: middle;\n",
       "    }\n",
       "\n",
       "    .dataframe tbody tr th {\n",
       "        vertical-align: top;\n",
       "    }\n",
       "\n",
       "    .dataframe thead th {\n",
       "        text-align: right;\n",
       "    }\n",
       "</style>\n",
       "<table border=\"1\" class=\"dataframe\">\n",
       "  <thead>\n",
       "    <tr style=\"text-align: right;\">\n",
       "      <th></th>\n",
       "      <th>gender</th>\n",
       "      <th>age</th>\n",
       "      <th>hypertension</th>\n",
       "      <th>heart_disease</th>\n",
       "      <th>smoking_history</th>\n",
       "      <th>bmi</th>\n",
       "      <th>HbA1c_level</th>\n",
       "      <th>blood_glucose_level</th>\n",
       "      <th>diabetes</th>\n",
       "    </tr>\n",
       "  </thead>\n",
       "  <tbody>\n",
       "    <tr>\n",
       "      <th>count</th>\n",
       "      <td>100000.000000</td>\n",
       "      <td>100000.000000</td>\n",
       "      <td>100000.00000</td>\n",
       "      <td>100000.000000</td>\n",
       "      <td>100000.000000</td>\n",
       "      <td>100000.000000</td>\n",
       "      <td>100000.000000</td>\n",
       "      <td>100000.000000</td>\n",
       "      <td>100000.000000</td>\n",
       "    </tr>\n",
       "    <tr>\n",
       "      <th>mean</th>\n",
       "      <td>0.414660</td>\n",
       "      <td>41.885856</td>\n",
       "      <td>0.07485</td>\n",
       "      <td>0.039420</td>\n",
       "      <td>2.179650</td>\n",
       "      <td>27.320767</td>\n",
       "      <td>5.527507</td>\n",
       "      <td>138.058060</td>\n",
       "      <td>0.085000</td>\n",
       "    </tr>\n",
       "    <tr>\n",
       "      <th>std</th>\n",
       "      <td>0.493031</td>\n",
       "      <td>22.516840</td>\n",
       "      <td>0.26315</td>\n",
       "      <td>0.194593</td>\n",
       "      <td>1.889659</td>\n",
       "      <td>6.636783</td>\n",
       "      <td>1.070672</td>\n",
       "      <td>40.708136</td>\n",
       "      <td>0.278883</td>\n",
       "    </tr>\n",
       "    <tr>\n",
       "      <th>min</th>\n",
       "      <td>0.000000</td>\n",
       "      <td>0.080000</td>\n",
       "      <td>0.00000</td>\n",
       "      <td>0.000000</td>\n",
       "      <td>0.000000</td>\n",
       "      <td>10.010000</td>\n",
       "      <td>3.500000</td>\n",
       "      <td>80.000000</td>\n",
       "      <td>0.000000</td>\n",
       "    </tr>\n",
       "    <tr>\n",
       "      <th>25%</th>\n",
       "      <td>0.000000</td>\n",
       "      <td>24.000000</td>\n",
       "      <td>0.00000</td>\n",
       "      <td>0.000000</td>\n",
       "      <td>0.000000</td>\n",
       "      <td>23.630000</td>\n",
       "      <td>4.800000</td>\n",
       "      <td>100.000000</td>\n",
       "      <td>0.000000</td>\n",
       "    </tr>\n",
       "    <tr>\n",
       "      <th>50%</th>\n",
       "      <td>0.000000</td>\n",
       "      <td>43.000000</td>\n",
       "      <td>0.00000</td>\n",
       "      <td>0.000000</td>\n",
       "      <td>3.000000</td>\n",
       "      <td>27.320000</td>\n",
       "      <td>5.800000</td>\n",
       "      <td>140.000000</td>\n",
       "      <td>0.000000</td>\n",
       "    </tr>\n",
       "    <tr>\n",
       "      <th>75%</th>\n",
       "      <td>1.000000</td>\n",
       "      <td>60.000000</td>\n",
       "      <td>0.00000</td>\n",
       "      <td>0.000000</td>\n",
       "      <td>4.000000</td>\n",
       "      <td>29.580000</td>\n",
       "      <td>6.200000</td>\n",
       "      <td>159.000000</td>\n",
       "      <td>0.000000</td>\n",
       "    </tr>\n",
       "    <tr>\n",
       "      <th>max</th>\n",
       "      <td>2.000000</td>\n",
       "      <td>80.000000</td>\n",
       "      <td>1.00000</td>\n",
       "      <td>1.000000</td>\n",
       "      <td>5.000000</td>\n",
       "      <td>95.690000</td>\n",
       "      <td>9.000000</td>\n",
       "      <td>300.000000</td>\n",
       "      <td>1.000000</td>\n",
       "    </tr>\n",
       "  </tbody>\n",
       "</table>\n",
       "</div>"
      ],
      "text/plain": [
       "              gender            age  hypertension  heart_disease  \\\n",
       "count  100000.000000  100000.000000  100000.00000  100000.000000   \n",
       "mean        0.414660      41.885856       0.07485       0.039420   \n",
       "std         0.493031      22.516840       0.26315       0.194593   \n",
       "min         0.000000       0.080000       0.00000       0.000000   \n",
       "25%         0.000000      24.000000       0.00000       0.000000   \n",
       "50%         0.000000      43.000000       0.00000       0.000000   \n",
       "75%         1.000000      60.000000       0.00000       0.000000   \n",
       "max         2.000000      80.000000       1.00000       1.000000   \n",
       "\n",
       "       smoking_history            bmi    HbA1c_level  blood_glucose_level  \\\n",
       "count    100000.000000  100000.000000  100000.000000        100000.000000   \n",
       "mean          2.179650      27.320767       5.527507           138.058060   \n",
       "std           1.889659       6.636783       1.070672            40.708136   \n",
       "min           0.000000      10.010000       3.500000            80.000000   \n",
       "25%           0.000000      23.630000       4.800000           100.000000   \n",
       "50%           3.000000      27.320000       5.800000           140.000000   \n",
       "75%           4.000000      29.580000       6.200000           159.000000   \n",
       "max           5.000000      95.690000       9.000000           300.000000   \n",
       "\n",
       "            diabetes  \n",
       "count  100000.000000  \n",
       "mean        0.085000  \n",
       "std         0.278883  \n",
       "min         0.000000  \n",
       "25%         0.000000  \n",
       "50%         0.000000  \n",
       "75%         0.000000  \n",
       "max         1.000000  "
      ]
     },
     "execution_count": 20,
     "metadata": {},
     "output_type": "execute_result"
    }
   ],
   "source": [
    "diabetes_data.describe()"
   ]
  },
  {
   "cell_type": "markdown",
   "id": "1d00c25b",
   "metadata": {},
   "source": [
    "### Check the outliers"
   ]
  },
  {
   "cell_type": "code",
   "execution_count": 21,
   "id": "e39020ef",
   "metadata": {},
   "outputs": [
    {
     "data": {
      "image/png": "[encoded data removed]",
      "text/plain": [
       "<Figure size 950x3325 with 7 Axes>"
      ]
     },
     "metadata": {},
     "output_type": "display_data"
    }
   ],
   "source": [
    "fig, axs = plt.subplots(len(prices_data.columns), 1, dpi=95, figsize=(10, 5*len(prices_data.columns)), \n",
    "                        gridspec_kw={'hspace': 0.5})\n",
    "\n",
    "for i, col in enumerate(prices_data.columns):\n",
    "    axs[i].boxplot(prices_data[col], vert=False)\n",
    "    axs[i].set_ylabel(col)\n",
    "    axs[i].tick_params(axis='x', rotation=45)  \n",
    "\n",
    "plt.show()"
   ]
  },
  {
   "cell_type": "code",
   "execution_count": 22,
   "id": "42441ba6",
   "metadata": {},
   "outputs": [
    {
     "name": "stdout",
     "output_type": "stream",
     "text": [
      "Number of outliers filtered: State                 0\n",
      "City                  0\n",
      "Year                  0\n",
      "Month                 0\n",
      "Day                   0\n",
      "Store type            0\n",
      "Price per kilogram    0\n",
      "dtype: int64\n",
      "Proportion of outliers filtered: State                 0.0\n",
      "City                  0.0\n",
      "Year                  0.0\n",
      "Month                 0.0\n",
      "Day                   0.0\n",
      "Store type            0.0\n",
      "Price per kilogram    0.0\n",
      "dtype: float64\n"
     ]
    }
   ],
   "source": [
    "z_scores = stats.zscore(prices_data)\n",
    "\n",
    "threshold = 3\n",
    "\n",
    "outliers = (z_scores > threshold) | (z_scores < -threshold)\n",
    "\n",
    "num_outliers = outliers.sum()\n",
    "\n",
    "total_records = prices_data.shape[0]\n",
    "proportion_outliers = num_outliers / total_records\n",
    "\n",
    "prices_cleaned_data = prices_data[~outliers.any(axis=1)]\n",
    "\n",
    "prices_cleaned_data.to_csv('prices_cleaned_data.csv', index=False)\n",
    "\n",
    "print(\"Number of outliers filtered:\", num_outliers)\n",
    "print(\"Proportion of outliers filtered:\", proportion_outliers)"
   ]
  },
  {
   "cell_type": "code",
   "execution_count": 23,
   "id": "8f30c620",
   "metadata": {},
   "outputs": [
    {
     "data": {
      "image/png": "[encoded data removed]",
      "text/plain": [
       "<Figure size 950x4275 with 9 Axes>"
      ]
     },
     "metadata": {},
     "output_type": "display_data"
    }
   ],
   "source": [
    "fig, axs = plt.subplots(len(diabetes_data.columns), 1, dpi=95, figsize=(10, 5*len(diabetes_data.columns)), \n",
    "                        gridspec_kw={'hspace': 0.5})\n",
    "\n",
    "for i, col in enumerate(diabetes_data.columns):\n",
    "    axs[i].boxplot(diabetes_data[col], vert=False)\n",
    "    axs[i].set_ylabel(col)\n",
    "    axs[i].tick_params(axis='x', rotation=45)  \n",
    "\n",
    "plt.show()"
   ]
  },
  {
   "cell_type": "code",
   "execution_count": 24,
   "id": "abf80fc7",
   "metadata": {},
   "outputs": [
    {
     "name": "stdout",
     "output_type": "stream",
     "text": [
      "Number of outliers filtered: gender                   18\n",
      "age                       0\n",
      "hypertension           7485\n",
      "heart_disease          3942\n",
      "smoking_history           0\n",
      "bmi                    1294\n",
      "HbA1c_level            1315\n",
      "blood_glucose_level    1403\n",
      "diabetes               8500\n",
      "dtype: int64\n",
      "Proportion of outliers filtered: gender                 0.00018\n",
      "age                    0.00000\n",
      "hypertension           0.07485\n",
      "heart_disease          0.03942\n",
      "smoking_history        0.00000\n",
      "bmi                    0.01294\n",
      "HbA1c_level            0.01315\n",
      "blood_glucose_level    0.01403\n",
      "diabetes               0.08500\n",
      "dtype: float64\n"
     ]
    }
   ],
   "source": [
    "z_scores = stats.zscore(diabetes_data)\n",
    "\n",
    "threshold = 3\n",
    "\n",
    "outliers = (z_scores > threshold) | (z_scores < -threshold)\n",
    "\n",
    "num_outliers = outliers.sum()\n",
    "\n",
    "total_records = diabetes_data.shape[0]\n",
    "proportion_outliers = num_outliers / total_records\n",
    "\n",
    "diabetes_cleaned_data = diabetes_data[~outliers.any(axis=1)]\n",
    "\n",
    "diabetes_cleaned_data.to_csv('diabetes_cleaned_data.csv', index=False)\n",
    "\n",
    "print(\"Number of outliers filtered:\", num_outliers)\n",
    "print(\"Proportion of outliers filtered:\", proportion_outliers)"
   ]
  },
  {
   "cell_type": "markdown",
   "id": "16304cae",
   "metadata": {},
   "source": [
    "### Number of independent and dependent variables"
   ]
  },
  {
   "cell_type": "code",
   "execution_count": 25,
   "id": "50c71de7",
   "metadata": {},
   "outputs": [
    {
     "name": "stdout",
     "output_type": "stream",
     "text": [
      "Number of independent variables: 9\n",
      "Number of dependent variables: 1\n"
     ]
    }
   ],
   "source": [
    "num_independent_variables_movies_data = len(movies_data.columns) - 1\n",
    "num_dependent_variables_movies_data = 1\n",
    "\n",
    "print(\"Number of independent variables:\", num_independent_variables_movies_data)\n",
    "print(\"Number of dependent variables:\", num_dependent_variables_movies_data)"
   ]
  },
  {
   "cell_type": "code",
   "execution_count": 26,
   "id": "5ca50f2a",
   "metadata": {},
   "outputs": [
    {
     "name": "stdout",
     "output_type": "stream",
     "text": [
      "Number of independent variables: 6\n",
      "Number of dependent variables: 1\n"
     ]
    }
   ],
   "source": [
    "num_independent_variables_prices_data = len(prices_data.columns) - 1\n",
    "num_dependent_variables_prices_data = 1\n",
    "\n",
    "print(\"Number of independent variables:\", num_independent_variables_prices_data)\n",
    "print(\"Number of dependent variables:\", num_dependent_variables_prices_data)"
   ]
  },
  {
   "cell_type": "code",
   "execution_count": 27,
   "id": "e70b432d",
   "metadata": {},
   "outputs": [
    {
     "name": "stdout",
     "output_type": "stream",
     "text": [
      "Number of independent variables: 8\n",
      "Number of dependent variables: 1\n"
     ]
    }
   ],
   "source": [
    "num_independent_variables_diabetes_data = len(diabetes_data.columns) - 1\n",
    "num_dependent_variables_diabetes_data = 1\n",
    "\n",
    "print(\"Number of independent variables:\", num_independent_variables_diabetes_data)\n",
    "print(\"Number of dependent variables:\", num_dependent_variables_diabetes_data)"
   ]
  },
  {
   "cell_type": "markdown",
   "id": "2dbe9e37",
   "metadata": {},
   "source": [
    "### Number and proportion of duplications removed and technique employed towards duplication removing"
   ]
  },
  {
   "cell_type": "code",
   "execution_count": 28,
   "id": "cd831296",
   "metadata": {},
   "outputs": [
    {
     "name": "stdout",
     "output_type": "stream",
     "text": [
      "Number of duplicate records removed: 6\n",
      "Proportion of duplicates removed: 0.00038689708537529015\n"
     ]
    }
   ],
   "source": [
    "num_records_before = len(movies_data)\n",
    "\n",
    "movies_data.drop_duplicates(inplace=True)\n",
    "\n",
    "num_records_after = len(movies_data)\n",
    "\n",
    "num_duplicates_removed = num_records_before - num_records_after\n",
    "\n",
    "proportion_duplicates_removed = num_duplicates_removed / num_records_before\n",
    "\n",
    "print(\"Number of duplicate records removed:\", num_duplicates_removed)\n",
    "print(\"Proportion of duplicates removed:\", proportion_duplicates_removed)"
   ]
  },
  {
   "cell_type": "code",
   "execution_count": 29,
   "id": "ad428857",
   "metadata": {},
   "outputs": [
    {
     "name": "stdout",
     "output_type": "stream",
     "text": [
      "Number of duplicate records removed: 0\n",
      "Proportion of duplicates removed: 0.0\n"
     ]
    }
   ],
   "source": [
    "num_records_before = len(prices_data)\n",
    "\n",
    "prices_data.drop_duplicates(inplace=True)\n",
    "\n",
    "num_records_after = len(prices_data)\n",
    "\n",
    "num_duplicates_removed = num_records_before - num_records_after\n",
    "\n",
    "proportion_duplicates_removed = num_duplicates_removed / num_records_before\n",
    "\n",
    "print(\"Number of duplicate records removed:\", num_duplicates_removed)\n",
    "print(\"Proportion of duplicates removed:\", proportion_duplicates_removed)"
   ]
  },
  {
   "cell_type": "code",
   "execution_count": 30,
   "id": "6840fbb6",
   "metadata": {},
   "outputs": [
    {
     "name": "stdout",
     "output_type": "stream",
     "text": [
      "Number of duplicate records removed: 3854\n",
      "Proportion of duplicates removed: 0.03854\n"
     ]
    }
   ],
   "source": [
    "num_records_before = len(diabetes_data)\n",
    "\n",
    "diabetes_data.drop_duplicates(inplace=True)\n",
    "\n",
    "num_records_after = len(diabetes_data)\n",
    "\n",
    "num_duplicates_removed = num_records_before - num_records_after\n",
    "\n",
    "proportion_duplicates_removed = num_duplicates_removed / num_records_before\n",
    "\n",
    "print(\"Number of duplicate records removed:\", num_duplicates_removed)\n",
    "print(\"Proportion of duplicates removed:\", proportion_duplicates_removed)"
   ]
  },
  {
   "cell_type": "code",
   "execution_count": 31,
   "id": "a91cd69a",
   "metadata": {},
   "outputs": [
    {
     "name": "stdout",
     "output_type": "stream",
     "text": [
      "Data Types:\n",
      "Name          int32\n",
      "Year        float64\n",
      "Duration      int32\n",
      "Genre         int32\n",
      "Rating        int64\n",
      "Votes        object\n",
      "Director      int32\n",
      "Actor 1       int32\n",
      "Actor 2       int32\n",
      "Actor 3       int32\n",
      "dtype: object\n",
      "\n",
      "Binary Features: []\n",
      "\n",
      "Nominal Features: []\n",
      "\n",
      "Categorical Features: ['Name', 'Duration', 'Genre', 'Director', 'Actor 1', 'Actor 2', 'Actor 3']\n",
      "\n",
      "Textual Features: ['Votes']\n",
      "\n",
      "Numerical Features: ['Year', 'Rating']\n"
     ]
    }
   ],
   "source": [
    "print(\"Data Types:\")\n",
    "print(movies_data.dtypes)\n",
    "\n",
    "binary_features = []\n",
    "nominal_features = []\n",
    "categorical_features = []\n",
    "textual_features = []\n",
    "numerical_features = []\n",
    "\n",
    "for col in movies_data.columns:\n",
    "    if movies_data[col].nunique() == 2: \n",
    "        binary_features.append(col)\n",
    "    elif movies_data[col].dtype == 'object': \n",
    "        if movies_data[col].nunique() < 10:  \n",
    "            nominal_features.append(col)\n",
    "        else:\n",
    "            textual_features.append(col)\n",
    "    elif movies_data[col].dtype == np.int64 or movies_data[col].dtype == np.float64:  \n",
    "        numerical_features.append(col)\n",
    "    else:\n",
    "        categorical_features.append(col) \n",
    "\n",
    "print(\"\\nBinary Features:\", binary_features)\n",
    "print(\"\\nNominal Features:\", nominal_features)\n",
    "print(\"\\nCategorical Features:\", categorical_features)\n",
    "print(\"\\nTextual Features:\", textual_features)\n",
    "print(\"\\nNumerical Features:\", numerical_features)"
   ]
  },
  {
   "cell_type": "code",
   "execution_count": 32,
   "id": "87450dc8",
   "metadata": {},
   "outputs": [
    {
     "name": "stdout",
     "output_type": "stream",
     "text": [
      "Data Types:\n",
      "State                   int32\n",
      "City                    int32\n",
      "Year                    int64\n",
      "Month                   int64\n",
      "Day                     int64\n",
      "Store type              int32\n",
      "Price per kilogram    float64\n",
      "dtype: object\n",
      "\n",
      "Binary Features: ['Store type']\n",
      "\n",
      "Nominal Features: []\n",
      "\n",
      "Categorical Features: ['State', 'City']\n",
      "\n",
      "Textual Features: []\n",
      "\n",
      "Numerical Features: ['Year', 'Month', 'Day', 'Price per kilogram']\n"
     ]
    }
   ],
   "source": [
    "print(\"Data Types:\")\n",
    "print(prices_data.dtypes)\n",
    "\n",
    "binary_features = []\n",
    "nominal_features = []\n",
    "categorical_features = []\n",
    "textual_features = []\n",
    "numerical_features = []\n",
    "\n",
    "for col in prices_data.columns:\n",
    "    if prices_data[col].nunique() == 2: \n",
    "        binary_features.append(col)\n",
    "    elif prices_data[col].dtype == 'object': \n",
    "        if prices_data[col].nunique() < 10:  \n",
    "            nominal_features.append(col)\n",
    "        else:\n",
    "            textual_features.append(col)\n",
    "    elif prices_data[col].dtype == np.int64 or prices_data[col].dtype == np.float64:  \n",
    "        numerical_features.append(col)\n",
    "    else:\n",
    "        categorical_features.append(col) \n",
    "\n",
    "print(\"\\nBinary Features:\", binary_features)\n",
    "print(\"\\nNominal Features:\", nominal_features)\n",
    "print(\"\\nCategorical Features:\", categorical_features)\n",
    "print(\"\\nTextual Features:\", textual_features)\n",
    "print(\"\\nNumerical Features:\", numerical_features)"
   ]
  },
  {
   "cell_type": "code",
   "execution_count": 33,
   "id": "1f84c29c",
   "metadata": {},
   "outputs": [
    {
     "name": "stdout",
     "output_type": "stream",
     "text": [
      "Data Types:\n",
      "gender                   int32\n",
      "age                    float64\n",
      "hypertension             int64\n",
      "heart_disease            int64\n",
      "smoking_history          int32\n",
      "bmi                    float64\n",
      "HbA1c_level            float64\n",
      "blood_glucose_level      int64\n",
      "diabetes                 int64\n",
      "dtype: object\n",
      "\n",
      "Binary Features: ['hypertension', 'heart_disease', 'diabetes']\n",
      "\n",
      "Nominal Features: []\n",
      "\n",
      "Categorical Features: ['gender', 'smoking_history']\n",
      "\n",
      "Textual Features: []\n",
      "\n",
      "Numerical Features: ['age', 'bmi', 'HbA1c_level', 'blood_glucose_level']\n"
     ]
    }
   ],
   "source": [
    "print(\"Data Types:\")\n",
    "print(diabetes_data.dtypes)\n",
    "\n",
    "binary_features = []\n",
    "nominal_features = []\n",
    "categorical_features = []\n",
    "textual_features = []\n",
    "numerical_features = []\n",
    "\n",
    "for col in diabetes_data.columns:\n",
    "    if diabetes_data[col].nunique() == 2: \n",
    "        binary_features.append(col)\n",
    "    elif diabetes_data[col].dtype == 'object': \n",
    "        if diabetes_data[col].nunique() < 10:  \n",
    "            nominal_features.append(col)\n",
    "        else:\n",
    "            textual_features.append(col)\n",
    "    elif diabetes_data[col].dtype == np.int64 or diabetes_data[col].dtype == np.float64:  \n",
    "        numerical_features.append(col)\n",
    "    else:\n",
    "        categorical_features.append(col) \n",
    "\n",
    "print(\"\\nBinary Features:\", binary_features)\n",
    "print(\"\\nNominal Features:\", nominal_features)\n",
    "print(\"\\nCategorical Features:\", categorical_features)\n",
    "print(\"\\nTextual Features:\", textual_features)\n",
    "print(\"\\nNumerical Features:\", numerical_features)"
   ]
  },
  {
   "cell_type": "markdown",
   "id": "dc87f8fc",
   "metadata": {},
   "source": [
    "### Dimensionality reduction based on PCA/OLS and self-observation"
   ]
  },
  {
   "cell_type": "code",
   "execution_count": 34,
   "id": "bc9f9f5a",
   "metadata": {},
   "outputs": [
    {
     "name": "stdout",
     "output_type": "stream",
     "text": [
      "Number of components retained after PCA: 2\n",
      "\n",
      "\n",
      "Number of total data instances: 278886\n",
      "Number of instances normalized: 278886\n",
      "Proportion of total data instances that are normalized: 1.0\n",
      "Technique used for normalization: StandardScaler\n"
     ]
    }
   ],
   "source": [
    "X = prices_data.drop(columns=['Price per kilogram']) \n",
    "y = prices_data['Price per kilogram']  \n",
    "\n",
    "scaler = StandardScaler()\n",
    "pca = PCA(n_components=2) \n",
    "\n",
    "X_scaled = scaler.fit_transform(X)\n",
    "\n",
    "X_reduced_pca = pca.fit_transform(X_scaled)\n",
    "\n",
    "print(\"Number of components retained after PCA:\", pca.n_components_)\n",
    "\n",
    "X_normalized = scaler.fit_transform(X)\n",
    "total_instances = X.shape[0]\n",
    "instances_normalized = X_normalized.shape[0]\n",
    "proportion_normalized = instances_normalized / total_instances\n",
    "technique_used = scaler.__class__.__name__\n",
    "\n",
    "print(\"\\n\\nNumber of total data instances:\", total_instances)\n",
    "print(\"Number of instances normalized:\", instances_normalized)\n",
    "print(\"Proportion of total data instances that are normalized:\", proportion_normalized)\n",
    "print(\"Technique used for normalization:\", technique_used)"
   ]
  },
  {
   "cell_type": "code",
   "execution_count": 35,
   "id": "969c3c7c",
   "metadata": {},
   "outputs": [
    {
     "name": "stdout",
     "output_type": "stream",
     "text": [
      "                            OLS Regression Results                            \n",
      "==============================================================================\n",
      "Dep. Variable:     Price per kilogram   R-squared:                         nan\n",
      "Model:                            OLS   Adj. R-squared:                    nan\n",
      "Method:                 Least Squares   F-statistic:                       nan\n",
      "Date:                Mon, 14 Oct 2024   Prob (F-statistic):                nan\n",
      "Time:                        18:07:28   Log-Likelihood:                    nan\n",
      "No. Observations:              278886   AIC:                               nan\n",
      "Df Residuals:                  278879   BIC:                               nan\n",
      "Df Model:                           6                                         \n",
      "Covariance Type:            nonrobust                                         \n",
      "==============================================================================\n",
      "                 coef    std err          t      P>|t|      [0.025      0.975]\n",
      "------------------------------------------------------------------------------\n",
      "const             nan        nan        nan        nan         nan         nan\n",
      "State             nan        nan        nan        nan         nan         nan\n",
      "City              nan        nan        nan        nan         nan         nan\n",
      "Year              nan        nan        nan        nan         nan         nan\n",
      "Month             nan        nan        nan        nan         nan         nan\n",
      "Day               nan        nan        nan        nan         nan         nan\n",
      "Store type        nan        nan        nan        nan         nan         nan\n",
      "==============================================================================\n",
      "Omnibus:                          nan   Durbin-Watson:                     nan\n",
      "Prob(Omnibus):                    nan   Jarque-Bera (JB):                  nan\n",
      "Skew:                             nan   Prob(JB):                          nan\n",
      "Kurtosis:                         nan   Cond. No.                     8.27e+05\n",
      "==============================================================================\n",
      "\n",
      "Notes:\n",
      "[1] Standard Errors assume that the covariance matrix of the errors is correctly specified.\n",
      "[2] The condition number is large, 8.27e+05. This might indicate that there are\n",
      "strong multicollinearity or other numerical problems.\n"
     ]
    }
   ],
   "source": [
    "X_with_const = sm.add_constant(X)\n",
    "\n",
    "ols_model = sm.OLS(y, X_with_const).fit()\n",
    "\n",
    "print(ols_model.summary())"
   ]
  },
  {
   "cell_type": "code",
   "execution_count": 36,
   "id": "d10e3a02",
   "metadata": {},
   "outputs": [],
   "source": [
    "selected_features = ['State', 'City', 'Year', 'Month', 'Day', 'Store type']\n",
    "\n",
    "X_self_observation = X[selected_features]"
   ]
  },
  {
   "cell_type": "code",
   "execution_count": 37,
   "id": "6aa482d9",
   "metadata": {},
   "outputs": [
    {
     "name": "stdout",
     "output_type": "stream",
     "text": [
      "Number of components retained after PCA: 2\n",
      "\n",
      "\n",
      "Number of total data instances: 96146\n",
      "Number of instances normalized: 96146\n",
      "Proportion of total data instances that are normalized: 1.0\n",
      "Technique used for normalization: StandardScaler\n"
     ]
    }
   ],
   "source": [
    "X = diabetes_data.drop(columns=['diabetes'])  \n",
    "y = diabetes_data['diabetes']     \n",
    "\n",
    "X_scaled = scaler.fit_transform(X)\n",
    "\n",
    "X_reduced_pca = pca.fit_transform(X_scaled)\n",
    "\n",
    "print(\"Number of components retained after PCA:\", pca.n_components_)\n",
    "\n",
    "X_normalized = scaler.fit_transform(X)\n",
    "total_instances = X.shape[0]\n",
    "instances_normalized = X_normalized.shape[0]\n",
    "proportion_normalized = instances_normalized / total_instances\n",
    "technique_used = scaler.__class__.__name__\n",
    "\n",
    "print(\"\\n\\nNumber of total data instances:\", total_instances)\n",
    "print(\"Number of instances normalized:\", instances_normalized)\n",
    "print(\"Proportion of total data instances that are normalized:\", proportion_normalized)\n",
    "print(\"Technique used for normalization:\", technique_used)"
   ]
  },
  {
   "cell_type": "code",
   "execution_count": 38,
   "id": "e1a689e5",
   "metadata": {},
   "outputs": [
    {
     "name": "stdout",
     "output_type": "stream",
     "text": [
      "                            OLS Regression Results                            \n",
      "==============================================================================\n",
      "Dep. Variable:               diabetes   R-squared:                       0.354\n",
      "Model:                            OLS   Adj. R-squared:                  0.354\n",
      "Method:                 Least Squares   F-statistic:                     6587.\n",
      "Date:                Mon, 14 Oct 2024   Prob (F-statistic):               0.00\n",
      "Time:                        18:07:29   Log-Likelihood:                 5741.3\n",
      "No. Observations:               96146   AIC:                        -1.146e+04\n",
      "Df Residuals:                   96137   BIC:                        -1.138e+04\n",
      "Df Model:                           8                                         \n",
      "Covariance Type:            nonrobust                                         \n",
      "=======================================================================================\n",
      "                          coef    std err          t      P>|t|      [0.025      0.975]\n",
      "---------------------------------------------------------------------------------------\n",
      "const                  -0.8876      0.005   -175.370      0.000      -0.898      -0.878\n",
      "gender                  0.0141      0.002      9.390      0.000       0.011       0.017\n",
      "age                     0.0015   3.74e-05     39.221      0.000       0.001       0.002\n",
      "hypertension            0.0916      0.003     32.008      0.000       0.086       0.097\n",
      "heart_disease           0.1137      0.004     29.475      0.000       0.106       0.121\n",
      "smoking_history         0.0016      0.000      4.041      0.000       0.001       0.002\n",
      "bmi                     0.0041      0.000     35.207      0.000       0.004       0.004\n",
      "HbA1c_level             0.0833      0.001    118.945      0.000       0.082       0.085\n",
      "blood_glucose_level     0.0023   1.84e-05    125.970      0.000       0.002       0.002\n",
      "==============================================================================\n",
      "Omnibus:                    30810.751   Durbin-Watson:                   2.004\n",
      "Prob(Omnibus):                  0.000   Jarque-Bera (JB):            92009.389\n",
      "Skew:                           1.688   Prob(JB):                         0.00\n",
      "Kurtosis:                       6.402   Cond. No.                     1.06e+03\n",
      "==============================================================================\n",
      "\n",
      "Notes:\n",
      "[1] Standard Errors assume that the covariance matrix of the errors is correctly specified.\n",
      "[2] The condition number is large, 1.06e+03. This might indicate that there are\n",
      "strong multicollinearity or other numerical problems.\n"
     ]
    }
   ],
   "source": [
    "X_with_const = sm.add_constant(X)\n",
    "\n",
    "ols_model = sm.OLS(y, X_with_const).fit()\n",
    "\n",
    "print(ols_model.summary())"
   ]
  },
  {
   "cell_type": "code",
   "execution_count": 39,
   "id": "32b93981",
   "metadata": {},
   "outputs": [],
   "source": [
    "selected_features = ['gender', 'age', 'hypertension', 'heart_disease', 'smoking_history', 'bmi', 'HbA1c_level', 'blood_glucose_level']\n",
    "  \n",
    "X_self_observation = X[selected_features]"
   ]
  },
  {
   "cell_type": "markdown",
   "id": "1e5df51c",
   "metadata": {},
   "source": [
    "### First four characteristics of datasets after performing data cleaning steps."
   ]
  },
  {
   "cell_type": "code",
   "execution_count": 40,
   "id": "bdc61139",
   "metadata": {},
   "outputs": [
    {
     "name": "stdout",
     "output_type": "stream",
     "text": [
      "\n",
      "Number of columns (variables): 10\n",
      "\n",
      "Data types of combination:\n",
      "- Binary features: None\n",
      "- Nominal features: None\n",
      "- Categorical features: None\n",
      "- Textual features: None\n",
      "- Numerical features: None\n",
      "\n",
      "Summary statistics:\n",
      "               Name          Year      Duration         Genre        Rating  \\\n",
      "count  15502.000000  14976.000000  15502.000000  15502.000000  15502.000000   \n",
      "mean    6901.084957  -1987.006677    123.444459    271.511934     63.779061   \n",
      "std     3994.681359     25.417491     71.264113    164.406380     22.114309   \n",
      "min        0.000000  -2022.000000      0.000000      0.000000      0.000000   \n",
      "25%     3443.250000  -2009.000000     43.000000    163.000000     46.000000   \n",
      "50%     6901.000000  -1991.000000    182.000000    299.000000     69.000000   \n",
      "75%    10367.750000  -1968.000000    182.000000    409.000000     84.000000   \n",
      "max    13836.000000  -1913.000000    182.000000    485.000000     84.000000   \n",
      "\n",
      "           Director       Actor 1       Actor 2       Actor 3  \n",
      "count  15502.000000  15502.000000  15502.000000  15502.000000  \n",
      "mean    2987.293769   2573.779383   2831.962585   2868.607018  \n",
      "std     1717.586860   1456.438734   1542.416255   1555.133782  \n",
      "min        0.000000      0.000000      0.000000      0.000000  \n",
      "25%     1530.250000   1301.250000   1518.000000   1541.250000  \n",
      "50%     2920.500000   2580.000000   2876.000000   2905.000000  \n",
      "75%     4415.750000   3821.000000   4286.000000   4488.000000  \n",
      "max     5938.000000   4718.000000   4891.000000   4820.000000  \n"
     ]
    }
   ],
   "source": [
    "num_columns = movies_data.shape[1]\n",
    "\n",
    "data_types = {'Binary': [], 'Nominal': [], 'Categorical': [], 'Textual': [], 'Numerical': []}\n",
    "\n",
    "summary_statistics = movies_data.describe()\n",
    "\n",
    "print(\"\\nNumber of columns (variables):\", num_columns)\n",
    "print(\"\\nData types of combination:\")\n",
    "for data_type, features in data_types.items():\n",
    "    if features:\n",
    "        print(f\"- {data_type} features: {', '.join(features)}\")\n",
    "    else:\n",
    "        print(f\"- {data_type} features: None\")\n",
    "    \n",
    "print(\"\\nSummary statistics:\")\n",
    "print(summary_statistics)"
   ]
  },
  {
   "cell_type": "code",
   "execution_count": 41,
   "id": "903990f2",
   "metadata": {},
   "outputs": [
    {
     "name": "stdout",
     "output_type": "stream",
     "text": [
      "\n",
      "Number of columns (variables): 7\n",
      "\n",
      "Data types of combination:\n",
      "- Binary features: None\n",
      "- Nominal features: None\n",
      "- Categorical features: None\n",
      "- Textual features: None\n",
      "- Numerical features: None\n",
      "\n",
      "Summary statistics:\n",
      "               State           City           Year          Month  \\\n",
      "count  278886.000000  278886.000000  278886.000000  278886.000000   \n",
      "mean       16.228118      27.352402    2015.080015       6.384781   \n",
      "std         9.364183      16.248063       4.912392       3.440216   \n",
      "min         0.000000       0.000000    2007.000000       1.000000   \n",
      "25%         8.000000      13.000000    2011.000000       3.000000   \n",
      "50%        16.000000      27.000000    2015.000000       6.000000   \n",
      "75%        25.000000      42.000000    2019.000000       9.000000   \n",
      "max        31.000000      55.000000    2024.000000      12.000000   \n",
      "\n",
      "                 Day     Store type  Price per kilogram  \n",
      "count  278886.000000  278886.000000       272496.000000  \n",
      "mean       15.951955       0.502460           12.054586  \n",
      "std         8.755248       0.499995            4.336487  \n",
      "min         1.000000       0.000000            0.000000  \n",
      "25%         8.000000       0.000000            9.570000  \n",
      "50%        16.000000       1.000000           11.170000  \n",
      "75%        24.000000       1.000000           14.000000  \n",
      "max        31.000000       1.000000           31.000000  \n"
     ]
    }
   ],
   "source": [
    "num_columns = prices_cleaned_data.shape[1]\n",
    "\n",
    "data_types = {'Binary': [], 'Nominal': [], 'Categorical': [], 'Textual': [], 'Numerical': []}\n",
    "\n",
    "summary_statistics = prices_cleaned_data.describe()\n",
    "\n",
    "print(\"\\nNumber of columns (variables):\", num_columns)\n",
    "print(\"\\nData types of combination:\")\n",
    "for data_type, features in data_types.items():\n",
    "    if features:\n",
    "        print(f\"- {data_type} features: {', '.join(features)}\")\n",
    "    else:\n",
    "        print(f\"- {data_type} features: None\")\n",
    "    \n",
    "print(\"\\nSummary statistics:\")\n",
    "print(summary_statistics)"
   ]
  },
  {
   "cell_type": "code",
   "execution_count": 42,
   "id": "020a8ff6",
   "metadata": {},
   "outputs": [
    {
     "name": "stdout",
     "output_type": "stream",
     "text": [
      "\n",
      "Number of columns (variables): 9\n",
      "\n",
      "Data types of combination:\n",
      "- Binary features: None\n",
      "- Nominal features: None\n",
      "- Categorical features: None\n",
      "- Textual features: None\n",
      "- Numerical features: None\n",
      "\n",
      "Summary statistics:\n",
      "             gender           age  hypertension  heart_disease  \\\n",
      "count  96146.000000  96146.000000  96146.000000   96146.000000   \n",
      "mean       0.416065     41.794326      0.077601       0.040803   \n",
      "std        0.493287     22.462948      0.267544       0.197833   \n",
      "min        0.000000      0.080000      0.000000       0.000000   \n",
      "25%        0.000000     24.000000      0.000000       0.000000   \n",
      "50%        0.000000     43.000000      0.000000       0.000000   \n",
      "75%        1.000000     59.000000      0.000000       0.000000   \n",
      "max        2.000000     80.000000      1.000000       1.000000   \n",
      "\n",
      "       smoking_history           bmi   HbA1c_level  blood_glucose_level  \\\n",
      "count     96146.000000  96146.000000  96146.000000         96146.000000   \n",
      "mean          2.231159     27.321461      5.532609           138.218231   \n",
      "std           1.879963      6.767716      1.073232            40.909771   \n",
      "min           0.000000     10.010000      3.500000            80.000000   \n",
      "25%           0.000000     23.400000      4.800000           100.000000   \n",
      "50%           3.000000     27.320000      5.800000           140.000000   \n",
      "75%           4.000000     29.860000      6.200000           159.000000   \n",
      "max           5.000000     95.690000      9.000000           300.000000   \n",
      "\n",
      "           diabetes  \n",
      "count  96146.000000  \n",
      "mean       0.088220  \n",
      "std        0.283616  \n",
      "min        0.000000  \n",
      "25%        0.000000  \n",
      "50%        0.000000  \n",
      "75%        0.000000  \n",
      "max        1.000000  \n"
     ]
    }
   ],
   "source": [
    "num_columns = diabetes_data.shape[1]\n",
    "\n",
    "data_types = {'Binary': [], 'Nominal': [], 'Categorical': [], 'Textual': [], 'Numerical': []}\n",
    "\n",
    "summary_statistics = diabetes_data.describe()\n",
    "\n",
    "print(\"\\nNumber of columns (variables):\", num_columns)\n",
    "print(\"\\nData types of combination:\")\n",
    "for data_type, features in data_types.items():\n",
    "    if features:\n",
    "        print(f\"- {data_type} features: {', '.join(features)}\")\n",
    "    else:\n",
    "        print(f\"- {data_type} features: None\")\n",
    "    \n",
    "print(\"\\nSummary statistics:\")\n",
    "print(summary_statistics)"
   ]
  },
  {
   "cell_type": "markdown",
   "id": "a3f65383",
   "metadata": {},
   "source": [
    "### Data balancing characteristics and splitting"
   ]
  },
  {
   "cell_type": "code",
   "execution_count": 43,
   "id": "f33df945",
   "metadata": {},
   "outputs": [
    {
     "name": "stdout",
     "output_type": "stream",
     "text": [
      "\n",
      "Number of records in the training set: 67302\n",
      "Number of records in the testing set: 28844\n"
     ]
    }
   ],
   "source": [
    "\n",
    "\n",
    "X_train, X_test, y_train, y_test = train_test_split(X, y, test_size=0.3, random_state=42)\n",
    "\n",
    "print(\"\\nNumber of records in the training set:\", len(X_train))\n",
    "print(\"Number of records in the testing set:\", len(X_test))"
   ]
  },
  {
   "cell_type": "code",
   "execution_count": 44,
   "id": "f328731d",
   "metadata": {},
   "outputs": [
    {
     "name": "stdout",
     "output_type": "stream",
     "text": [
      "Accuracy for Technique 1: 0.9512896962973235\n",
      "\n",
      "\n",
      "Confusion Matrix for Technique 1:\n",
      "[[26163   104]\n",
      " [ 1301  1276]]\n",
      "\n",
      "Precision for Technique 1: 0.9501280861123517\n",
      "Recall for Technique 1: 0.9512896962973235\n",
      "F1 Score for Technique 1: 0.9444647920619629\n"
     ]
    }
   ],
   "source": [
    "# Technique 1\n",
    "model_1 = KNeighborsClassifier(n_neighbors=9)\n",
    "model_1.fit(X_train, y_train)\n",
    "predictions_1 = model_1.predict(X_test)\n",
    "accuracy_1 = accuracy_score(y_test, predictions_1)\n",
    "\n",
    "\n",
    "print(\"Accuracy for Technique 1:\", accuracy_1)\n",
    "\n",
    "conf_matrix_1 = confusion_matrix(y_test, predictions_1)\n",
    "precision_1 = precision_score(y_test, predictions_1, average='weighted')\n",
    "recall_1 = recall_score(y_test, predictions_1, average='weighted')\n",
    "f1_1 = f1_score(y_test, predictions_1, average='weighted')\n",
    "\n",
    "\n",
    "print(\"\\n\\nConfusion Matrix for Technique 1:\")\n",
    "print(conf_matrix_1)\n",
    "print(\"\\nPrecision for Technique 1:\", precision_1)\n",
    "print(\"Recall for Technique 1:\", recall_1)\n",
    "print(\"F1 Score for Technique 1:\", f1_1)"
   ]
  },
  {
   "cell_type": "code",
   "execution_count": 45,
   "id": "f064ff6b",
   "metadata": {},
   "outputs": [
    {
     "name": "stdout",
     "output_type": "stream",
     "text": [
      "Accuracy for Technique 2 (Decision Tree Classifier): 0.9493828872555817\n",
      "\n",
      "Confusion Matrix for Technique 2:\n",
      "[[25454   813]\n",
      " [  647  1930]]\n",
      "\n",
      "Precision for Technique 2: 0.9509459857667061\n",
      "Recall for Technique 2: 0.9493828872555817\n",
      "F1 Score for Technique 2: 0.9500923653769894\n"
     ]
    }
   ],
   "source": [
    "# Technique 2: Decision Tree Classifier\n",
    "model_2 = DecisionTreeClassifier()\n",
    "model_2.fit(X_train, y_train)\n",
    "predictions_2 = model_2.predict(X_test)\n",
    "accuracy_2 = accuracy_score(y_test, predictions_2)\n",
    "\n",
    "conf_matrix_2 = confusion_matrix(y_test, predictions_2)\n",
    "precision_2 = precision_score(y_test, predictions_2, average='weighted')\n",
    "recall_2 = recall_score(y_test, predictions_2, average='weighted')\n",
    "f1_2 = f1_score(y_test, predictions_2, average='weighted')\n",
    "\n",
    "print(\"Accuracy for Technique 2 (Decision Tree Classifier):\", accuracy_2)\n",
    "\n",
    "print(\"\\nConfusion Matrix for Technique 2:\")\n",
    "print(conf_matrix_2)\n",
    "print(\"\\nPrecision for Technique 2:\", precision_2)\n",
    "print(\"Recall for Technique 2:\", recall_2)\n",
    "print(\"F1 Score for Technique 2:\", f1_2)"
   ]
  },
  {
   "cell_type": "code",
   "execution_count": 46,
   "id": "41cc4f2c",
   "metadata": {},
   "outputs": [
    {
     "name": "stdout",
     "output_type": "stream",
     "text": [
      "Comparison of Model Performances:\n"
     ]
    },
    {
     "data": {
      "text/html": [
       "<div>\n",
       "<style scoped>\n",
       "    .dataframe tbody tr th:only-of-type {\n",
       "        vertical-align: middle;\n",
       "    }\n",
       "\n",
       "    .dataframe tbody tr th {\n",
       "        vertical-align: top;\n",
       "    }\n",
       "\n",
       "    .dataframe thead th {\n",
       "        text-align: right;\n",
       "    }\n",
       "</style>\n",
       "<table border=\"1\" class=\"dataframe\">\n",
       "  <thead>\n",
       "    <tr style=\"text-align: right;\">\n",
       "      <th></th>\n",
       "      <th>Technique</th>\n",
       "      <th>Accuracy</th>\n",
       "      <th>Precision</th>\n",
       "      <th>Recall</th>\n",
       "      <th>F1 Score</th>\n",
       "    </tr>\n",
       "  </thead>\n",
       "  <tbody>\n",
       "    <tr>\n",
       "      <th>0</th>\n",
       "      <td>KNN (k=9)</td>\n",
       "      <td>0.951290</td>\n",
       "      <td>0.950128</td>\n",
       "      <td>0.951290</td>\n",
       "      <td>0.944465</td>\n",
       "    </tr>\n",
       "    <tr>\n",
       "      <th>1</th>\n",
       "      <td>Decision Tree</td>\n",
       "      <td>0.949383</td>\n",
       "      <td>0.950946</td>\n",
       "      <td>0.949383</td>\n",
       "      <td>0.950092</td>\n",
       "    </tr>\n",
       "  </tbody>\n",
       "</table>\n",
       "</div>"
      ],
      "text/plain": [
       "       Technique  Accuracy  Precision    Recall  F1 Score\n",
       "0      KNN (k=9)  0.951290   0.950128  0.951290  0.944465\n",
       "1  Decision Tree  0.949383   0.950946  0.949383  0.950092"
      ]
     },
     "execution_count": 46,
     "metadata": {},
     "output_type": "execute_result"
    }
   ],
   "source": [
    "results = {\n",
    "    'Technique': ['KNN (k=9)', 'Decision Tree'],\n",
    "    'Accuracy': [accuracy_1, accuracy_2],\n",
    "    'Precision': [precision_1, precision_2],\n",
    "    'Recall': [recall_1, recall_2],\n",
    "    'F1 Score': [f1_1, f1_2]\n",
    "}\n",
    "\n",
    "results_df = pd.DataFrame(results)\n",
    "print(\"Comparison of Model Performances:\")\n",
    "results_df"
   ]
  },
  {
   "cell_type": "code",
   "execution_count": 47,
   "id": "fb8774e6",
   "metadata": {},
   "outputs": [
    {
     "name": "stdout",
     "output_type": "stream",
     "text": [
      "\n",
      "Number of records in the training set: 67302\n",
      "Number of records in the testing set: 28844\n"
     ]
    }
   ],
   "source": [
    "\n",
    "X_train, X_test, y_train, y_test = train_test_split(X, y, test_size=0.3, random_state=42)\n",
    "\n",
    "print(\"\\nNumber of records in the training set:\", len(X_train))\n",
    "print(\"Number of records in the testing set:\", len(X_test))"
   ]
  },
  {
   "cell_type": "code",
   "execution_count": 48,
   "id": "04b3a32e",
   "metadata": {},
   "outputs": [
    {
     "name": "stdout",
     "output_type": "stream",
     "text": [
      "Mean Squared Error for Technique 1: 0.03931236742219963\n"
     ]
    }
   ],
   "source": [
    "# Technique 1\n",
    "model_1 = KNeighborsRegressor(n_neighbors=9)\n",
    "model_1.fit(X_train, y_train)\n",
    "predictions_1 = model_1.predict(X_test)\n",
    "mse_1 = mean_squared_error(y_test, predictions_1)\n",
    "\n",
    "\n",
    "print(\"Mean Squared Error for Technique 1:\", mse_1)"
   ]
  },
  {
   "cell_type": "code",
   "execution_count": 49,
   "id": "a279240c",
   "metadata": {},
   "outputs": [
    {
     "name": "stdout",
     "output_type": "stream",
     "text": [
      "Mean Squared Error for Technique 2 (Decision Tree Regressor): 0.0510678130633754\n"
     ]
    }
   ],
   "source": [
    "# Technique 2: Decision Tree Regressor\n",
    "model_2 = DecisionTreeRegressor()\n",
    "model_2.fit(X_train, y_train)\n",
    "predictions_2 = model_2.predict(X_test)\n",
    "mse_2 = mean_squared_error(y_test, predictions_2)\n",
    "\n",
    "print(\"Mean Squared Error for Technique 2 (Decision Tree Regressor):\", mse_2)"
   ]
  },
  {
   "cell_type": "code",
   "execution_count": 50,
   "id": "4f982be6",
   "metadata": {},
   "outputs": [
    {
     "name": "stdout",
     "output_type": "stream",
     "text": [
      "Comparison of Model Performances:\n"
     ]
    },
    {
     "data": {
      "text/html": [
       "<div>\n",
       "<style scoped>\n",
       "    .dataframe tbody tr th:only-of-type {\n",
       "        vertical-align: middle;\n",
       "    }\n",
       "\n",
       "    .dataframe tbody tr th {\n",
       "        vertical-align: top;\n",
       "    }\n",
       "\n",
       "    .dataframe thead th {\n",
       "        text-align: right;\n",
       "    }\n",
       "</style>\n",
       "<table border=\"1\" class=\"dataframe\">\n",
       "  <thead>\n",
       "    <tr style=\"text-align: right;\">\n",
       "      <th></th>\n",
       "      <th>Technique</th>\n",
       "      <th>Mean Squared Error</th>\n",
       "    </tr>\n",
       "  </thead>\n",
       "  <tbody>\n",
       "    <tr>\n",
       "      <th>0</th>\n",
       "      <td>KNN (k=9)</td>\n",
       "      <td>0.039312</td>\n",
       "    </tr>\n",
       "    <tr>\n",
       "      <th>1</th>\n",
       "      <td>Decision Tree</td>\n",
       "      <td>0.051068</td>\n",
       "    </tr>\n",
       "  </tbody>\n",
       "</table>\n",
       "</div>"
      ],
      "text/plain": [
       "       Technique  Mean Squared Error\n",
       "0      KNN (k=9)            0.039312\n",
       "1  Decision Tree            0.051068"
      ]
     },
     "execution_count": 50,
     "metadata": {},
     "output_type": "execute_result"
    }
   ],
   "source": [
    "results = {\n",
    "    'Technique': ['KNN (k=9)', 'Decision Tree'],\n",
    "    'Mean Squared Error': [mse_1, mse_2]\n",
    "}\n",
    "\n",
    "results_df = pd.DataFrame(results)\n",
    "\n",
    "print(\"Comparison of Model Performances:\")\n",
    "results_df"
   ]
  },
  {
   "cell_type": "code",
   "execution_count": 51,
   "id": "09a15a53",
   "metadata": {},
   "outputs": [
    {
     "name": "stdout",
     "output_type": "stream",
     "text": [
      "\n",
      "Number of records in the training set: 58219\n",
      "Number of records in the testing set: 24952\n"
     ]
    }
   ],
   "source": [
    "X = diabetes_cleaned_data.drop(columns=['diabetes'])  \n",
    "y = diabetes_cleaned_data['diabetes']\n",
    "\n",
    "X_train, X_test, y_train, y_test = train_test_split(X, y, test_size=0.3, random_state=42)\n",
    "\n",
    "print(\"\\nNumber of records in the training set:\", len(X_train))\n",
    "print(\"Number of records in the testing set:\", len(X_test))"
   ]
  },
  {
   "cell_type": "code",
   "execution_count": 52,
   "id": "1fa218fd",
   "metadata": {},
   "outputs": [
    {
     "name": "stdout",
     "output_type": "stream",
     "text": [
      "Accuracy for Technique 1: 1.0\n",
      "\n",
      "\n",
      "Confusion Matrix for Technique 1:\n",
      "[[24952]]\n",
      "\n",
      "Precision for Technique 1: 1.0\n",
      "Recall for Technique 1: 1.0\n",
      "F1 Score for Technique 1: 1.0\n"
     ]
    }
   ],
   "source": [
    "# Technique 1\n",
    "model_1 = KNeighborsClassifier(n_neighbors=5)\n",
    "model_1.fit(X_train, y_train)\n",
    "predictions_1 = model_1.predict(X_test)\n",
    "accuracy_1 = accuracy_score(y_test, predictions_1)\n",
    "\n",
    "\n",
    "print(\"Accuracy for Technique 1:\", accuracy_1)\n",
    "\n",
    "conf_matrix_1 = confusion_matrix(y_test, predictions_1)\n",
    "precision_1 = precision_score(y_test, predictions_1, average='weighted')\n",
    "recall_1 = recall_score(y_test, predictions_1, average='weighted')\n",
    "f1_1 = f1_score(y_test, predictions_1, average='weighted')\n",
    "\n",
    "\n",
    "print(\"\\n\\nConfusion Matrix for Technique 1:\")\n",
    "print(conf_matrix_1)\n",
    "print(\"\\nPrecision for Technique 1:\", precision_1)\n",
    "print(\"Recall for Technique 1:\", recall_1)\n",
    "print(\"F1 Score for Technique 1:\", f1_1)"
   ]
  },
  {
   "cell_type": "code",
   "execution_count": 53,
   "id": "e1248992",
   "metadata": {},
   "outputs": [
    {
     "name": "stdout",
     "output_type": "stream",
     "text": [
      "Accuracy for Technique 2 (Decision Tree Classifier): 1.0\n",
      "\n",
      "Confusion Matrix for Technique 2:\n",
      "[[24952]]\n",
      "\n",
      "Precision for Technique 2: 1.0\n",
      "Recall for Technique 2: 1.0\n",
      "F1 Score for Technique 2: 1.0\n"
     ]
    }
   ],
   "source": [
    "# Technique 2: Decision Tree Classifier\n",
    "model_2 = DecisionTreeClassifier()\n",
    "model_2.fit(X_train, y_train)\n",
    "predictions_2 = model_2.predict(X_test)\n",
    "accuracy_2 = accuracy_score(y_test, predictions_2)\n",
    "\n",
    "conf_matrix_2 = confusion_matrix(y_test, predictions_2)\n",
    "precision_2 = precision_score(y_test, predictions_2, average='weighted')\n",
    "recall_2 = recall_score(y_test, predictions_2, average='weighted')\n",
    "f1_2 = f1_score(y_test, predictions_2, average='weighted')\n",
    "\n",
    "print(\"Accuracy for Technique 2 (Decision Tree Classifier):\", accuracy_2)\n",
    "\n",
    "print(\"\\nConfusion Matrix for Technique 2:\")\n",
    "print(conf_matrix_2)\n",
    "print(\"\\nPrecision for Technique 2:\", precision_2)\n",
    "print(\"Recall for Technique 2:\", recall_2)\n",
    "print(\"F1 Score for Technique 2:\", f1_2)"
   ]
  },
  {
   "cell_type": "code",
   "execution_count": 54,
   "id": "497475f9",
   "metadata": {},
   "outputs": [
    {
     "name": "stdout",
     "output_type": "stream",
     "text": [
      "Comparison of Model Performances:\n"
     ]
    },
    {
     "data": {
      "text/html": [
       "<div>\n",
       "<style scoped>\n",
       "    .dataframe tbody tr th:only-of-type {\n",
       "        vertical-align: middle;\n",
       "    }\n",
       "\n",
       "    .dataframe tbody tr th {\n",
       "        vertical-align: top;\n",
       "    }\n",
       "\n",
       "    .dataframe thead th {\n",
       "        text-align: right;\n",
       "    }\n",
       "</style>\n",
       "<table border=\"1\" class=\"dataframe\">\n",
       "  <thead>\n",
       "    <tr style=\"text-align: right;\">\n",
       "      <th></th>\n",
       "      <th>Technique</th>\n",
       "      <th>Accuracy</th>\n",
       "      <th>Precision</th>\n",
       "      <th>Recall</th>\n",
       "      <th>F1 Score</th>\n",
       "    </tr>\n",
       "  </thead>\n",
       "  <tbody>\n",
       "    <tr>\n",
       "      <th>0</th>\n",
       "      <td>KNN (k=9)</td>\n",
       "      <td>1.0</td>\n",
       "      <td>1.0</td>\n",
       "      <td>1.0</td>\n",
       "      <td>1.0</td>\n",
       "    </tr>\n",
       "    <tr>\n",
       "      <th>1</th>\n",
       "      <td>Decision Tree</td>\n",
       "      <td>1.0</td>\n",
       "      <td>1.0</td>\n",
       "      <td>1.0</td>\n",
       "      <td>1.0</td>\n",
       "    </tr>\n",
       "  </tbody>\n",
       "</table>\n",
       "</div>"
      ],
      "text/plain": [
       "       Technique  Accuracy  Precision  Recall  F1 Score\n",
       "0      KNN (k=9)       1.0        1.0     1.0       1.0\n",
       "1  Decision Tree       1.0        1.0     1.0       1.0"
      ]
     },
     "execution_count": 54,
     "metadata": {},
     "output_type": "execute_result"
    }
   ],
   "source": [
    "results = {\n",
    "    'Technique': ['KNN (k=9)', 'Decision Tree'],\n",
    "    'Accuracy': [accuracy_1, accuracy_2],\n",
    "    'Precision': [precision_1, precision_2],\n",
    "    'Recall': [recall_1, recall_2],\n",
    "    'F1 Score': [f1_1, f1_2]\n",
    "}\n",
    "\n",
    "results_df = pd.DataFrame(results)\n",
    "print(\"Comparison of Model Performances:\")\n",
    "results_df"
   ]
  },
  {
   "cell_type": "code",
   "execution_count": null,
   "id": "b6538743",
   "metadata": {},
   "outputs": [],
   "source": []
  },
  {
   "cell_type": "code",
   "execution_count": null,
   "id": "ef2c3dd5",
   "metadata": {},
   "outputs": [],
   "source": []
  },
  {
   "cell_type": "code",
   "execution_count": null,
   "id": "1780fc07",
   "metadata": {},
   "outputs": [],
   "source": []
  },
  {
   "cell_type": "code",
   "execution_count": null,
   "id": "24f10648",
   "metadata": {},
   "outputs": [],
   "source": []
  }
 ],
 "metadata": {
  "kernelspec": {
   "display_name": "Python 3 (ipykernel)",
   "language": "python",
   "name": "python3"
  },
  "language_info": {
   "codemirror_mode": {
    "name": "ipython",
    "version": 3
   },
   "file_extension": ".py",
   "mimetype": "text/x-python",
   "name": "python",
   "nbconvert_exporter": "python",
   "pygments_lexer": "ipython3",
   "version": "3.11.5"
  }
 },
 "nbformat": 4,
 "nbformat_minor": 5
}
